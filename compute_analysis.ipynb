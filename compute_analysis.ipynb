{
 "cells": [
  {
   "cell_type": "markdown",
   "metadata": {},
   "source": [
    "# Setup"
   ]
  },
  {
   "cell_type": "code",
   "execution_count": 1,
   "metadata": {},
   "outputs": [],
   "source": [
    "%load_ext autoreload\n",
    "%autoreload 2"
   ]
  },
  {
   "cell_type": "code",
   "execution_count": 2,
   "metadata": {},
   "outputs": [],
   "source": [
    "from collections import defaultdict\n",
    "from collections.abc import Callable\n",
    "from dataclasses import dataclass\n",
    "import json\n",
    "from itertools import combinations_with_replacement\n",
    "import numpy as np\n",
    "import os\n",
    "import pandas as pd\n",
    "import plotly.express as px\n",
    "import plotly.graph_objects as go\n",
    "from scipy.stats import chi2\n",
    "from sklearn.model_selection import KFold\n",
    "import statsmodels.api as sm\n",
    "from tqdm import tqdm\n",
    "\n",
    "from data import *\n",
    "from plotting import *\n",
    "from regression import *\n",
    "from utils import *"
   ]
  },
  {
   "cell_type": "markdown",
   "metadata": {},
   "source": [
    "# Parameters"
   ]
  },
  {
   "cell_type": "code",
   "execution_count": 3,
   "metadata": {},
   "outputs": [],
   "source": [
    "assign_country_method = 'inclusive'  # ['inclusive', 'exclusive']. Default: 'inclusive'.\n",
    "# 'external': Filter to the top n models overall\n",
    "# 'internal': Filter to the top n models within 'Non-China' and 'China' categories\n",
    "# 'disabled': No filtering\n",
    "frontier_selection = 'external'  # ['disabled', 'internal', 'external']. Default: 'external'.\n",
    "top_n = 10  # Filter to the top n models by training compute at time of release. Default: 10.\n",
    "model_selection = 'Language models'  # ['All models', 'Language models', 'Google DeepMind models', 'OpenAI models', 'Meta AI models']. Default: 'Language models'.\n",
    "filter_alphago_outliers = True  # Whether to filter out AlphaGo Master and AlphaGo Zero. Default: True.\n",
    "filter_finetuned_models = True  # Whether to filter out separate finetuned models (base + finetuned models are still included if there is no separate base model in our dataset). Default: True.\n",
    "include_speculative_compute = True  # Whether to include speculative compute estimates that rely on benchmark imputation and rough guesses. Default: True.\n",
    "cutoff_date = '2018-01-01'  # When to start the regressions from. Default: '2018-01-01'.\n",
    "top_n_cutoff_date = '1950-01-01'  # When to split the top-n filtering into Non-China and China categories - set to e.g. 2010 to turn off the \"kickstarting\". Default: '1950-01-01'.\n",
    "save = True  # Whether to save the plots. Default: True."
   ]
  },
  {
   "cell_type": "code",
   "execution_count": 4,
   "metadata": {},
   "outputs": [],
   "source": [
    "# Default: no models excluded\n",
    "exclude_models = []\n",
    "\n",
    "# Early China models that are not representative of current trends\n",
    "# exclude_models = [\n",
    "#     'genCNN + dyn eval',\n",
    "#     'R-FCN',\n",
    "#     'ResNet-200',\n",
    "#     '2-layer-LSTM+Deep-Gradient-Compression',\n",
    "# ]\n",
    "\n",
    "# Key China models around the breakpoint\n",
    "# exclude_models = [\n",
    "#     'ERNIE 3.0 Titan',\n",
    "#     'Yuan 1.0',\n",
    "# ]\n",
    "\n",
    "# Largest China model\n",
    "# exclude_models = [\n",
    "#     'GLM-4 (0116)',\n",
    "# ]\n",
    "\n",
    "# All large BlueLMs - it's not clear they were ever released\n",
    "# exclude_models = [\n",
    "#     'BlueLM 70B',\n",
    "#     'BlueLM 130B',\n",
    "#     'BlueLM 175B',\n",
    "# ]"
   ]
  },
  {
   "cell_type": "code",
   "execution_count": 5,
   "metadata": {},
   "outputs": [],
   "source": [
    "results_dir = 'results/compute/20250107_pcd_update/'\n",
    "os.makedirs(results_dir, exist_ok=True)\n",
    "os.makedirs(results_dir + 'plot_data', exist_ok=True)"
   ]
  },
  {
   "cell_type": "code",
   "execution_count": 6,
   "metadata": {},
   "outputs": [],
   "source": [
    "colors = {'Non-China': 'blue', 'China': 'red'}\n"
   ]
  },
  {
   "cell_type": "markdown",
   "metadata": {},
   "source": [
    "# Data preparation"
   ]
  },
  {
   "cell_type": "code",
   "execution_count": 7,
   "metadata": {},
   "outputs": [],
   "source": [
    "# Load data\n",
    "pcd_df = load_pcd_df()"
   ]
  },
  {
   "cell_type": "code",
   "execution_count": 8,
   "metadata": {},
   "outputs": [
    {
     "data": {
      "text/html": [
       "<div>\n",
       "<style scoped>\n",
       "    .dataframe tbody tr th:only-of-type {\n",
       "        vertical-align: middle;\n",
       "    }\n",
       "\n",
       "    .dataframe tbody tr th {\n",
       "        vertical-align: top;\n",
       "    }\n",
       "\n",
       "    .dataframe thead th {\n",
       "        text-align: right;\n",
       "    }\n",
       "</style>\n",
       "<table border=\"1\" class=\"dataframe\">\n",
       "  <thead>\n",
       "    <tr style=\"text-align: right;\">\n",
       "      <th></th>\n",
       "      <th>Model</th>\n",
       "      <th>Domain</th>\n",
       "      <th>Task</th>\n",
       "      <th>Authors</th>\n",
       "      <th>Notability criteria</th>\n",
       "      <th>Notability criteria notes</th>\n",
       "      <th>Model accessibility</th>\n",
       "      <th>Link</th>\n",
       "      <th>Citations</th>\n",
       "      <th>Reference</th>\n",
       "      <th>...</th>\n",
       "      <th>Hardware type</th>\n",
       "      <th>Training compute estimation method</th>\n",
       "      <th>Biological model safeguards</th>\n",
       "      <th>Hardware utilization (temp)</th>\n",
       "      <th>BenchmarkHub-v1</th>\n",
       "      <th>Hugging Face developer id</th>\n",
       "      <th>Post-training compute (FLOP)</th>\n",
       "      <th>Post-training compute notes</th>\n",
       "      <th>Hardware maker</th>\n",
       "      <th>benchmarks/models</th>\n",
       "    </tr>\n",
       "  </thead>\n",
       "  <tbody>\n",
       "    <tr>\n",
       "      <th>0</th>\n",
       "      <td>babbage-002</td>\n",
       "      <td>Language</td>\n",
       "      <td>Language modelling</td>\n",
       "      <td>NaN</td>\n",
       "      <td>NaN</td>\n",
       "      <td>NaN</td>\n",
       "      <td>NaN</td>\n",
       "      <td>NaN</td>\n",
       "      <td>NaN</td>\n",
       "      <td>NaN</td>\n",
       "      <td>...</td>\n",
       "      <td>NaN</td>\n",
       "      <td>NaN</td>\n",
       "      <td>NaN</td>\n",
       "      <td>NaN</td>\n",
       "      <td>NaN</td>\n",
       "      <td>NaN</td>\n",
       "      <td>NaN</td>\n",
       "      <td>NaN</td>\n",
       "      <td>NaN</td>\n",
       "      <td>NaN</td>\n",
       "    </tr>\n",
       "    <tr>\n",
       "      <th>1</th>\n",
       "      <td>tts-1</td>\n",
       "      <td>Speech</td>\n",
       "      <td>Text-to-speech</td>\n",
       "      <td>NaN</td>\n",
       "      <td>NaN</td>\n",
       "      <td>NaN</td>\n",
       "      <td>NaN</td>\n",
       "      <td>NaN</td>\n",
       "      <td>NaN</td>\n",
       "      <td>NaN</td>\n",
       "      <td>...</td>\n",
       "      <td>NaN</td>\n",
       "      <td>NaN</td>\n",
       "      <td>NaN</td>\n",
       "      <td>NaN</td>\n",
       "      <td>NaN</td>\n",
       "      <td>NaN</td>\n",
       "      <td>NaN</td>\n",
       "      <td>NaN</td>\n",
       "      <td>NaN</td>\n",
       "      <td>NaN</td>\n",
       "    </tr>\n",
       "    <tr>\n",
       "      <th>2</th>\n",
       "      <td>tts-1-hd</td>\n",
       "      <td>Speech</td>\n",
       "      <td>Text-to-speech</td>\n",
       "      <td>NaN</td>\n",
       "      <td>NaN</td>\n",
       "      <td>NaN</td>\n",
       "      <td>NaN</td>\n",
       "      <td>NaN</td>\n",
       "      <td>NaN</td>\n",
       "      <td>NaN</td>\n",
       "      <td>...</td>\n",
       "      <td>NaN</td>\n",
       "      <td>NaN</td>\n",
       "      <td>NaN</td>\n",
       "      <td>NaN</td>\n",
       "      <td>NaN</td>\n",
       "      <td>NaN</td>\n",
       "      <td>NaN</td>\n",
       "      <td>NaN</td>\n",
       "      <td>NaN</td>\n",
       "      <td>NaN</td>\n",
       "    </tr>\n",
       "    <tr>\n",
       "      <th>3</th>\n",
       "      <td>LM-Design</td>\n",
       "      <td>Biology</td>\n",
       "      <td>Protein design</td>\n",
       "      <td>Zaixiang Zheng, Yifan Deng, Dongyu Xue, Yi Zho...</td>\n",
       "      <td>NaN</td>\n",
       "      <td>NaN</td>\n",
       "      <td>NaN</td>\n",
       "      <td>https://proceedings.mlr.press/v202/zheng23a.html</td>\n",
       "      <td>46.0</td>\n",
       "      <td>Structure-informed Language Models Are Protein...</td>\n",
       "      <td>...</td>\n",
       "      <td>NaN</td>\n",
       "      <td>NaN</td>\n",
       "      <td>LM-Design</td>\n",
       "      <td>NaN</td>\n",
       "      <td>NaN</td>\n",
       "      <td>NaN</td>\n",
       "      <td>NaN</td>\n",
       "      <td>NaN</td>\n",
       "      <td>NaN</td>\n",
       "      <td>NaN</td>\n",
       "    </tr>\n",
       "    <tr>\n",
       "      <th>4</th>\n",
       "      <td>Deep-LDA</td>\n",
       "      <td>NaN</td>\n",
       "      <td>NaN</td>\n",
       "      <td>NaN</td>\n",
       "      <td>NaN</td>\n",
       "      <td>NaN</td>\n",
       "      <td>NaN</td>\n",
       "      <td>NaN</td>\n",
       "      <td>NaN</td>\n",
       "      <td>Optimization and redevelopment of single-cell ...</td>\n",
       "      <td>...</td>\n",
       "      <td>NaN</td>\n",
       "      <td>NaN</td>\n",
       "      <td>NaN</td>\n",
       "      <td>NaN</td>\n",
       "      <td>NaN</td>\n",
       "      <td>NaN</td>\n",
       "      <td>NaN</td>\n",
       "      <td>NaN</td>\n",
       "      <td>NaN</td>\n",
       "      <td>NaN</td>\n",
       "    </tr>\n",
       "    <tr>\n",
       "      <th>...</th>\n",
       "      <td>...</td>\n",
       "      <td>...</td>\n",
       "      <td>...</td>\n",
       "      <td>...</td>\n",
       "      <td>...</td>\n",
       "      <td>...</td>\n",
       "      <td>...</td>\n",
       "      <td>...</td>\n",
       "      <td>...</td>\n",
       "      <td>...</td>\n",
       "      <td>...</td>\n",
       "      <td>...</td>\n",
       "      <td>...</td>\n",
       "      <td>...</td>\n",
       "      <td>...</td>\n",
       "      <td>...</td>\n",
       "      <td>...</td>\n",
       "      <td>...</td>\n",
       "      <td>...</td>\n",
       "      <td>...</td>\n",
       "      <td>...</td>\n",
       "    </tr>\n",
       "    <tr>\n",
       "      <th>2326</th>\n",
       "      <td>F5-TTS</td>\n",
       "      <td>Speech</td>\n",
       "      <td>Speech synthesis,Translation</td>\n",
       "      <td>Yushen Chen, Zhikang Niu, Ziyang Ma, Keqi Deng...</td>\n",
       "      <td>NaN</td>\n",
       "      <td>NaN</td>\n",
       "      <td>Open weights (non-commercial)</td>\n",
       "      <td>https://arxiv.org/abs/2410.06885</td>\n",
       "      <td>NaN</td>\n",
       "      <td>F5-TTS: A Fairytaler that Fakes Fluent and Fai...</td>\n",
       "      <td>...</td>\n",
       "      <td>NaN</td>\n",
       "      <td>Hardware</td>\n",
       "      <td>NaN</td>\n",
       "      <td>NaN</td>\n",
       "      <td>NaN</td>\n",
       "      <td>SWivid</td>\n",
       "      <td>NaN</td>\n",
       "      <td>NaN</td>\n",
       "      <td>NVIDIA</td>\n",
       "      <td>NaN</td>\n",
       "    </tr>\n",
       "    <tr>\n",
       "      <th>2327</th>\n",
       "      <td>Veo 2</td>\n",
       "      <td>Video,Vision</td>\n",
       "      <td>Video generation</td>\n",
       "      <td>NaN</td>\n",
       "      <td>SOTA improvement</td>\n",
       "      <td>\"Veo has achieved state of the art results in ...</td>\n",
       "      <td>API access</td>\n",
       "      <td>https://deepmind.google/technologies/veo/veo-2/</td>\n",
       "      <td>NaN</td>\n",
       "      <td>Our state-of-the-art video generation model</td>\n",
       "      <td>...</td>\n",
       "      <td>NaN</td>\n",
       "      <td>NaN</td>\n",
       "      <td>NaN</td>\n",
       "      <td>NaN</td>\n",
       "      <td>NaN</td>\n",
       "      <td>NaN</td>\n",
       "      <td>NaN</td>\n",
       "      <td>NaN</td>\n",
       "      <td>NaN</td>\n",
       "      <td>NaN</td>\n",
       "    </tr>\n",
       "    <tr>\n",
       "      <th>2328</th>\n",
       "      <td>DeepSeek-V3</td>\n",
       "      <td>Language</td>\n",
       "      <td>Language modelling/generation,Code generation,...</td>\n",
       "      <td>NaN</td>\n",
       "      <td>NaN</td>\n",
       "      <td>NaN</td>\n",
       "      <td>Open weights (restricted use)</td>\n",
       "      <td>https://github.com/deepseek-ai/DeepSeek-V3/blo...</td>\n",
       "      <td>NaN</td>\n",
       "      <td>DeepSeek-V3 Technical Report</td>\n",
       "      <td>...</td>\n",
       "      <td>NaN</td>\n",
       "      <td>Operation counting</td>\n",
       "      <td>NaN</td>\n",
       "      <td>NaN</td>\n",
       "      <td>NaN</td>\n",
       "      <td>deepseek-ai</td>\n",
       "      <td>NaN</td>\n",
       "      <td>NaN</td>\n",
       "      <td>NVIDIA</td>\n",
       "      <td>NaN</td>\n",
       "    </tr>\n",
       "    <tr>\n",
       "      <th>2329</th>\n",
       "      <td>OLMo 2 Furious 7B</td>\n",
       "      <td>Language</td>\n",
       "      <td>Language modelling/generation,Question answering</td>\n",
       "      <td>Team OLMo, Pete Walsh, Luca Soldaini, Dirk Gro...</td>\n",
       "      <td>NaN</td>\n",
       "      <td>NaN</td>\n",
       "      <td>Open weights (unrestricted)</td>\n",
       "      <td>https://arxiv.org/abs/2501.00656</td>\n",
       "      <td>NaN</td>\n",
       "      <td>2 OLMo 2 Furious</td>\n",
       "      <td>...</td>\n",
       "      <td>NaN</td>\n",
       "      <td>Reported,Operation counting</td>\n",
       "      <td>NaN</td>\n",
       "      <td>NaN</td>\n",
       "      <td>NaN</td>\n",
       "      <td>allenai</td>\n",
       "      <td>NaN</td>\n",
       "      <td>NaN</td>\n",
       "      <td>NVIDIA</td>\n",
       "      <td>NaN</td>\n",
       "    </tr>\n",
       "    <tr>\n",
       "      <th>2330</th>\n",
       "      <td>OLMo 2 Furious 13B</td>\n",
       "      <td>Language</td>\n",
       "      <td>Language modelling/generation,Question answering</td>\n",
       "      <td>Team OLMo, Pete Walsh, Luca Soldaini, Dirk Gro...</td>\n",
       "      <td>NaN</td>\n",
       "      <td>NaN</td>\n",
       "      <td>Open weights (unrestricted)</td>\n",
       "      <td>https://arxiv.org/abs/2501.00656</td>\n",
       "      <td>NaN</td>\n",
       "      <td>2 OLMo 2 Furious</td>\n",
       "      <td>...</td>\n",
       "      <td>NaN</td>\n",
       "      <td>Reported,Operation counting</td>\n",
       "      <td>NaN</td>\n",
       "      <td>NaN</td>\n",
       "      <td>NaN</td>\n",
       "      <td>allenai</td>\n",
       "      <td>NaN</td>\n",
       "      <td>NaN</td>\n",
       "      <td>NVIDIA</td>\n",
       "      <td>NaN</td>\n",
       "    </tr>\n",
       "  </tbody>\n",
       "</table>\n",
       "<p>2331 rows × 93 columns</p>\n",
       "</div>"
      ],
      "text/plain": [
       "                   Model        Domain  \\\n",
       "0            babbage-002      Language   \n",
       "1                  tts-1        Speech   \n",
       "2               tts-1-hd        Speech   \n",
       "3              LM-Design       Biology   \n",
       "4               Deep-LDA           NaN   \n",
       "...                  ...           ...   \n",
       "2326              F5-TTS        Speech   \n",
       "2327               Veo 2  Video,Vision   \n",
       "2328         DeepSeek-V3      Language   \n",
       "2329   OLMo 2 Furious 7B      Language   \n",
       "2330  OLMo 2 Furious 13B      Language   \n",
       "\n",
       "                                                   Task  \\\n",
       "0                                    Language modelling   \n",
       "1                                        Text-to-speech   \n",
       "2                                        Text-to-speech   \n",
       "3                                        Protein design   \n",
       "4                                                   NaN   \n",
       "...                                                 ...   \n",
       "2326                       Speech synthesis,Translation   \n",
       "2327                                   Video generation   \n",
       "2328  Language modelling/generation,Code generation,...   \n",
       "2329   Language modelling/generation,Question answering   \n",
       "2330   Language modelling/generation,Question answering   \n",
       "\n",
       "                                                Authors Notability criteria  \\\n",
       "0                                                   NaN                 NaN   \n",
       "1                                                   NaN                 NaN   \n",
       "2                                                   NaN                 NaN   \n",
       "3     Zaixiang Zheng, Yifan Deng, Dongyu Xue, Yi Zho...                 NaN   \n",
       "4                                                   NaN                 NaN   \n",
       "...                                                 ...                 ...   \n",
       "2326  Yushen Chen, Zhikang Niu, Ziyang Ma, Keqi Deng...                 NaN   \n",
       "2327                                                NaN    SOTA improvement   \n",
       "2328                                                NaN                 NaN   \n",
       "2329  Team OLMo, Pete Walsh, Luca Soldaini, Dirk Gro...                 NaN   \n",
       "2330  Team OLMo, Pete Walsh, Luca Soldaini, Dirk Gro...                 NaN   \n",
       "\n",
       "                              Notability criteria notes  \\\n",
       "0                                                   NaN   \n",
       "1                                                   NaN   \n",
       "2                                                   NaN   \n",
       "3                                                   NaN   \n",
       "4                                                   NaN   \n",
       "...                                                 ...   \n",
       "2326                                                NaN   \n",
       "2327  \"Veo has achieved state of the art results in ...   \n",
       "2328                                                NaN   \n",
       "2329                                                NaN   \n",
       "2330                                                NaN   \n",
       "\n",
       "                Model accessibility  \\\n",
       "0                               NaN   \n",
       "1                               NaN   \n",
       "2                               NaN   \n",
       "3                               NaN   \n",
       "4                               NaN   \n",
       "...                             ...   \n",
       "2326  Open weights (non-commercial)   \n",
       "2327                     API access   \n",
       "2328  Open weights (restricted use)   \n",
       "2329    Open weights (unrestricted)   \n",
       "2330    Open weights (unrestricted)   \n",
       "\n",
       "                                                   Link  Citations  \\\n",
       "0                                                   NaN        NaN   \n",
       "1                                                   NaN        NaN   \n",
       "2                                                   NaN        NaN   \n",
       "3      https://proceedings.mlr.press/v202/zheng23a.html       46.0   \n",
       "4                                                   NaN        NaN   \n",
       "...                                                 ...        ...   \n",
       "2326                   https://arxiv.org/abs/2410.06885        NaN   \n",
       "2327    https://deepmind.google/technologies/veo/veo-2/        NaN   \n",
       "2328  https://github.com/deepseek-ai/DeepSeek-V3/blo...        NaN   \n",
       "2329                   https://arxiv.org/abs/2501.00656        NaN   \n",
       "2330                   https://arxiv.org/abs/2501.00656        NaN   \n",
       "\n",
       "                                              Reference  ... Hardware type  \\\n",
       "0                                                   NaN  ...           NaN   \n",
       "1                                                   NaN  ...           NaN   \n",
       "2                                                   NaN  ...           NaN   \n",
       "3     Structure-informed Language Models Are Protein...  ...           NaN   \n",
       "4     Optimization and redevelopment of single-cell ...  ...           NaN   \n",
       "...                                                 ...  ...           ...   \n",
       "2326  F5-TTS: A Fairytaler that Fakes Fluent and Fai...  ...           NaN   \n",
       "2327        Our state-of-the-art video generation model  ...           NaN   \n",
       "2328                       DeepSeek-V3 Technical Report  ...           NaN   \n",
       "2329                                   2 OLMo 2 Furious  ...           NaN   \n",
       "2330                                   2 OLMo 2 Furious  ...           NaN   \n",
       "\n",
       "     Training compute estimation method  Biological model safeguards  \\\n",
       "0                                   NaN                          NaN   \n",
       "1                                   NaN                          NaN   \n",
       "2                                   NaN                          NaN   \n",
       "3                                   NaN                    LM-Design   \n",
       "4                                   NaN                          NaN   \n",
       "...                                 ...                          ...   \n",
       "2326                           Hardware                          NaN   \n",
       "2327                                NaN                          NaN   \n",
       "2328                 Operation counting                          NaN   \n",
       "2329        Reported,Operation counting                          NaN   \n",
       "2330        Reported,Operation counting                          NaN   \n",
       "\n",
       "     Hardware utilization (temp)  BenchmarkHub-v1 Hugging Face developer id  \\\n",
       "0                            NaN              NaN                       NaN   \n",
       "1                            NaN              NaN                       NaN   \n",
       "2                            NaN              NaN                       NaN   \n",
       "3                            NaN              NaN                       NaN   \n",
       "4                            NaN              NaN                       NaN   \n",
       "...                          ...              ...                       ...   \n",
       "2326                         NaN              NaN                    SWivid   \n",
       "2327                         NaN              NaN                       NaN   \n",
       "2328                         NaN              NaN               deepseek-ai   \n",
       "2329                         NaN              NaN                   allenai   \n",
       "2330                         NaN              NaN                   allenai   \n",
       "\n",
       "     Post-training compute (FLOP) Post-training compute notes  Hardware maker  \\\n",
       "0                             NaN                         NaN             NaN   \n",
       "1                             NaN                         NaN             NaN   \n",
       "2                             NaN                         NaN             NaN   \n",
       "3                             NaN                         NaN             NaN   \n",
       "4                             NaN                         NaN             NaN   \n",
       "...                           ...                         ...             ...   \n",
       "2326                          NaN                         NaN          NVIDIA   \n",
       "2327                          NaN                         NaN             NaN   \n",
       "2328                          NaN                         NaN          NVIDIA   \n",
       "2329                          NaN                         NaN          NVIDIA   \n",
       "2330                          NaN                         NaN          NVIDIA   \n",
       "\n",
       "     benchmarks/models  \n",
       "0                  NaN  \n",
       "1                  NaN  \n",
       "2                  NaN  \n",
       "3                  NaN  \n",
       "4                  NaN  \n",
       "...                ...  \n",
       "2326               NaN  \n",
       "2327               NaN  \n",
       "2328               NaN  \n",
       "2329               NaN  \n",
       "2330               NaN  \n",
       "\n",
       "[2331 rows x 93 columns]"
      ]
     },
     "execution_count": 8,
     "metadata": {},
     "output_type": "execute_result"
    }
   ],
   "source": [
    "pcd_df"
   ]
  },
  {
   "cell_type": "code",
   "execution_count": 9,
   "metadata": {},
   "outputs": [],
   "source": [
    "pcd_df = pcd_df[~pcd_df['Model'].isin(exclude_models)]"
   ]
  },
  {
   "cell_type": "code",
   "execution_count": 10,
   "metadata": {},
   "outputs": [
    {
     "name": "stdout",
     "output_type": "stream",
     "text": [
      "753    United States of America\n",
      "Name: Country (from Organization), dtype: object\n",
      "1641    China\n",
      "Name: Country (from Organization), dtype: object\n"
     ]
    }
   ],
   "source": [
    "print(pcd_df.loc[pcd_df['Model'] == 'Megatron-BERT']['Country (from Organization)'])\n",
    "print(pcd_df.loc[pcd_df['Model'] == 'Yi-34B']['Country (from Organization)'])\n"
   ]
  },
  {
   "cell_type": "code",
   "execution_count": 11,
   "metadata": {},
   "outputs": [
    {
     "data": {
      "text/plain": [
       "2202"
      ]
     },
     "execution_count": 11,
     "metadata": {},
     "output_type": "execute_result"
    }
   ],
   "source": [
    "country_df = pcd_df.dropna(subset=['Publication date', 'Country (from Organization)'])\n",
    "len(country_df)"
   ]
  },
  {
   "cell_type": "code",
   "execution_count": 12,
   "metadata": {},
   "outputs": [
    {
     "data": {
      "text/plain": [
       "array(['United States of America',\n",
       "       'United States of America,United States of America', 'Italy',\n",
       "       'New Zealand',\n",
       "       'United Kingdom of Great Britain and Northern Ireland',\n",
       "       'Switzerland', 'Japan', 'Multinational', 'Netherlands', 'Finland',\n",
       "       'Canada', 'Japan,United States of America', 'Spain',\n",
       "       'Denmark,United Kingdom of Great Britain and Northern Ireland',\n",
       "       'India', 'Germany', 'France',\n",
       "       'United Kingdom of Great Britain and Northern Ireland,United States of America',\n",
       "       'Taiwan',\n",
       "       'United States of America,United States of America,United States of America',\n",
       "       'United Kingdom of Great Britain and Northern Ireland,Canada',\n",
       "       'United States of America,Germany', 'Korea (Republic of)',\n",
       "       'United States of America,United Kingdom of Great Britain and Northern Ireland',\n",
       "       'Mexico', 'Switzerland,Germany',\n",
       "       'United States of America,United Kingdom of Great Britain and Northern Ireland,United States of America',\n",
       "       'France,Canada', 'France,United States of America,France',\n",
       "       'Canada,Singapore', 'Finland,Multinational', 'Poland',\n",
       "       'Switzerland,Switzerland,Germany',\n",
       "       'United States of America,United States of America,Switzerland,United States of America',\n",
       "       'United States of America,United States of America,United Kingdom of Great Britain and Northern Ireland,United States of America',\n",
       "       'Canada,Canada', 'Switzerland,Switzerland,Switzerland',\n",
       "       'Canada,United States of America',\n",
       "       'France,France,United States of America',\n",
       "       'Czechia,United States of America',\n",
       "       'United States of America,Multinational,United States of America',\n",
       "       'Israel,United States of America,United States of America',\n",
       "       'United States of America,United Kingdom of Great Britain and Northern Ireland,Czechia',\n",
       "       'United States of America,Czechia',\n",
       "       'Canada,Canada,United States of America', 'Italy,Netherlands',\n",
       "       'United States of America,Canada,United States of America',\n",
       "       'Argentina,Netherlands,Netherlands,France,France,France',\n",
       "       'France,United States of America', 'Singapore', 'Finland,Canada',\n",
       "       'Singapore,Singapore', 'United States of America,Canada', 'China',\n",
       "       'Canada,Germany,United States of America',\n",
       "       'United States of America,China,China',\n",
       "       'Israel,United States of America', 'Germany,Canada',\n",
       "       'Hong Kong,China',\n",
       "       'United States of America,United Kingdom of Great Britain and Northern Ireland,Multinational',\n",
       "       'Netherlands,United States of America,Canada',\n",
       "       'United Kingdom of Great Britain and Northern Ireland,United States of America,China',\n",
       "       'China,China,Ireland', 'China,Canada', 'Hong Kong,China,China',\n",
       "       'Hong Kong,China,Hong Kong,China,China',\n",
       "       'Canada,United States of America,Canada',\n",
       "       'Switzerland,Switzerland', 'China,United States of America',\n",
       "       'Canada,United States of America,United States of America',\n",
       "       'Israel,United States of America,Canada', 'China,Australia',\n",
       "       'Austria,United Kingdom of Great Britain and Northern Ireland',\n",
       "       'China,United States of America,United Kingdom of Great Britain and Northern Ireland',\n",
       "       'Belgium,Iran (Islamic Republic of),France,Iran (Islamic Republic of)',\n",
       "       'China,United States of America,United States of America',\n",
       "       'China,Hong Kong,China', 'Switzerland,China,Hong Kong,China',\n",
       "       'Australia,United States of America,China', 'Australia,Australia',\n",
       "       'Canada,Czechia,Czechia', 'United States of America,China',\n",
       "       'Poland,United States of America',\n",
       "       'United States of America,France',\n",
       "       'China,Hong Kong,China,China,China',\n",
       "       'United States of America,United States of America,United Kingdom of Great Britain and Northern Ireland',\n",
       "       'Singapore,Australia,China',\n",
       "       'United Kingdom of Great Britain and Northern Ireland,United Kingdom of Great Britain and Northern Ireland',\n",
       "       'Multinational,United States of America,United States of America',\n",
       "       'Belgium', 'Canada,Canada,Canada',\n",
       "       'China,United States of America,Singapore,United States of America',\n",
       "       'China,Canada,China', 'Israel',\n",
       "       'China,United Kingdom of Great Britain and Northern Ireland',\n",
       "       'Australia', 'Poland,Canada,Canada', 'Germany,Germany',\n",
       "       'United States of America,Multinational,United States of America,United States of America',\n",
       "       'China,Australia,United States of America',\n",
       "       'United States of America,Ireland', 'Japan,Japan,Japan',\n",
       "       'Multinational,United States of America', 'Russia,Russia',\n",
       "       'China,China', 'Japan,Japan', 'Hong Kong,China,China,Singapore',\n",
       "       'United States of America,United States of America,United States of America,United States of America',\n",
       "       'Belgium,Belgium,United States of America',\n",
       "       'Japan,Hong Kong,China,China',\n",
       "       'United States of America,Germany,Multinational,United States of America',\n",
       "       'United States of America,Multinational,United States of America,Germany',\n",
       "       'Korea (Republic of),Korea (Republic of)', 'Russia',\n",
       "       'United Kingdom of Great Britain and Northern Ireland,United Kingdom of Great Britain and Northern Ireland,United States of America,United States of America',\n",
       "       'United States of America,Israel',\n",
       "       'United States of America,China,United States of America,United Kingdom of Great Britain and Northern Ireland',\n",
       "       'China,Hong Kong,China,China', 'China,China,China',\n",
       "       'United States of America,Spain', 'China,Australia,Australia',\n",
       "       'United States of America,United States of America,Canada',\n",
       "       'United States of America,France,France',\n",
       "       'Korea (Republic of),Korea (Republic of),Switzerland',\n",
       "       'United States of America,United States of America,United States of America,Canada',\n",
       "       'United States of America,China,United States of America',\n",
       "       'United Kingdom of Great Britain and Northern Ireland,United Kingdom of Great Britain and Northern Ireland,United Kingdom of Great Britain and Northern Ireland',\n",
       "       'Canada,China,China', 'China,China,China,China',\n",
       "       'China,United States of America,Canada,Canada,Canada,Canada',\n",
       "       'Austria,Austria,Norway', 'United States of America,Japan',\n",
       "       'Switzerland,United States of America,United Kingdom of Great Britain and Northern Ireland',\n",
       "       'Italy,Germany,Germany',\n",
       "       'China,Canada,France,Canada,United States of America,Canada',\n",
       "       'United States of America,Multinational,Switzerland',\n",
       "       'Korea (Republic of),United States of America',\n",
       "       'United States of America,Taiwan',\n",
       "       'Taiwan,United States of America', 'Lebanon',\n",
       "       'Netherlands,Netherlands',\n",
       "       'United States of America,United Kingdom of Great Britain and Northern Ireland,United States of America,Israel,Hong Kong,China',\n",
       "       'Lithuania,Sweden', 'China,China,United States of America,China',\n",
       "       'China,China,United States of America',\n",
       "       'United States of America,United Kingdom of Great Britain and Northern Ireland,United States of America,United States of America',\n",
       "       'Multinational,United States of America,Multinational,Germany',\n",
       "       'Germany,China,United States of America,United States of America,United States of America,Korea (Republic of)',\n",
       "       'Germany,United States of America,Korea (Republic of),United States of America,United States of America,China',\n",
       "       'Multinational,United States of America,Switzerland,United Kingdom of Great Britain and Northern Ireland',\n",
       "       'Multinational,United States of America,Multinational,United States of America',\n",
       "       'United States of America,United States of America,Poland,United States of America,United States of America,New Zealand,United States of America,United States of America,United States of America',\n",
       "       'Hong Kong,China,China,China',\n",
       "       'Canada,Canada,United Kingdom of Great Britain and Northern Ireland',\n",
       "       'Switzerland,Switzerland,Saudi Arabia', 'China,Taiwan',\n",
       "       'China,China,Multinational,China',\n",
       "       'Portugal,United Kingdom of Great Britain and Northern Ireland',\n",
       "       'Korea (Republic of),Korea (Republic of),Korea (Republic of),Korea (Republic of)',\n",
       "       'United States of America,United Kingdom of Great Britain and Northern Ireland,Multinational,United Kingdom of Great Britain and Northern Ireland',\n",
       "       'France,France,France',\n",
       "       'Viet Nam,United States of America,Viet Nam,France,United States of America,United States of America',\n",
       "       'China,China,Singapore,China', 'Austria,Switzerland,Austria',\n",
       "       'China,Singapore,China,China',\n",
       "       'China,United States of America,China',\n",
       "       'United States of America,Singapore', 'Greece',\n",
       "       'United States of America,Switzerland,Multinational,China',\n",
       "       'Switzerland,China',\n",
       "       'United States of America,United Kingdom of Great Britain and Northern Ireland,China',\n",
       "       'Hong Kong,China,United States of America',\n",
       "       'United States of America,United States of America,China,United States of America,United States of America',\n",
       "       'United States of America,United Kingdom of Great Britain and Northern Ireland,France,France',\n",
       "       'Germany,United States of America',\n",
       "       'United States of America,United States of America,Multinational,United States of America',\n",
       "       'United States of America,United States of America,United States of America,United States of America,Israel',\n",
       "       'United States of America,United Kingdom of Great Britain and Northern Ireland,Canada',\n",
       "       'Canada,United States of America,United Kingdom of Great Britain and Northern Ireland',\n",
       "       'United States of America,Hong Kong,China',\n",
       "       'Israel,United States of America,Multinational,United States of America,United States of America',\n",
       "       'United Kingdom of Great Britain and Northern Ireland,United States of America,Canada',\n",
       "       'China,United States of America,China,Hong Kong,China',\n",
       "       'Germany,Germany,United Kingdom of Great Britain and Northern Ireland',\n",
       "       'Sweden,Sweden',\n",
       "       'Multinational,United States of America,Multinational,France',\n",
       "       'France,United States of America,United Kingdom of Great Britain and Northern Ireland',\n",
       "       'Hong Kong,China,China,China,China,China,United States of America,United States of America,China,China',\n",
       "       'France,France', 'Multinational,Germany',\n",
       "       'United Kingdom of Great Britain and Northern Ireland,United States of America,United States of America',\n",
       "       'United States of America,United States of America,United States of America,Multinational,Germany,United States of America',\n",
       "       'Switzerland,United Kingdom of Great Britain and Northern Ireland,United States of America,China,Italy,United States of America,United Kingdom of Great Britain and Northern Ireland,United Kingdom of Great Britain and Northern Ireland,Austria',\n",
       "       'China,Hong Kong,China,Japan',\n",
       "       'United States of America,United Kingdom of Great Britain and Northern Ireland,Multinational,United States of America',\n",
       "       'Austria,United States of America',\n",
       "       'Canada,Canada,United Kingdom of Great Britain and Northern Ireland,United States of America,Multinational,Canada,Canada',\n",
       "       'China,China,China,Hong Kong,China,Hong Kong,China',\n",
       "       'Germany,United Kingdom of Great Britain and Northern Ireland',\n",
       "       'China,Canada,Canada',\n",
       "       'Canada,Canada,Canada,United States of America,United Kingdom of Great Britain and Northern Ireland',\n",
       "       'United Kingdom of Great Britain and Northern Ireland,Germany,Spain',\n",
       "       'Austria',\n",
       "       'Multinational,United States of America,United States of America,United States of America,United States of America,United States of America,Multinational,United States of America,China,United States of America',\n",
       "       'Canada,Canada,Multinational,United States of America,Canada,Canada',\n",
       "       'Hong Kong,China,China,China,China',\n",
       "       'United States of America,United Kingdom of Great Britain and Northern Ireland,Multinational,United States of America,United States of America,United States of America,Canada',\n",
       "       'Hong Kong',\n",
       "       'United States of America,United States of America,Canada,United States of America,United States of America,United States of America,Canada',\n",
       "       'United States of America,Canada,Canada', 'Sweden',\n",
       "       'United Arab Emirates', 'Saudi Arabia,Sweden',\n",
       "       'Canada,Canada,United States of America,China,United States of America',\n",
       "       'Multinational,United States of America,United States of America,United Kingdom of Great Britain and Northern Ireland,India,Multinational,United Kingdom of Great Britain and Northern Ireland,United States of America,Netherlands',\n",
       "       'United States of America,United States of America,United States of America,United States of America,United States of America',\n",
       "       'United States of America,Israel,Israel',\n",
       "       'Multinational,United States of America,United States of America,United States of America,Canada,United States of America,United States of America,Germany,Germany,United Kingdom of Great Britain and Northern Ireland,United States of America,Singapore,Israel,Australia,Australia,Australia,Canada,United States of America,Canada,United States of America,Germany,United States of America,United States of America,Sweden,Multinational,Germany,United States of America,United States of America,United States of America,India,India,Multinational,Spain,United States of America,Israel,United Kingdom of Great Britain and Northern Ireland,United States of America,Multinational,United States of America,Germany',\n",
       "       'United States of America,Hong Kong,China,Singapore',\n",
       "       'Canada,Canada,United States of America,Multinational,Canada,Canada',\n",
       "       'Multinational,United States of America,United Kingdom of Great Britain and Northern Ireland',\n",
       "       'Denmark,Denmark',\n",
       "       'United States of America,United States of America,Canada,Canada',\n",
       "       'Multinational,United Kingdom of Great Britain and Northern Ireland',\n",
       "       'Multinational,United States of America,United States of America,United Kingdom of Great Britain and Northern Ireland',\n",
       "       'United States of America,United States of America,France,United Kingdom of Great Britain and Northern Ireland,United States of America,Korea (Republic of)',\n",
       "       'United States of America,United States of America,United States of America,Israel,United States of America,United States of America,United Kingdom of Great Britain and Northern Ireland,Multinational,United States of America',\n",
       "       'Spain,Spain,Spain', 'Hungary',\n",
       "       'Multinational,United Arab Emirates,United States of America',\n",
       "       'Multinational,China',\n",
       "       'United States of America,United Kingdom of Great Britain and Northern Ireland,Multinational,Multinational,United States of America',\n",
       "       'China,United States of America,United States of America,China',\n",
       "       'China,Multinational,United States of America',\n",
       "       'China,Hong Kong,China,Hong Kong,China', 'Saudi Arabia',\n",
       "       'Canada,Canada,Canada,Canada,United Kingdom of Great Britain and Northern Ireland',\n",
       "       'United States of America,Korea (Republic of),United Kingdom of Great Britain and Northern Ireland',\n",
       "       'Finland,Multinational,United States of America',\n",
       "       'United States of America,United Kingdom of Great Britain and Northern Ireland,Multinational,United States of America,United States of America',\n",
       "       'China,China,Australia,China,China',\n",
       "       'United States of America,Israel,France',\n",
       "       'Korea (Republic of),Korea (Republic of),Korea (Republic of)',\n",
       "       'United States of America,France,United States of America',\n",
       "       'China,Multinational,China,China',\n",
       "       'United Arab Emirates,United States of America,United States of America,United States of America,United States of America,United States of America',\n",
       "       'Multinational,Finland',\n",
       "       'United Kingdom of Great Britain and Northern Ireland,Germany,Spain,United States of America,United Kingdom of Great Britain and Northern Ireland',\n",
       "       'Multinational,United States of America,United States of America,United States of America,United Kingdom of Great Britain and Northern Ireland,Multinational',\n",
       "       'United States of America,United Kingdom of Great Britain and Northern Ireland,China,Sweden',\n",
       "       'United Kingdom of Great Britain and Northern Ireland,United States of America,United States of America,United Kingdom of Great Britain and Northern Ireland,China,Netherlands,Germany',\n",
       "       'China,Hong Kong,China,Hong Kong,China,China',\n",
       "       'Multinational,United States of America,Israel,Israel,Israel',\n",
       "       'United States of America,China,Singapore,United States of America',\n",
       "       'Multinational,Canada,United States of America,Canada,United States of America,United States of America',\n",
       "       'United States of America,Italy,United States of America,India',\n",
       "       'Australia,China',\n",
       "       'Sweden,United Kingdom of Great Britain and Northern Ireland',\n",
       "       'United States of America,China,China,China,China',\n",
       "       'China,China,China,China,China',\n",
       "       'Multinational,United States of America,United States of America,United States of America',\n",
       "       'Taiwan,Taiwan,Taiwan', 'Croatia,Singapore,Singapore',\n",
       "       'United Kingdom of Great Britain and Northern Ireland,Germany,United States of America,Canada,Germany,Germany,Germany,United States of America,United States of America,United Kingdom of Great Britain and Northern Ireland,Germany,United States of America,Germany,Sweden,United Kingdom of Great Britain and Northern Ireland,Denmark,France,United Kingdom of Great Britain and Northern Ireland,United States of America,United Kingdom of Great Britain and Northern Ireland,United States of America',\n",
       "       'Canada,Multinational,Canada',\n",
       "       'United States of America,United Kingdom of Great Britain and Northern Ireland,China,China',\n",
       "       'Germany,Korea (Republic of),United States of America,Germany',\n",
       "       'China,China,United Kingdom of Great Britain and Northern Ireland,Hong Kong,China,China',\n",
       "       'United States of America,United Kingdom of Great Britain and Northern Ireland,Multinational,Canada,Canada',\n",
       "       'Finland,Finland',\n",
       "       'United States of America,United States of America,United States of America,France',\n",
       "       'Multinational,United States of America,Korea (Republic of),Spain',\n",
       "       'China,United States of America,Spain', 'France,Netherlands',\n",
       "       'United States of America,Hong Kong,China,United States of America',\n",
       "       'China,China,China,China,China,Hong Kong,China',\n",
       "       'United Kingdom of Great Britain and Northern Ireland,China,Hong Kong,China,China,United Kingdom of Great Britain and Northern Ireland,Germany',\n",
       "       'Multinational,United States of America,France',\n",
       "       'Armenia,United States of America',\n",
       "       'Japan,Japan,Japan,Japan,Japan,Japan,Japan',\n",
       "       'United States of America,United Kingdom of Great Britain and Northern Ireland,China,Netherlands,Germany',\n",
       "       'United States of America,United Kingdom of Great Britain and Northern Ireland,Switzerland',\n",
       "       'Multinational,United States of America,United States of America,United Kingdom of Great Britain and Northern Ireland,Multinational,United States of America,United States of America,Sweden,United Kingdom of Great Britain and Northern Ireland',\n",
       "       'Switzerland,United Kingdom of Great Britain and Northern Ireland,United States of America,United Kingdom of Great Britain and Northern Ireland',\n",
       "       'Singapore,China,Japan',\n",
       "       'Canada,Canada,Canada,United Kingdom of Great Britain and Northern Ireland',\n",
       "       'United States of America,Multinational',\n",
       "       'Russia,Russia,Russia,Russia', 'United States of America,Italy',\n",
       "       'China,Germany',\n",
       "       'Viet Nam,United States of America,United States of America',\n",
       "       'United States of America,United States of America,United States of America,United States of America,United Kingdom of Great Britain and Northern Ireland,Multinational,United States of America,United States of America',\n",
       "       'United States of America,United States of America,United States of America,United Kingdom of Great Britain and Northern Ireland,Multinational',\n",
       "       'Multinational,United Kingdom of Great Britain and Northern Ireland,United States of America,United States of America,United States of America,Australia,Canada',\n",
       "       'Singapore,United States of America,United States of America,United Kingdom of Great Britain and Northern Ireland',\n",
       "       'Switzerland,United States of America,United States of America,United States of America',\n",
       "       'China,China,Hong Kong,China',\n",
       "       'Hong Kong,United States of America',\n",
       "       'France,United States of America,France,Switzerland',\n",
       "       'Multinational,United Kingdom of Great Britain and Northern Ireland,United States of America',\n",
       "       'United States of America,China,China,Macao,United States of America',\n",
       "       'China,United Kingdom of Great Britain and Northern Ireland,Australia,China',\n",
       "       'Denmark',\n",
       "       'Multinational,United States of America,United States of America,United Kingdom of Great Britain and Northern Ireland,Multinational,Israel',\n",
       "       'Switzerland,United Kingdom of Great Britain and Northern Ireland,United States of America',\n",
       "       'United States of America,United States of America,China,China,China,China,United States of America,United States of America,United States of America,United States of America,United States of America,United States of America,Multinational,China,United States of America,United States of America,China,United States of America',\n",
       "       'Singapore,China', 'China,Singapore',\n",
       "       'China,Canada,Canada,China,Canada',\n",
       "       'United Kingdom of Great Britain and Northern Ireland,China,Australia',\n",
       "       'Germany,France,United States of America,France,France',\n",
       "       'Germany,Germany,Germany',\n",
       "       'Germany,Germany,United States of America',\n",
       "       'China,Australia,United Kingdom of Great Britain and Northern Ireland,China',\n",
       "       'Canada,Canada,Canada,Canada,Canada,Canada',\n",
       "       'Canada,Canada,France', 'United States of America,Norway',\n",
       "       'Singapore,China,China,China,Taiwan,China',\n",
       "       'China,China,China,United Arab Emirates',\n",
       "       'United States of America,United States of America,Korea (Republic of),United States of America,United States of America,United States of America',\n",
       "       'China,Hong Kong,China,Canada,Canada,Canada,Canada',\n",
       "       'Multinational,United Kingdom of Great Britain and Northern Ireland,Multinational,United States of America',\n",
       "       'Sweden,United Kingdom of Great Britain and Northern Ireland,Sweden',\n",
       "       'Canada,United States of America,Canada,Canada',\n",
       "       'China,China,United States of America,United States of America,United States of America',\n",
       "       'United States of America,United States of America,United States of America,Korea (Republic of),United States of America',\n",
       "       'Iran (Islamic Republic of)', 'Germany,Netherlands,Germany',\n",
       "       'India,United States of America',\n",
       "       'United States of America,United States of America,United States of America,United States of America,Germany',\n",
       "       'United States of America,United States of America,United States of America,United States of America,United States of America,United States of America,United States of America',\n",
       "       'Multinational,Multinational,United States of America,United States of America,United States of America,Poland,China,United States of America,United States of America,United States of America,China,United States of America,China,United Kingdom of Great Britain and Northern Ireland,Canada,United States of America',\n",
       "       'Japan,Canada',\n",
       "       'Canada,Canada,Hong Kong,China,United States of America,United States of America,United Kingdom of Great Britain and Northern Ireland,United Kingdom of Great Britain and Northern Ireland,China,Canada',\n",
       "       'Switzerland,Switzerland,Switzerland,United States of America,United States of America,Switzerland',\n",
       "       'Switzerland,Switzerland,United Kingdom of Great Britain and Northern Ireland,United Kingdom of Great Britain and Northern Ireland,United States of America',\n",
       "       'Luxembourg,Germany,Germany,United Kingdom of Great Britain and Northern Ireland,Germany,Korea (Republic of)',\n",
       "       'China,United Kingdom of Great Britain and Northern Ireland,China',\n",
       "       'Sweden,Sweden,Sweden',\n",
       "       'United States of America,China,United States of America,United Arab Emirates',\n",
       "       'United States of America,India,United States of America',\n",
       "       'Multinational,Canada',\n",
       "       'China,China,China,China,China,China,China',\n",
       "       'France,Sweden,France'], dtype=object)"
      ]
     },
     "execution_count": 12,
     "metadata": {},
     "output_type": "execute_result"
    }
   ],
   "source": [
    "country_df['Country (from Organization)'].unique()\n"
   ]
  },
  {
   "cell_type": "code",
   "execution_count": 13,
   "metadata": {},
   "outputs": [
    {
     "data": {
      "text/html": [
       "<div>\n",
       "<style scoped>\n",
       "    .dataframe tbody tr th:only-of-type {\n",
       "        vertical-align: middle;\n",
       "    }\n",
       "\n",
       "    .dataframe tbody tr th {\n",
       "        vertical-align: top;\n",
       "    }\n",
       "\n",
       "    .dataframe thead th {\n",
       "        text-align: right;\n",
       "    }\n",
       "</style>\n",
       "<table border=\"1\" class=\"dataframe\">\n",
       "  <thead>\n",
       "    <tr style=\"text-align: right;\">\n",
       "      <th></th>\n",
       "      <th>Model</th>\n",
       "      <th>Country (from Organization)</th>\n",
       "    </tr>\n",
       "  </thead>\n",
       "  <tbody>\n",
       "    <tr>\n",
       "      <th>324</th>\n",
       "      <td>AdaRNN</td>\n",
       "      <td>China</td>\n",
       "    </tr>\n",
       "    <tr>\n",
       "      <th>328</th>\n",
       "      <td>SPPNet</td>\n",
       "      <td>United States of America,China,China</td>\n",
       "    </tr>\n",
       "    <tr>\n",
       "      <th>334</th>\n",
       "      <td>ACF-WIDER</td>\n",
       "      <td>China</td>\n",
       "    </tr>\n",
       "    <tr>\n",
       "      <th>348</th>\n",
       "      <td>Cascaded LNet-ANet</td>\n",
       "      <td>Hong Kong,China</td>\n",
       "    </tr>\n",
       "    <tr>\n",
       "      <th>360</th>\n",
       "      <td>CRF-RNN</td>\n",
       "      <td>United Kingdom of Great Britain and Northern I...</td>\n",
       "    </tr>\n",
       "    <tr>\n",
       "      <th>...</th>\n",
       "      <td>...</td>\n",
       "      <td>...</td>\n",
       "    </tr>\n",
       "    <tr>\n",
       "      <th>2311</th>\n",
       "      <td>QwQ</td>\n",
       "      <td>China</td>\n",
       "    </tr>\n",
       "    <tr>\n",
       "      <th>2318</th>\n",
       "      <td>Hunyuan Video</td>\n",
       "      <td>Multinational,China</td>\n",
       "    </tr>\n",
       "    <tr>\n",
       "      <th>2320</th>\n",
       "      <td>Hailuo I2V-01-Live</td>\n",
       "      <td>China,Singapore</td>\n",
       "    </tr>\n",
       "    <tr>\n",
       "      <th>2326</th>\n",
       "      <td>F5-TTS</td>\n",
       "      <td>China,United Kingdom of Great Britain and Nort...</td>\n",
       "    </tr>\n",
       "    <tr>\n",
       "      <th>2328</th>\n",
       "      <td>DeepSeek-V3</td>\n",
       "      <td>China</td>\n",
       "    </tr>\n",
       "  </tbody>\n",
       "</table>\n",
       "<p>468 rows × 2 columns</p>\n",
       "</div>"
      ],
      "text/plain": [
       "                   Model                        Country (from Organization)\n",
       "324               AdaRNN                                              China\n",
       "328               SPPNet               United States of America,China,China\n",
       "334            ACF-WIDER                                              China\n",
       "348   Cascaded LNet-ANet                                    Hong Kong,China\n",
       "360              CRF-RNN  United Kingdom of Great Britain and Northern I...\n",
       "...                  ...                                                ...\n",
       "2311                 QwQ                                              China\n",
       "2318       Hunyuan Video                                Multinational,China\n",
       "2320  Hailuo I2V-01-Live                                    China,Singapore\n",
       "2326              F5-TTS  China,United Kingdom of Great Britain and Nort...\n",
       "2328         DeepSeek-V3                                              China\n",
       "\n",
       "[468 rows x 2 columns]"
      ]
     },
     "execution_count": 13,
     "metadata": {},
     "output_type": "execute_result"
    }
   ],
   "source": [
    "country_df[country_df['Country (from Organization)'].str.contains('China')][['Model', 'Country (from Organization)']]"
   ]
  },
  {
   "cell_type": "code",
   "execution_count": 14,
   "metadata": {},
   "outputs": [
    {
     "data": {
      "text/html": [
       "<div>\n",
       "<style scoped>\n",
       "    .dataframe tbody tr th:only-of-type {\n",
       "        vertical-align: middle;\n",
       "    }\n",
       "\n",
       "    .dataframe tbody tr th {\n",
       "        vertical-align: top;\n",
       "    }\n",
       "\n",
       "    .dataframe thead th {\n",
       "        text-align: right;\n",
       "    }\n",
       "</style>\n",
       "<table border=\"1\" class=\"dataframe\">\n",
       "  <thead>\n",
       "    <tr style=\"text-align: right;\">\n",
       "      <th></th>\n",
       "      <th>Model</th>\n",
       "      <th>Domain</th>\n",
       "      <th>Task</th>\n",
       "      <th>Authors</th>\n",
       "      <th>Notability criteria</th>\n",
       "      <th>Notability criteria notes</th>\n",
       "      <th>Model accessibility</th>\n",
       "      <th>Link</th>\n",
       "      <th>Citations</th>\n",
       "      <th>Reference</th>\n",
       "      <th>...</th>\n",
       "      <th>Hardware type</th>\n",
       "      <th>Training compute estimation method</th>\n",
       "      <th>Biological model safeguards</th>\n",
       "      <th>Hardware utilization (temp)</th>\n",
       "      <th>BenchmarkHub-v1</th>\n",
       "      <th>Hugging Face developer id</th>\n",
       "      <th>Post-training compute (FLOP)</th>\n",
       "      <th>Post-training compute notes</th>\n",
       "      <th>Hardware maker</th>\n",
       "      <th>benchmarks/models</th>\n",
       "    </tr>\n",
       "  </thead>\n",
       "  <tbody>\n",
       "    <tr>\n",
       "      <th>21</th>\n",
       "      <td>Theseus</td>\n",
       "      <td>Robotics</td>\n",
       "      <td>Maze solving</td>\n",
       "      <td>Claude Shannon</td>\n",
       "      <td>Historical significance</td>\n",
       "      <td>NaN</td>\n",
       "      <td>NaN</td>\n",
       "      <td>https://www.technologyreview.com/2018/12/19/13...</td>\n",
       "      <td>0.0</td>\n",
       "      <td>Mighty Mouse</td>\n",
       "      <td>...</td>\n",
       "      <td>NaN</td>\n",
       "      <td>NaN</td>\n",
       "      <td>NaN</td>\n",
       "      <td>NaN</td>\n",
       "      <td>NaN</td>\n",
       "      <td>NaN</td>\n",
       "      <td>NaN</td>\n",
       "      <td>NaN</td>\n",
       "      <td>NaN</td>\n",
       "      <td>NaN</td>\n",
       "    </tr>\n",
       "    <tr>\n",
       "      <th>22</th>\n",
       "      <td>SNARC</td>\n",
       "      <td>Robotics</td>\n",
       "      <td>Maze solving</td>\n",
       "      <td>Marvin Minsky</td>\n",
       "      <td>Historical significance</td>\n",
       "      <td>NaN</td>\n",
       "      <td>NaN</td>\n",
       "      <td>https://en.wikipedia.org/wiki/Stochastic_neura...</td>\n",
       "      <td>33.0</td>\n",
       "      <td>A Neural-Analogue Calculator Based upon a Prob...</td>\n",
       "      <td>...</td>\n",
       "      <td>NaN</td>\n",
       "      <td>NaN</td>\n",
       "      <td>NaN</td>\n",
       "      <td>NaN</td>\n",
       "      <td>NaN</td>\n",
       "      <td>NaN</td>\n",
       "      <td>NaN</td>\n",
       "      <td>NaN</td>\n",
       "      <td>NaN</td>\n",
       "      <td>NaN</td>\n",
       "    </tr>\n",
       "    <tr>\n",
       "      <th>23</th>\n",
       "      <td>Genetic algorithm</td>\n",
       "      <td>Mathematics</td>\n",
       "      <td>Numerical simulation</td>\n",
       "      <td>NA Barricelli</td>\n",
       "      <td>Historical significance</td>\n",
       "      <td>Possibly first computer simulation of a geneti...</td>\n",
       "      <td>NaN</td>\n",
       "      <td>https://link.springer.com/article/10.1007/BF01...</td>\n",
       "      <td>266.0</td>\n",
       "      <td>Numerical testing of evolution theories</td>\n",
       "      <td>...</td>\n",
       "      <td>NaN</td>\n",
       "      <td>NaN</td>\n",
       "      <td>NaN</td>\n",
       "      <td>NaN</td>\n",
       "      <td>NaN</td>\n",
       "      <td>NaN</td>\n",
       "      <td>NaN</td>\n",
       "      <td>NaN</td>\n",
       "      <td>NaN</td>\n",
       "      <td>NaN</td>\n",
       "    </tr>\n",
       "    <tr>\n",
       "      <th>24</th>\n",
       "      <td>Sequence-based pattern recognition</td>\n",
       "      <td>Vision</td>\n",
       "      <td>Character recognition</td>\n",
       "      <td>O. G. Selfridge</td>\n",
       "      <td>Historical significance</td>\n",
       "      <td>NaN</td>\n",
       "      <td>NaN</td>\n",
       "      <td>https://dl.acm.org/doi/10.1145/1455292.1455310</td>\n",
       "      <td>290.0</td>\n",
       "      <td>Pattern recognition and modern computers</td>\n",
       "      <td>...</td>\n",
       "      <td>NaN</td>\n",
       "      <td>NaN</td>\n",
       "      <td>NaN</td>\n",
       "      <td>NaN</td>\n",
       "      <td>NaN</td>\n",
       "      <td>NaN</td>\n",
       "      <td>NaN</td>\n",
       "      <td>NaN</td>\n",
       "      <td>NaN</td>\n",
       "      <td>NaN</td>\n",
       "    </tr>\n",
       "    <tr>\n",
       "      <th>25</th>\n",
       "      <td>Self Organizing System</td>\n",
       "      <td>Other</td>\n",
       "      <td>Pattern recognition</td>\n",
       "      <td>W. A. Clark and B. G. Farley</td>\n",
       "      <td>Historical significance</td>\n",
       "      <td>NaN</td>\n",
       "      <td>NaN</td>\n",
       "      <td>https://dl.acm.org/doi/10.1145/1455292.1455309</td>\n",
       "      <td>93.0</td>\n",
       "      <td>Generalization of pattern recognition in a sel...</td>\n",
       "      <td>...</td>\n",
       "      <td>NaN</td>\n",
       "      <td>NaN</td>\n",
       "      <td>NaN</td>\n",
       "      <td>NaN</td>\n",
       "      <td>NaN</td>\n",
       "      <td>NaN</td>\n",
       "      <td>NaN</td>\n",
       "      <td>NaN</td>\n",
       "      <td>NaN</td>\n",
       "      <td>NaN</td>\n",
       "    </tr>\n",
       "    <tr>\n",
       "      <th>...</th>\n",
       "      <td>...</td>\n",
       "      <td>...</td>\n",
       "      <td>...</td>\n",
       "      <td>...</td>\n",
       "      <td>...</td>\n",
       "      <td>...</td>\n",
       "      <td>...</td>\n",
       "      <td>...</td>\n",
       "      <td>...</td>\n",
       "      <td>...</td>\n",
       "      <td>...</td>\n",
       "      <td>...</td>\n",
       "      <td>...</td>\n",
       "      <td>...</td>\n",
       "      <td>...</td>\n",
       "      <td>...</td>\n",
       "      <td>...</td>\n",
       "      <td>...</td>\n",
       "      <td>...</td>\n",
       "      <td>...</td>\n",
       "      <td>...</td>\n",
       "    </tr>\n",
       "    <tr>\n",
       "      <th>2324</th>\n",
       "      <td>Gemini 2.0 Flash</td>\n",
       "      <td>Language,Vision,Audio,Speech,Video,Multimodal</td>\n",
       "      <td>Language modelling/generation,Question answeri...</td>\n",
       "      <td>NaN</td>\n",
       "      <td>NaN</td>\n",
       "      <td>NaN</td>\n",
       "      <td>API access</td>\n",
       "      <td>https://blog.google/technology/google-deepmind...</td>\n",
       "      <td>NaN</td>\n",
       "      <td>Introducing Gemini 2.0: our new AI model for t...</td>\n",
       "      <td>...</td>\n",
       "      <td>NaN</td>\n",
       "      <td>NaN</td>\n",
       "      <td>NaN</td>\n",
       "      <td>NaN</td>\n",
       "      <td>NaN</td>\n",
       "      <td>NaN</td>\n",
       "      <td>NaN</td>\n",
       "      <td>NaN</td>\n",
       "      <td>Google</td>\n",
       "      <td>NaN</td>\n",
       "    </tr>\n",
       "    <tr>\n",
       "      <th>2325</th>\n",
       "      <td>Phi-4</td>\n",
       "      <td>Language</td>\n",
       "      <td>Language modelling/generation,Question answeri...</td>\n",
       "      <td>Marah Abdin, Jyoti Aneja, Harkirat Behl, Sébas...</td>\n",
       "      <td>NaN</td>\n",
       "      <td>NaN</td>\n",
       "      <td>Open weights (non-commercial)</td>\n",
       "      <td>https://arxiv.org/abs/2412.08905</td>\n",
       "      <td>NaN</td>\n",
       "      <td>Phi-4 Technical Report</td>\n",
       "      <td>...</td>\n",
       "      <td>NaN</td>\n",
       "      <td>Operation counting</td>\n",
       "      <td>NaN</td>\n",
       "      <td>NaN</td>\n",
       "      <td>NaN</td>\n",
       "      <td>NaN</td>\n",
       "      <td>NaN</td>\n",
       "      <td>NaN</td>\n",
       "      <td>NaN</td>\n",
       "      <td>NaN</td>\n",
       "    </tr>\n",
       "    <tr>\n",
       "      <th>2327</th>\n",
       "      <td>Veo 2</td>\n",
       "      <td>Video,Vision</td>\n",
       "      <td>Video generation</td>\n",
       "      <td>NaN</td>\n",
       "      <td>SOTA improvement</td>\n",
       "      <td>\"Veo has achieved state of the art results in ...</td>\n",
       "      <td>API access</td>\n",
       "      <td>https://deepmind.google/technologies/veo/veo-2/</td>\n",
       "      <td>NaN</td>\n",
       "      <td>Our state-of-the-art video generation model</td>\n",
       "      <td>...</td>\n",
       "      <td>NaN</td>\n",
       "      <td>NaN</td>\n",
       "      <td>NaN</td>\n",
       "      <td>NaN</td>\n",
       "      <td>NaN</td>\n",
       "      <td>NaN</td>\n",
       "      <td>NaN</td>\n",
       "      <td>NaN</td>\n",
       "      <td>NaN</td>\n",
       "      <td>NaN</td>\n",
       "    </tr>\n",
       "    <tr>\n",
       "      <th>2329</th>\n",
       "      <td>OLMo 2 Furious 7B</td>\n",
       "      <td>Language</td>\n",
       "      <td>Language modelling/generation,Question answering</td>\n",
       "      <td>Team OLMo, Pete Walsh, Luca Soldaini, Dirk Gro...</td>\n",
       "      <td>NaN</td>\n",
       "      <td>NaN</td>\n",
       "      <td>Open weights (unrestricted)</td>\n",
       "      <td>https://arxiv.org/abs/2501.00656</td>\n",
       "      <td>NaN</td>\n",
       "      <td>2 OLMo 2 Furious</td>\n",
       "      <td>...</td>\n",
       "      <td>NaN</td>\n",
       "      <td>Reported,Operation counting</td>\n",
       "      <td>NaN</td>\n",
       "      <td>NaN</td>\n",
       "      <td>NaN</td>\n",
       "      <td>allenai</td>\n",
       "      <td>NaN</td>\n",
       "      <td>NaN</td>\n",
       "      <td>NVIDIA</td>\n",
       "      <td>NaN</td>\n",
       "    </tr>\n",
       "    <tr>\n",
       "      <th>2330</th>\n",
       "      <td>OLMo 2 Furious 13B</td>\n",
       "      <td>Language</td>\n",
       "      <td>Language modelling/generation,Question answering</td>\n",
       "      <td>Team OLMo, Pete Walsh, Luca Soldaini, Dirk Gro...</td>\n",
       "      <td>NaN</td>\n",
       "      <td>NaN</td>\n",
       "      <td>Open weights (unrestricted)</td>\n",
       "      <td>https://arxiv.org/abs/2501.00656</td>\n",
       "      <td>NaN</td>\n",
       "      <td>2 OLMo 2 Furious</td>\n",
       "      <td>...</td>\n",
       "      <td>NaN</td>\n",
       "      <td>Reported,Operation counting</td>\n",
       "      <td>NaN</td>\n",
       "      <td>NaN</td>\n",
       "      <td>NaN</td>\n",
       "      <td>allenai</td>\n",
       "      <td>NaN</td>\n",
       "      <td>NaN</td>\n",
       "      <td>NVIDIA</td>\n",
       "      <td>NaN</td>\n",
       "    </tr>\n",
       "  </tbody>\n",
       "</table>\n",
       "<p>1734 rows × 93 columns</p>\n",
       "</div>"
      ],
      "text/plain": [
       "                                   Model  \\\n",
       "21                               Theseus   \n",
       "22                                 SNARC   \n",
       "23                     Genetic algorithm   \n",
       "24    Sequence-based pattern recognition   \n",
       "25                Self Organizing System   \n",
       "...                                  ...   \n",
       "2324                    Gemini 2.0 Flash   \n",
       "2325                               Phi-4   \n",
       "2327                               Veo 2   \n",
       "2329                   OLMo 2 Furious 7B   \n",
       "2330                  OLMo 2 Furious 13B   \n",
       "\n",
       "                                             Domain  \\\n",
       "21                                         Robotics   \n",
       "22                                         Robotics   \n",
       "23                                      Mathematics   \n",
       "24                                           Vision   \n",
       "25                                            Other   \n",
       "...                                             ...   \n",
       "2324  Language,Vision,Audio,Speech,Video,Multimodal   \n",
       "2325                                       Language   \n",
       "2327                                   Video,Vision   \n",
       "2329                                       Language   \n",
       "2330                                       Language   \n",
       "\n",
       "                                                   Task  \\\n",
       "21                                         Maze solving   \n",
       "22                                         Maze solving   \n",
       "23                                 Numerical simulation   \n",
       "24                                Character recognition   \n",
       "25                                  Pattern recognition   \n",
       "...                                                 ...   \n",
       "2324  Language modelling/generation,Question answeri...   \n",
       "2325  Language modelling/generation,Question answeri...   \n",
       "2327                                   Video generation   \n",
       "2329   Language modelling/generation,Question answering   \n",
       "2330   Language modelling/generation,Question answering   \n",
       "\n",
       "                                                Authors  \\\n",
       "21                                       Claude Shannon   \n",
       "22                                        Marvin Minsky   \n",
       "23                                        NA Barricelli   \n",
       "24                                      O. G. Selfridge   \n",
       "25                         W. A. Clark and B. G. Farley   \n",
       "...                                                 ...   \n",
       "2324                                                NaN   \n",
       "2325  Marah Abdin, Jyoti Aneja, Harkirat Behl, Sébas...   \n",
       "2327                                                NaN   \n",
       "2329  Team OLMo, Pete Walsh, Luca Soldaini, Dirk Gro...   \n",
       "2330  Team OLMo, Pete Walsh, Luca Soldaini, Dirk Gro...   \n",
       "\n",
       "          Notability criteria  \\\n",
       "21    Historical significance   \n",
       "22    Historical significance   \n",
       "23    Historical significance   \n",
       "24    Historical significance   \n",
       "25    Historical significance   \n",
       "...                       ...   \n",
       "2324                      NaN   \n",
       "2325                      NaN   \n",
       "2327         SOTA improvement   \n",
       "2329                      NaN   \n",
       "2330                      NaN   \n",
       "\n",
       "                              Notability criteria notes  \\\n",
       "21                                                  NaN   \n",
       "22                                                  NaN   \n",
       "23    Possibly first computer simulation of a geneti...   \n",
       "24                                                  NaN   \n",
       "25                                                  NaN   \n",
       "...                                                 ...   \n",
       "2324                                                NaN   \n",
       "2325                                                NaN   \n",
       "2327  \"Veo has achieved state of the art results in ...   \n",
       "2329                                                NaN   \n",
       "2330                                                NaN   \n",
       "\n",
       "                Model accessibility  \\\n",
       "21                              NaN   \n",
       "22                              NaN   \n",
       "23                              NaN   \n",
       "24                              NaN   \n",
       "25                              NaN   \n",
       "...                             ...   \n",
       "2324                     API access   \n",
       "2325  Open weights (non-commercial)   \n",
       "2327                     API access   \n",
       "2329    Open weights (unrestricted)   \n",
       "2330    Open weights (unrestricted)   \n",
       "\n",
       "                                                   Link  Citations  \\\n",
       "21    https://www.technologyreview.com/2018/12/19/13...        0.0   \n",
       "22    https://en.wikipedia.org/wiki/Stochastic_neura...       33.0   \n",
       "23    https://link.springer.com/article/10.1007/BF01...      266.0   \n",
       "24       https://dl.acm.org/doi/10.1145/1455292.1455310      290.0   \n",
       "25       https://dl.acm.org/doi/10.1145/1455292.1455309       93.0   \n",
       "...                                                 ...        ...   \n",
       "2324  https://blog.google/technology/google-deepmind...        NaN   \n",
       "2325                   https://arxiv.org/abs/2412.08905        NaN   \n",
       "2327    https://deepmind.google/technologies/veo/veo-2/        NaN   \n",
       "2329                   https://arxiv.org/abs/2501.00656        NaN   \n",
       "2330                   https://arxiv.org/abs/2501.00656        NaN   \n",
       "\n",
       "                                              Reference  ... Hardware type  \\\n",
       "21                                         Mighty Mouse  ...           NaN   \n",
       "22    A Neural-Analogue Calculator Based upon a Prob...  ...           NaN   \n",
       "23              Numerical testing of evolution theories  ...           NaN   \n",
       "24             Pattern recognition and modern computers  ...           NaN   \n",
       "25    Generalization of pattern recognition in a sel...  ...           NaN   \n",
       "...                                                 ...  ...           ...   \n",
       "2324  Introducing Gemini 2.0: our new AI model for t...  ...           NaN   \n",
       "2325                             Phi-4 Technical Report  ...           NaN   \n",
       "2327        Our state-of-the-art video generation model  ...           NaN   \n",
       "2329                                   2 OLMo 2 Furious  ...           NaN   \n",
       "2330                                   2 OLMo 2 Furious  ...           NaN   \n",
       "\n",
       "     Training compute estimation method  Biological model safeguards  \\\n",
       "21                                  NaN                          NaN   \n",
       "22                                  NaN                          NaN   \n",
       "23                                  NaN                          NaN   \n",
       "24                                  NaN                          NaN   \n",
       "25                                  NaN                          NaN   \n",
       "...                                 ...                          ...   \n",
       "2324                                NaN                          NaN   \n",
       "2325                 Operation counting                          NaN   \n",
       "2327                                NaN                          NaN   \n",
       "2329        Reported,Operation counting                          NaN   \n",
       "2330        Reported,Operation counting                          NaN   \n",
       "\n",
       "     Hardware utilization (temp)  BenchmarkHub-v1 Hugging Face developer id  \\\n",
       "21                           NaN              NaN                       NaN   \n",
       "22                           NaN              NaN                       NaN   \n",
       "23                           NaN              NaN                       NaN   \n",
       "24                           NaN              NaN                       NaN   \n",
       "25                           NaN              NaN                       NaN   \n",
       "...                          ...              ...                       ...   \n",
       "2324                         NaN              NaN                       NaN   \n",
       "2325                         NaN              NaN                       NaN   \n",
       "2327                         NaN              NaN                       NaN   \n",
       "2329                         NaN              NaN                   allenai   \n",
       "2330                         NaN              NaN                   allenai   \n",
       "\n",
       "     Post-training compute (FLOP) Post-training compute notes  Hardware maker  \\\n",
       "21                            NaN                         NaN             NaN   \n",
       "22                            NaN                         NaN             NaN   \n",
       "23                            NaN                         NaN             NaN   \n",
       "24                            NaN                         NaN             NaN   \n",
       "25                            NaN                         NaN             NaN   \n",
       "...                           ...                         ...             ...   \n",
       "2324                          NaN                         NaN          Google   \n",
       "2325                          NaN                         NaN             NaN   \n",
       "2327                          NaN                         NaN             NaN   \n",
       "2329                          NaN                         NaN          NVIDIA   \n",
       "2330                          NaN                         NaN          NVIDIA   \n",
       "\n",
       "     benchmarks/models  \n",
       "21                 NaN  \n",
       "22                 NaN  \n",
       "23                 NaN  \n",
       "24                 NaN  \n",
       "25                 NaN  \n",
       "...                ...  \n",
       "2324               NaN  \n",
       "2325               NaN  \n",
       "2327               NaN  \n",
       "2329               NaN  \n",
       "2330               NaN  \n",
       "\n",
       "[1734 rows x 93 columns]"
      ]
     },
     "execution_count": 14,
     "metadata": {},
     "output_type": "execute_result"
    }
   ],
   "source": [
    "country_df[~country_df['Country (from Organization)'].str.contains('China')]"
   ]
  },
  {
   "cell_type": "markdown",
   "metadata": {},
   "source": [
    "Check if the country is listed.\n",
    "\n",
    "TODO: try other methods of reducing multiple countries to one country.\n",
    "- Use the first country listed\n",
    "- Mutually exclusive (e.g. China but NOT Non-China)"
   ]
  },
  {
   "cell_type": "code",
   "execution_count": 15,
   "metadata": {},
   "outputs": [
    {
     "name": "stderr",
     "output_type": "stream",
     "text": [
      "/var/folders/s2/stl5t_bn7xg9vdfxxr71rzrc0000gn/T/ipykernel_38366/615093895.py:27: SettingWithCopyWarning: \n",
      "A value is trying to be set on a copy of a slice from a DataFrame.\n",
      "Try using .loc[row_indexer,col_indexer] = value instead\n",
      "\n",
      "See the caveats in the documentation: https://pandas.pydata.org/pandas-docs/stable/user_guide/indexing.html#returning-a-view-versus-a-copy\n",
      "  country_df.loc[:, 'Country'] = country_df.apply(assign_country, axis=1)\n"
     ]
    },
    {
     "data": {
      "text/html": [
       "<div>\n",
       "<style scoped>\n",
       "    .dataframe tbody tr th:only-of-type {\n",
       "        vertical-align: middle;\n",
       "    }\n",
       "\n",
       "    .dataframe tbody tr th {\n",
       "        vertical-align: top;\n",
       "    }\n",
       "\n",
       "    .dataframe thead th {\n",
       "        text-align: right;\n",
       "    }\n",
       "</style>\n",
       "<table border=\"1\" class=\"dataframe\">\n",
       "  <thead>\n",
       "    <tr style=\"text-align: right;\">\n",
       "      <th></th>\n",
       "      <th>Model</th>\n",
       "      <th>Country</th>\n",
       "    </tr>\n",
       "  </thead>\n",
       "  <tbody>\n",
       "    <tr>\n",
       "      <th>324</th>\n",
       "      <td>AdaRNN</td>\n",
       "      <td>China</td>\n",
       "    </tr>\n",
       "    <tr>\n",
       "      <th>328</th>\n",
       "      <td>SPPNet</td>\n",
       "      <td>China</td>\n",
       "    </tr>\n",
       "    <tr>\n",
       "      <th>334</th>\n",
       "      <td>ACF-WIDER</td>\n",
       "      <td>China</td>\n",
       "    </tr>\n",
       "    <tr>\n",
       "      <th>348</th>\n",
       "      <td>Cascaded LNet-ANet</td>\n",
       "      <td>China</td>\n",
       "    </tr>\n",
       "    <tr>\n",
       "      <th>360</th>\n",
       "      <td>CRF-RNN</td>\n",
       "      <td>China</td>\n",
       "    </tr>\n",
       "    <tr>\n",
       "      <th>...</th>\n",
       "      <td>...</td>\n",
       "      <td>...</td>\n",
       "    </tr>\n",
       "    <tr>\n",
       "      <th>2311</th>\n",
       "      <td>QwQ</td>\n",
       "      <td>China</td>\n",
       "    </tr>\n",
       "    <tr>\n",
       "      <th>2318</th>\n",
       "      <td>Hunyuan Video</td>\n",
       "      <td>China</td>\n",
       "    </tr>\n",
       "    <tr>\n",
       "      <th>2320</th>\n",
       "      <td>Hailuo I2V-01-Live</td>\n",
       "      <td>China</td>\n",
       "    </tr>\n",
       "    <tr>\n",
       "      <th>2326</th>\n",
       "      <td>F5-TTS</td>\n",
       "      <td>China</td>\n",
       "    </tr>\n",
       "    <tr>\n",
       "      <th>2328</th>\n",
       "      <td>DeepSeek-V3</td>\n",
       "      <td>China</td>\n",
       "    </tr>\n",
       "  </tbody>\n",
       "</table>\n",
       "<p>470 rows × 2 columns</p>\n",
       "</div>"
      ],
      "text/plain": [
       "                   Model Country\n",
       "324               AdaRNN   China\n",
       "328               SPPNet   China\n",
       "334            ACF-WIDER   China\n",
       "348   Cascaded LNet-ANet   China\n",
       "360              CRF-RNN   China\n",
       "...                  ...     ...\n",
       "2311                 QwQ   China\n",
       "2318       Hunyuan Video   China\n",
       "2320  Hailuo I2V-01-Live   China\n",
       "2326              F5-TTS   China\n",
       "2328         DeepSeek-V3   China\n",
       "\n",
       "[470 rows x 2 columns]"
      ]
     },
     "metadata": {},
     "output_type": "display_data"
    },
    {
     "data": {
      "text/html": [
       "<div>\n",
       "<style scoped>\n",
       "    .dataframe tbody tr th:only-of-type {\n",
       "        vertical-align: middle;\n",
       "    }\n",
       "\n",
       "    .dataframe tbody tr th {\n",
       "        vertical-align: top;\n",
       "    }\n",
       "\n",
       "    .dataframe thead th {\n",
       "        text-align: right;\n",
       "    }\n",
       "</style>\n",
       "<table border=\"1\" class=\"dataframe\">\n",
       "  <thead>\n",
       "    <tr style=\"text-align: right;\">\n",
       "      <th></th>\n",
       "      <th>Model</th>\n",
       "      <th>Country</th>\n",
       "    </tr>\n",
       "  </thead>\n",
       "  <tbody>\n",
       "    <tr>\n",
       "      <th>21</th>\n",
       "      <td>Theseus</td>\n",
       "      <td>Non-China</td>\n",
       "    </tr>\n",
       "    <tr>\n",
       "      <th>22</th>\n",
       "      <td>SNARC</td>\n",
       "      <td>Non-China</td>\n",
       "    </tr>\n",
       "    <tr>\n",
       "      <th>23</th>\n",
       "      <td>Genetic algorithm</td>\n",
       "      <td>Non-China</td>\n",
       "    </tr>\n",
       "    <tr>\n",
       "      <th>24</th>\n",
       "      <td>Sequence-based pattern recognition</td>\n",
       "      <td>Non-China</td>\n",
       "    </tr>\n",
       "    <tr>\n",
       "      <th>25</th>\n",
       "      <td>Self Organizing System</td>\n",
       "      <td>Non-China</td>\n",
       "    </tr>\n",
       "    <tr>\n",
       "      <th>...</th>\n",
       "      <td>...</td>\n",
       "      <td>...</td>\n",
       "    </tr>\n",
       "    <tr>\n",
       "      <th>2324</th>\n",
       "      <td>Gemini 2.0 Flash</td>\n",
       "      <td>Non-China</td>\n",
       "    </tr>\n",
       "    <tr>\n",
       "      <th>2325</th>\n",
       "      <td>Phi-4</td>\n",
       "      <td>Non-China</td>\n",
       "    </tr>\n",
       "    <tr>\n",
       "      <th>2327</th>\n",
       "      <td>Veo 2</td>\n",
       "      <td>Non-China</td>\n",
       "    </tr>\n",
       "    <tr>\n",
       "      <th>2329</th>\n",
       "      <td>OLMo 2 Furious 7B</td>\n",
       "      <td>Non-China</td>\n",
       "    </tr>\n",
       "    <tr>\n",
       "      <th>2330</th>\n",
       "      <td>OLMo 2 Furious 13B</td>\n",
       "      <td>Non-China</td>\n",
       "    </tr>\n",
       "  </tbody>\n",
       "</table>\n",
       "<p>1732 rows × 2 columns</p>\n",
       "</div>"
      ],
      "text/plain": [
       "                                   Model    Country\n",
       "21                               Theseus  Non-China\n",
       "22                                 SNARC  Non-China\n",
       "23                     Genetic algorithm  Non-China\n",
       "24    Sequence-based pattern recognition  Non-China\n",
       "25                Self Organizing System  Non-China\n",
       "...                                  ...        ...\n",
       "2324                    Gemini 2.0 Flash  Non-China\n",
       "2325                               Phi-4  Non-China\n",
       "2327                               Veo 2  Non-China\n",
       "2329                   OLMo 2 Furious 7B  Non-China\n",
       "2330                  OLMo 2 Furious 13B  Non-China\n",
       "\n",
       "[1732 rows x 2 columns]"
      ]
     },
     "metadata": {},
     "output_type": "display_data"
    },
    {
     "data": {
      "text/html": [
       "<div>\n",
       "<style scoped>\n",
       "    .dataframe tbody tr th:only-of-type {\n",
       "        vertical-align: middle;\n",
       "    }\n",
       "\n",
       "    .dataframe tbody tr th {\n",
       "        vertical-align: top;\n",
       "    }\n",
       "\n",
       "    .dataframe thead th {\n",
       "        text-align: right;\n",
       "    }\n",
       "</style>\n",
       "<table border=\"1\" class=\"dataframe\">\n",
       "  <thead>\n",
       "    <tr style=\"text-align: right;\">\n",
       "      <th></th>\n",
       "      <th>Model</th>\n",
       "      <th>Country</th>\n",
       "    </tr>\n",
       "  </thead>\n",
       "  <tbody>\n",
       "  </tbody>\n",
       "</table>\n",
       "</div>"
      ],
      "text/plain": [
       "Empty DataFrame\n",
       "Columns: [Model, Country]\n",
       "Index: []"
      ]
     },
     "metadata": {},
     "output_type": "display_data"
    }
   ],
   "source": [
    "# Excluding Taiwan, since it has a different status w.r.t. the US and export controls\n",
    "china_countries = ['China', 'Hong Kong']\n",
    "\n",
    "# Including China\n",
    "def assign_country_inclusively(row):\n",
    "    if any([country in china_countries for country in row['Country (from Organization)'].split(',')]):\n",
    "        return 'China'\n",
    "    else:\n",
    "        return 'Non-China'\n",
    "\n",
    "# Exclusively China\n",
    "def assign_country_exclusively(row):\n",
    "    countries = row['Country (from Organization)'].split(',')\n",
    "    # Allow multinational if no non-China country is also listed\n",
    "    # This applies to Tencent, for example\n",
    "    if all([(country in china_countries) or (country == 'Multinational') for country in countries]):\n",
    "        return 'China'\n",
    "    elif any([country in china_countries for country in countries]):\n",
    "        # Not exclusively China - discard because it's an ambiguous case\n",
    "        return np.nan\n",
    "    else:\n",
    "        # Exclusively Non-China\n",
    "        return 'Non-China'\n",
    "\n",
    "# First country listed\n",
    "assign_country = assign_country_inclusively if assign_country_method == 'inclusive' else assign_country_exclusively\n",
    "country_df.loc[:, 'Country'] = country_df.apply(assign_country, axis=1)\n",
    "\n",
    "display(country_df[country_df['Country'] == 'China'][['Model', 'Country']])\n",
    "display(country_df[country_df['Country'] == 'Non-China'][['Model', 'Country']])\n",
    "display(country_df[country_df['Country'].isna()][['Model', 'Country']])\n"
   ]
  },
  {
   "cell_type": "code",
   "execution_count": 16,
   "metadata": {},
   "outputs": [
    {
     "name": "stdout",
     "output_type": "stream",
     "text": [
      "Non-China 1732\n",
      "China 470\n"
     ]
    }
   ],
   "source": [
    "for cat in country_df['Country'].unique():\n",
    "    if pd.isna(cat):\n",
    "        print(cat, len(country_df.loc[country_df['Country'].isna()]))\n",
    "    else:\n",
    "        print(cat, len(country_df.loc[country_df['Country'] == cat]))"
   ]
  },
  {
   "cell_type": "code",
   "execution_count": 17,
   "metadata": {},
   "outputs": [],
   "source": [
    "df = country_df"
   ]
  },
  {
   "cell_type": "code",
   "execution_count": 18,
   "metadata": {},
   "outputs": [],
   "source": [
    "def find_top_models_up_to_release(df, top_n):\n",
    "    \"\"\"Find the models which were in the top n by compute when they were released.\"\"\"\n",
    "    # This set will keep track of models that were ever in the top 10 at their release\n",
    "    ever_in_top_n = set()\n",
    "\n",
    "    # Iterate over each date in the DataFrame\n",
    "    for current_date in df['date'].unique():\n",
    "        # Get all entries up to the current date\n",
    "        historical_data = df[df['date'] <= current_date]\n",
    "        # Find top 10 models by flop count in this subset\n",
    "        top_n_models = historical_data.nlargest(top_n, 'flop')['Model']\n",
    "        # Update the set of models that were ever in top n\n",
    "        ever_in_top_n.update(top_n_models)\n",
    "\n",
    "    # Return DataFrame filtered to only include models that were ever in the top 10\n",
    "    return df[df['Model'].isin(ever_in_top_n)]\n",
    "\n",
    "\n",
    "def filter_top_models_within_category(df, top_n, cutoff_date, category):\n",
    "    \"\"\"Find the models which were in the top-n by compute when they were released,\n",
    "    among models in the specified category. The top-n models in the specified category\n",
    "    are seeded with the overall top-n models before the cutoff date.\n",
    "    \"\"\"\n",
    "    # Filter top-n models within the category, but seeded with overall top-n models\n",
    "    top_models_df = find_top_models_up_to_release(df, top_n)\n",
    "    top_n_models_at_cutoff_date_df = top_models_df[top_models_df['date'] <= cutoff_date].nlargest(top_n, 'flop')\n",
    "    category_df = df[df['category'] == category]\n",
    "\n",
    "    # This set will keep track of models that were ever in the top 10 at their release\n",
    "    ever_in_top_n = set()\n",
    "\n",
    "    # Iterate over each date in the DataFrame\n",
    "    for current_date in category_df['date'].unique():\n",
    "        # Get all entries up to the current date\n",
    "        category_since_cutoff = category_df[(category_df['date'] <= current_date) & (category_df['date'] > cutoff_date)]\n",
    "        historical_data = pd.concat([category_since_cutoff, top_n_models_at_cutoff_date_df])\n",
    "        # Find top 10 models by flop count in this subset\n",
    "        top_n_models_df = historical_data.nlargest(top_n, 'flop')\n",
    "        # Update the set of models that were ever in top n\n",
    "        # Filter out the models that aren't in the category\n",
    "        ever_in_top_n.update(top_n_models_df[top_n_models_df['category'].str.contains(category)]['Model'])\n",
    "\n",
    "    # Return DataFrame filtered to only include models that were ever in the top 10\n",
    "    new_df = df[df['Model'].isin(ever_in_top_n)]\n",
    "    # Assign the category to the new DataFrame (overwrites cases with both US and China)\n",
    "    # E.g. if a \"USA,China\" model is top-10 among models affiliated with China, then it's just \"China\"\n",
    "    new_df['category'] = category\n",
    "    \n",
    "    return new_df\n",
    "\n",
    "\n",
    "def filter_top_models_in_both_categories(df, top_n, cutoff_date):\n",
    "    # Get top models for Open and Closed categories\n",
    "    top_us_models = filter_top_models_within_category(df, top_n, cutoff_date, category='Non-China')\n",
    "    top_china_models = filter_top_models_within_category(df, top_n, cutoff_date, category='China')\n",
    "    # Combine the results\n",
    "    df_filtered = pd.concat([top_us_models, top_china_models])\n",
    "    # Sort the combined DataFrame by date\n",
    "    df_filtered = df_filtered.sort_values('date')\n",
    "    return df_filtered"
   ]
  },
  {
   "cell_type": "code",
   "execution_count": 19,
   "metadata": {},
   "outputs": [],
   "source": [
    "df_filtered = (df[['Model', 'Training compute (FLOP)', 'Publication date', 'Organization', 'Notability criteria', 'Domain', 'Base model', 'Country', 'Training hardware']]\n",
    "    .rename(columns={'Training compute (FLOP)': 'flop', 'Publication date': 'date', 'Country': 'category'})\n",
    "    .assign(date=lambda x: pd.to_datetime(x['date']), log_flop=lambda x: np.log10(x['flop']))\n",
    "    .sort_values('date'))"
   ]
  },
  {
   "cell_type": "code",
   "execution_count": 20,
   "metadata": {},
   "outputs": [
    {
     "data": {
      "text/plain": [
       "['BatchNorm',\n",
       " 'CompACT-Deep',\n",
       " 'Template Adaptation\\n',\n",
       " 'LRR-4X',\n",
       " 'CMS-RCNN',\n",
       " 'Order embeddings with layer norm',\n",
       " 'Layer Normalization: The Attentive Reader',\n",
       " 'Layer Normalization: Skip Thoughts',\n",
       " 'Layer Normalization: Draw',\n",
       " 'Layer Normalization: Handwriting sequence generation',\n",
       " 'DLDL',\n",
       " 'HR-ResNet101',\n",
       " 'ULM-FiT',\n",
       " 'ADP-FAIRSEQ + NGRAMRES',\n",
       " 'Fine-tuned-AWD-LSTM-DOC (fin)',\n",
       " 'Cross-lingual alignment',\n",
       " 'Theseus 6/768',\n",
       " 'UnifiedQA',\n",
       " 'LUKE',\n",
       " 'GPT-Neo-2.7B (finetuned on PTB)',\n",
       " 'GPT-Neo-2.7B (finetuned)',\n",
       " 'Unicorn',\n",
       " 'Multitask Unified Model (MUM)',\n",
       " 'Codex',\n",
       " '$\\\\infty$-former (SM)',\n",
       " 'FLAN 137B',\n",
       " 'AlphaFold-Multimer',\n",
       " 'T0-XXL',\n",
       " 'GPT-2 (AMPS)',\n",
       " 'Masked Autoencoders ViT-H',\n",
       " 'ViT-G/14 (LiT)',\n",
       " 'Engine-XL(NE)',\n",
       " 'HSO',\n",
       " 'Contriever',\n",
       " 'Vespa',\n",
       " 'OntoProtein',\n",
       " 'InstructGPT 175B',\n",
       " 'InstructGPT 6B',\n",
       " 'InstructGPT 1.3B',\n",
       " 'InstructGPT 350M',\n",
       " 'BERT-RBP',\n",
       " 'Flamingo',\n",
       " 'Jurassic-X',\n",
       " 'DeBERTaV3large + KEAR',\n",
       " 'SimCSE',\n",
       " 'CogVideo',\n",
       " 'Minerva (540B)',\n",
       " 'Delphi',\n",
       " 'Transformer-XL + RMT',\n",
       " 'GPT-NeoX-Japanese',\n",
       " 'BlenderBot 3',\n",
       " 'PaLM-SayCan',\n",
       " 'Sparrow',\n",
       " 'NMST+GPT-2',\n",
       " 'Decaying Fast Weights Transformer (WT-103)',\n",
       " \"Instruct-GPT + Mind's Eye\",\n",
       " 'GPT-2 + Progressive LRD',\n",
       " 'Flan-T5 11B',\n",
       " 'Flan-PaLM 540B',\n",
       " 'U-PaLM (540B)',\n",
       " 'LMSI-Palm',\n",
       " 'Tk-Instruct',\n",
       " 'retrieval-quality-kNN-LMs',\n",
       " 'Taiyi-Stable Diffusion',\n",
       " 'mT0-13B',\n",
       " 'BLOOMZ-176B',\n",
       " 'AltCLIP_M9',\n",
       " 'AR-LDM',\n",
       " 'DiT-XL/2 + Discriminator Guidance',\n",
       " 'TranceptEve',\n",
       " 'OPT-IML (175B)',\n",
       " 'SparseOPT-30B',\n",
       " 'SparseOPT-175B',\n",
       " 'SparseOPT-66B',\n",
       " 'MusicLM',\n",
       " 'Flan T5-XXL + BLIP-2',\n",
       " 'ProteinDT',\n",
       " 'DiT-XL/2',\n",
       " 'Flan UL2',\n",
       " 'PaLM-E',\n",
       " 'Alpaca',\n",
       " 'LEP-AD',\n",
       " 'VideoMAE V2',\n",
       " 'Vicuna-13B v0',\n",
       " 'Vicuna-7B v0',\n",
       " 'Segment Anything Model',\n",
       " 'BELLE-7B-0.2M',\n",
       " 'BELLE-7B-0.6M ',\n",
       " 'BELLE-7B-1M',\n",
       " 'BELLE-7B-2M',\n",
       " 'gLM',\n",
       " 'Dolly 2.0-12b',\n",
       " 'BELLE-LLaMA-EXT-7B',\n",
       " 'LLaVA',\n",
       " 'MOSS-Moon-003',\n",
       " 'AlphaLink',\n",
       " 'WizardLM-7B',\n",
       " 'WizardLM 70B',\n",
       " 'InstructBLIP',\n",
       " 'Med-PaLM 2',\n",
       " 'CoEdiT-xxl',\n",
       " 'LIMA',\n",
       " 'XuanYuan 2.0',\n",
       " 'LLaMA-7B (LoRA finetuned)',\n",
       " 'LLaMA-65B (LoRA finetuned)',\n",
       " 'LLaMA-13B (LoRA finetuned)',\n",
       " 'LLaMA-33B (LoRA finetuned)',\n",
       " 'Goat-7B',\n",
       " 'Guanaco-65B',\n",
       " 'HuatuoGPT',\n",
       " 'PaLI-X',\n",
       " 'SYNTERACT',\n",
       " 'BELLE-LLaMA-7B-0.6M-enc',\n",
       " 'BELLE-LLaMA-7B-2M-enc ',\n",
       " 'BELLE-LLaMA-13B-2M-enc',\n",
       " 'WizardCoder-15.5B',\n",
       " 'Vicuna-33B-v1.3',\n",
       " 'Vicuna-13B-v1.3',\n",
       " 'Vicuna-7B-v1.3',\n",
       " 'Llama-2-Chinese 13B',\n",
       " 'Med-PaLM',\n",
       " 'Stable Beluga 2',\n",
       " 'Stable Beluga 1',\n",
       " 'RFdiffusion',\n",
       " 'BELLE-Llama2-13B-chat-0.4M',\n",
       " 'RT-2',\n",
       " 'Vicuna-7B-v1.5',\n",
       " 'Vicuna-13B-v1.5',\n",
       " 'YuLan-Chat-2 (13B)',\n",
       " 'GGNN',\n",
       " 'Code Llama-13B',\n",
       " 'Code Llama-7B',\n",
       " 'Platypus-70B',\n",
       " 'Code Llama-34B',\n",
       " 'IDEFICS-80B',\n",
       " 'IDEFICS-9B',\n",
       " 'Qwen-VL',\n",
       " 'PeptideBERT',\n",
       " 'TigerBot-70B',\n",
       " 'bge-reranker-large',\n",
       " 'AlphaMissense',\n",
       " 'GPT-4V',\n",
       " 'InternLM-XComposer',\n",
       " 'LLaMA-7B (protein-oriented instruction-tuned)',\n",
       " 'MiniGPT4 (Vicuna finetune)',\n",
       " 'FinGPT-13B',\n",
       " 'Ferret (13B)',\n",
       " 'Table-GPT',\n",
       " 'RT-2-X',\n",
       " 'KwaiYiiMath',\n",
       " 'QMoE: compressed 1T model',\n",
       " 'Zephyr 7B',\n",
       " 'DiT-XL/2 + CADS',\n",
       " 'OpenChat 3.5-7B',\n",
       " 'MuggleMath',\n",
       " 'BLUUMI',\n",
       " 'LLaVA 1.5',\n",
       " 'Consistency Decoder',\n",
       " 'CogVLM-17B',\n",
       " 'OtterHD-8B',\n",
       " 'mPLUG-Owl2',\n",
       " 'OmniVec',\n",
       " 'LLaVA + LVIS-INSTRUCT4V',\n",
       " 'SPHINX (Llama 2 13B)',\n",
       " 'Volcano 13B',\n",
       " 'Mistral 7B + OVM',\n",
       " 'Tulu V2 DPO 70B',\n",
       " 'Claude 2.1',\n",
       " 'Orca 2-13B',\n",
       " 'Belle VL',\n",
       " 'Starling-LM-7B-alpha',\n",
       " 'PPLX-70B-Online',\n",
       " 'SARA-RT-2',\n",
       " 'NexusRaven-V2',\n",
       " 'OneLLM',\n",
       " 'Llama Guard',\n",
       " 'StableLM - Zephyr 3B',\n",
       " 'SeamlessM4T',\n",
       " 'CogAgent',\n",
       " 'FunSearch',\n",
       " 'Solar-10.7B',\n",
       " 'Elyza',\n",
       " 'Qarasu-14B',\n",
       " 'CoRe',\n",
       " 'RT-1 + AutoRT',\n",
       " 'Lumiere',\n",
       " 'Karakuri LM',\n",
       " 'Code Llama-70B',\n",
       " 'BGE-M3 Embedding',\n",
       " 'DeepSeekMath 7B',\n",
       " 'Aya',\n",
       " 'GroundingGPT',\n",
       " 'BaseFold',\n",
       " 'MiniGPT4 + LRV-Instruction',\n",
       " 'ReALM',\n",
       " 'POKE´LLMON',\n",
       " 'Zephyr 141B-A39B\\t\\t\\t\\t\\t\\t\\t\\t\\t\\t\\t\\t\\t\\t\\t\\t\\t\\t\\t\\t\\t\\t\\t\\t\\t\\t\\t\\t\\t\\t\\t\\t\\t\\t\\t\\t\\t\\t',\n",
       " 'WizardLM-2 7B',\n",
       " 'WizardLM-2 70B',\n",
       " 'WizardLM-2 8x22B',\n",
       " 'GRITLM 7B',\n",
       " 'GRITLM 8x7B',\n",
       " 'VISTA-2D',\n",
       " 'phi-3.5-Vision',\n",
       " 'Swallow',\n",
       " 'Med-Gemini-M 1.5',\n",
       " 'Idefics2',\n",
       " 'MetaMath 7B (LLaMa finetune)',\n",
       " 'MetaMath 7B (Mistral finetune)',\n",
       " 'MetaMath 70B',\n",
       " 'Med-Gemini-2D',\n",
       " 'Med-Gemini-3D',\n",
       " 'LearnLM-Tutor',\n",
       " 'GLM-4 (0520)',\n",
       " 'NV-Embed-v1',\n",
       " 'KeTu (Kolors)',\n",
       " 'Llama-3.1-Nemotron-70B-Instruct',\n",
       " 'OpenVLA',\n",
       " 'MindEye2',\n",
       " 'DeepSeek-Coder-V2 236B',\n",
       " 'MPNNsol',\n",
       " 'Hermes 2 Theta Llama-3 70B',\n",
       " 'ChatBit',\n",
       " 'ColPali',\n",
       " 'Qwen2-Audio',\n",
       " 'Cygnet',\n",
       " 'Athene-70B',\n",
       " 'OmniParser: Interactable Region Detection Model',\n",
       " 'OmniParser: Icon Description Model',\n",
       " '3-ensemble of Self-ensembles on CIFAR-100',\n",
       " 'Hermes 3 8B',\n",
       " 'Hermes 3 405B',\n",
       " 'Hermes 3 70B',\n",
       " 'DeepSeek-Prover-V1.5',\n",
       " 'GameNGen',\n",
       " 'NV-Embed-v2',\n",
       " 'xLAM-8x22B',\n",
       " 'ESM-DBP',\n",
       " 'DataGemma',\n",
       " 'YOLOv8 (reCAPTCHA fine-tuned)',\n",
       " 'Qwen2.5 Instruct (72B)',\n",
       " 'Llama 3.2 90B',\n",
       " 'Llama 3.2 11B',\n",
       " 'Molmo 72B',\n",
       " 'Takane',\n",
       " 'T2V-Turbo-v2',\n",
       " 'Janus 1.3B',\n",
       " 'NVLM-X 72B',\n",
       " 'NVLM-H 72B',\n",
       " 'NVLM-D 72B',\n",
       " 'π0 (pi-zero)',\n",
       " 'Minitron 4B',\n",
       " 'Llama-3.1-Minitron-4B',\n",
       " 'Minitron 8B',\n",
       " 'Pixtral Large',\n",
       " ' Tulu 3 (Tülu 3) 70B',\n",
       " 'QwQ',\n",
       " 'Intelligent Go-Explore (IGE)']"
      ]
     },
     "execution_count": 20,
     "metadata": {},
     "output_type": "execute_result"
    }
   ],
   "source": [
    "list(df_filtered[df_filtered['Base model'].notna()]['Model'])"
   ]
  },
  {
   "cell_type": "code",
   "execution_count": 21,
   "metadata": {},
   "outputs": [
    {
     "name": "stderr",
     "output_type": "stream",
     "text": [
      "/var/folders/s2/stl5t_bn7xg9vdfxxr71rzrc0000gn/T/ipykernel_38366/915502507.py:47: SettingWithCopyWarning: \n",
      "A value is trying to be set on a copy of a slice from a DataFrame.\n",
      "Try using .loc[row_indexer,col_indexer] = value instead\n",
      "\n",
      "See the caveats in the documentation: https://pandas.pydata.org/pandas-docs/stable/user_guide/indexing.html#returning-a-view-versus-a-copy\n",
      "  new_df['category'] = category\n"
     ]
    },
    {
     "name": "stdout",
     "output_type": "stream",
     "text": [
      "116 top 10 Language models models found\n",
      "They span August 2018 to December 2024\n"
     ]
    },
    {
     "name": "stderr",
     "output_type": "stream",
     "text": [
      "/var/folders/s2/stl5t_bn7xg9vdfxxr71rzrc0000gn/T/ipykernel_38366/915502507.py:47: SettingWithCopyWarning: \n",
      "A value is trying to be set on a copy of a slice from a DataFrame.\n",
      "Try using .loc[row_indexer,col_indexer] = value instead\n",
      "\n",
      "See the caveats in the documentation: https://pandas.pydata.org/pandas-docs/stable/user_guide/indexing.html#returning-a-view-versus-a-copy\n",
      "  new_df['category'] = category\n"
     ]
    }
   ],
   "source": [
    "# Add speculative compute estimates based on benchmark imputation and rough guesses\n",
    "if include_speculative_compute:\n",
    "    speculative_compute_estimates = {\n",
    "        \"Claude 3.5 Sonnet\": 4.72e25,\n",
    "        \"Claude 3 Opus\": 1.59e25,\n",
    "        \"Claude 3 Sonnet\": 5.51e24,\n",
    "        \"GPT-4o\": 3.98e25,\n",
    "        \"Gemini 1.0 Pro\": 1.85e24,\n",
    "        \"Gemini 1.5 Pro\": 1.60e25,\n",
    "        \"Mistral Large 2\": 2.01e25,\n",
    "        \"GPT-4 Turbo\": 2.1e25,  # rough guess matching GPT-4\n",
    "        \"GPT-4V\": 2.1e25,  # rough guess matching GPT-4\n",
    "        \"Claude 2\": 4.33e24,\n",
    "        \"Claude 2.1\": 4.33e24,  # rough guess matching Claude 2\n",
    "    }\n",
    "    for model, compute in speculative_compute_estimates.items():\n",
    "        df_filtered.loc[df_filtered['Model'] == model, \"flop\"] = compute\n",
    "        df_filtered.loc[df_filtered['Model'] == model, \"log_flop\"] = np.log10(compute)\n",
    "\n",
    "df_filtered.dropna(subset=['flop'], inplace=True)\n",
    "\n",
    "# Drop Alpha Go Master / Zero\n",
    "if filter_alphago_outliers:\n",
    "    mask = (df_filtered['Model'] == 'AlphaGo Master') | (df_filtered['Model'] == 'AlphaGo Zero')\n",
    "    df_filtered = df_filtered[~mask]\n",
    "\n",
    "# Drop finetuned models\n",
    "if filter_finetuned_models:\n",
    "    mask = df_filtered['Base model'].isna()\n",
    "    df_filtered = df_filtered[mask]\n",
    "\n",
    "top_models_df = find_top_models_up_to_release(df_filtered, top_n)  # For reference\n",
    "\n",
    "if frontier_selection == 'external':\n",
    "    # Filter top models before other filters\n",
    "    df_filtered = filter_top_models_in_both_categories(df_filtered, top_n, top_n_cutoff_date)\n",
    "\n",
    "if model_selection == 'Language models':\n",
    "    re = 'Language|Multimodal'\n",
    "    mask = df_filtered['Domain'].str.contains(re, na=False)\n",
    "    df_filtered = df_filtered[mask]\n",
    "\n",
    "if frontier_selection == 'internal':\n",
    "    # Filter top models after other filters\n",
    "    df_filtered = filter_top_models_in_both_categories(df_filtered, top_n, top_n_cutoff_date)\n",
    "\n",
    "# Filter for models after the cutoff date\n",
    "df_filtered = df_filtered[df_filtered['date'] > cutoff_date]\n",
    "\n",
    "print(f\"{len(df_filtered)}{' top' if frontier_selection != 'disabled' else ''} {top_n} {model_selection} models found\")\n",
    "print(f\"They span {df_filtered['date'].min().strftime('%B %Y')} to {df_filtered['date'].max().strftime('%B %Y')}\")"
   ]
  },
  {
   "cell_type": "code",
   "execution_count": 22,
   "metadata": {},
   "outputs": [],
   "source": [
    "if top_n == 1:\n",
    "    # Remove BIDAF outlier\n",
    "    df_filtered = df_filtered[df_filtered['Model'] != 'BIDAF']"
   ]
  },
  {
   "cell_type": "code",
   "execution_count": 23,
   "metadata": {},
   "outputs": [
    {
     "data": {
      "application/vnd.plotly.v1+json": {
       "config": {
        "plotlyServerURL": "https://plot.ly"
       },
       "data": [
        {
         "hoverinfo": "text",
         "marker": {
          "color": "blue",
          "opacity": 0.5
         },
         "mode": "markers",
         "name": "Top-10 Non-China",
         "text": [
          "Big Transformer for Back-Translation",
          "GPT-2 (1.5B)",
          "Grover-Mega",
          "XLNet",
          "RoBERTa Large",
          "Megatron-LM (8.3B)",
          "Megatron-BERT",
          "T5-11B",
          "T5-3B",
          "XLM-RoBERTa",
          "Meena",
          "Turing-NLG",
          "GPT-3 175B (davinci)",
          "GPT-3 13B",
          "GShard (dense)",
          "mT5-XXL",
          "Switch",
          "ByT5-XXL",
          "Jurassic-1-Jumbo",
          "HyperCLOVA 82B",
          "Megatron-Turing NLG 530B",
          "Gopher (280B)",
          "GLaM",
          "EXAONE 1.0",
          "AlphaCode",
          "GPT-NeoX-20B",
          "LaMDA",
          "ST-MoE",
          "Chinchilla",
          "PaLM (540B)",
          "OPT-175B",
          "BIG-G 137B",
          "BLOOM-176B",
          "GPT-3.5",
          "LLaMA-65B",
          "GPT-4",
          "PaLM 2",
          "Inflection-1",
          "Claude 2",
          "Llama 2-70B",
          "Falcon-180B",
          "Amazon Titan",
          "Mi:dm 200B",
          "Grok-1",
          "GPT-4 Turbo",
          "Inflection-2",
          "Gemini 1.0 Ultra",
          "Gemini 1.5 Pro",
          "Mistral Large",
          "Claude 3 Opus",
          "Aramco Metabrain AI",
          "Claude 3 Sonnet",
          "Inflection-2.5",
          "Reka Core",
          "GPT-4o",
          "Nemotron-4 340B",
          "Claude 3.5 Sonnet",
          "Llama 3.1-405B",
          "Mistral Large 2",
          "Grok-2"
         ],
         "type": "scatter",
         "x": [
          "2018-08-28T00:00:00",
          "2019-02-14T00:00:00",
          "2019-05-29T00:00:00",
          "2019-06-01T00:00:00",
          "2019-07-01T00:00:00",
          "2019-09-17T00:00:00",
          "2019-09-17T00:00:00",
          "2019-10-23T00:00:00",
          "2019-10-23T00:00:00",
          "2019-11-05T00:00:00",
          "2020-01-28T00:00:00",
          "2020-02-13T00:00:00",
          "2020-05-28T00:00:00",
          "2020-06-22T00:00:00",
          "2020-06-30T00:00:00",
          "2020-10-20T00:00:00",
          "2021-01-11T00:00:00",
          "2021-05-28T00:00:00",
          "2021-08-11T00:00:00",
          "2021-09-10T00:00:00",
          "2021-10-11T00:00:00",
          "2021-12-08T00:00:00",
          "2021-12-13T00:00:00",
          "2021-12-14T00:00:00",
          "2022-02-02T00:00:00",
          "2022-02-09T00:00:00",
          "2022-02-10T00:00:00",
          "2022-02-17T00:00:00",
          "2022-03-29T00:00:00",
          "2022-04-04T00:00:00",
          "2022-05-02T00:00:00",
          "2022-06-09T00:00:00",
          "2022-07-11T00:00:00",
          "2022-11-28T00:00:00",
          "2023-02-24T00:00:00",
          "2023-03-15T00:00:00",
          "2023-05-10T00:00:00",
          "2023-06-23T00:00:00",
          "2023-07-11T00:00:00",
          "2023-07-18T00:00:00",
          "2023-09-06T00:00:00",
          "2023-09-28T00:00:00",
          "2023-10-31T00:00:00",
          "2023-11-04T00:00:00",
          "2023-11-06T00:00:00",
          "2023-11-22T00:00:00",
          "2023-12-06T00:00:00",
          "2024-02-15T00:00:00",
          "2024-02-26T00:00:00",
          "2024-03-04T00:00:00",
          "2024-03-04T00:00:00",
          "2024-03-04T00:00:00",
          "2024-03-07T00:00:00",
          "2024-04-15T00:00:00",
          "2024-05-13T00:00:00",
          "2024-06-14T00:00:00",
          "2024-06-20T00:00:00",
          "2024-07-23T00:00:00",
          "2024-07-24T00:00:00",
          "2024-08-13T00:00:00"
         ],
         "y": [
          20.679500575799285,
          21.283301228703777,
          21.75587485567249,
          21.79169064902012,
          21.929761117107013,
          21.959041392321094,
          22.342422680822207,
          22.518513939877888,
          21.95424250944415,
          22.31722734917642,
          23.049218022670182,
          22.195899652409235,
          23.496929648073216,
          22.363611979892145,
          22.678062904974347,
          22.913813852383715,
          22.91487181754005,
          22.90848501887865,
          23.568201724066995,
          23.16908635748702,
          24.068185861746162,
          23.800029359244135,
          23.560661048781533,
          24.03360467383237,
          23.214695527046413,
          22.96924207030419,
          23.550228353055093,
          23.462397997898957,
          23.760422483423213,
          24.402639612897094,
          23.633468455579585,
          23.7481880270062,
          23.563082205700514,
          24.411282913017384,
          23.740362689494244,
          25.32221929473392,
          24.865696059916072,
          24.000043427276864,
          24.636487896353366,
          23.90848501887865,
          24.57518784492766,
          24.681241237375588,
          24.079181246047625,
          24.462397997900453,
          25.32221929473392,
          25.00043407747932,
          25.698970004344705,
          25.204119982655925,
          25.049218022670182,
          25.20139712432045,
          25.02118929906994,
          24.741151598851786,
          25.000043427276864,
          24.924279803078814,
          25.599883072073688,
          25.255272505103306,
          25.67394199863409,
          25.57978359661681,
          25.30319605742049,
          25.724275951543138
         ]
        },
        {
         "hoverinfo": "text",
         "marker": {
          "color": "red",
          "opacity": 0.5
         },
         "mode": "markers",
         "name": "Top-10 China",
         "text": [
          "Tensorized Transformer (257M)",
          "R-Transformer",
          "LSTM(large)+Sememe+cell",
          "MMLSTM",
          "TransformerXL + spectrum control",
          "Segatron XL large, M=384",
          "NAS+ESS (156M)",
          "ERNIE-GEN (large)",
          "Memformer (4 encoder + 16 decoder)",
          "KEPLER",
          "CPM-Large",
          "ERNIE-Doc (247M)",
          "Wu Dao - Wen Yuan",
          "Wu Dao - Wen Lan",
          "Wu Dao - Wen Hui",
          "M6-T",
          "GLM-10B",
          "PLUG",
          "PanGu-α",
          "CPM-2",
          "ERNIE 3.0",
          "Yuan 1.0",
          "ERNIE 3.0 Titan",
          "CodeGeeX",
          "GLM-130B",
          "PanGu-Σ",
          "JIANG",
          "Baichuan2-13B",
          "Hunyuan",
          "FLM-101B",
          "Qwen-7B",
          "Qwen-14B",
          "CodeFuse-13B",
          "Skywork-13B",
          "Nanbeige-16B",
          "BlueLM 70B",
          "Yi-34B",
          "BlueLM 130B",
          "BlueLM 175B",
          "Qwen-72B",
          "XVERSE-65B-2",
          "DeepSeek LLM 67B",
          "GLM-4 (0116)",
          "Qwen1.5-72B",
          "MegaScale (530B)",
          "MegaScale (Production)",
          "DeepSeek-V2 (MoE-236B)",
          "Yi-Large",
          "Doubao-pro",
          "Qwen2-72B",
          "DeepSeek-V2.5",
          "Qwen2.5-72B",
          "Telechat2-115B",
          "Yi-Lightning",
          "Hunyuan-Large",
          "DeepSeek-V3"
         ],
         "type": "scatter",
         "x": [
          "2019-06-24T00:00:00",
          "2019-07-12T00:00:00",
          "2019-10-20T00:00:00",
          "2019-12-05T00:00:00",
          "2020-03-11T00:00:00",
          "2020-04-30T00:00:00",
          "2020-05-06T00:00:00",
          "2020-08-06T00:00:00",
          "2020-10-14T00:00:00",
          "2020-11-23T00:00:00",
          "2020-12-01T00:00:00",
          "2020-12-31T00:00:00",
          "2021-01-11T00:00:00",
          "2021-03-01T00:00:00",
          "2021-03-01T00:00:00",
          "2021-03-05T00:00:00",
          "2021-03-18T00:00:00",
          "2021-04-19T00:00:00",
          "2021-04-25T00:00:00",
          "2021-06-24T00:00:00",
          "2021-07-05T00:00:00",
          "2021-10-12T00:00:00",
          "2021-12-23T00:00:00",
          "2022-06-22T00:00:00",
          "2022-08-04T00:00:00",
          "2023-03-20T00:00:00",
          "2023-08-01T00:00:00",
          "2023-09-06T00:00:00",
          "2023-09-07T00:00:00",
          "2023-09-07T00:00:00",
          "2023-09-28T00:00:00",
          "2023-09-28T00:00:00",
          "2023-10-10T00:00:00",
          "2023-10-30T00:00:00",
          "2023-11-01T00:00:00",
          "2023-11-02T00:00:00",
          "2023-11-02T00:00:00",
          "2023-11-02T00:00:00",
          "2023-11-02T00:00:00",
          "2023-11-30T00:00:00",
          "2023-12-08T00:00:00",
          "2024-01-05T00:00:00",
          "2024-01-17T00:00:00",
          "2024-02-04T00:00:00",
          "2024-02-23T00:00:00",
          "2024-02-23T00:00:00",
          "2024-05-07T00:00:00",
          "2024-05-13T00:00:00",
          "2024-05-15T00:00:00",
          "2024-06-07T00:00:00",
          "2024-09-06T00:00:00",
          "2024-09-19T00:00:00",
          "2024-09-20T00:00:00",
          "2024-10-18T00:00:00",
          "2024-11-06T00:00:00",
          "2024-12-24T00:00:00"
         ],
         "y": [
          18.67760695272049,
          15.924279286061882,
          16.380211241711606,
          18.3654879848909,
          17.662757831681574,
          19.423245873936807,
          18.460897842756548,
          20.30102999566398,
          19.079181246047625,
          20.093421685162234,
          21.255272505103306,
          19.463892988985908,
          20.813101038202902,
          21.857304700694954,
          20.0649130111967,
          21.740362689494244,
          22.578639209968074,
          22.556274705030972,
          22.708590845150344,
          22.55630250076741,
          22.352182518111363,
          23.548757828573716,
          24.017909395896687,
          22.82151352840484,
          23.550106671714225,
          23.66931688056611,
          22.60530504614111,
          23.307496037913214,
          24.079181246047625,
          22.757396028793025,
          23.00432137378264,
          23.397940008672037,
          23.489958479424836,
          23.397940008672037,
          23.380211241711606,
          23.6232492903979,
          23.785329835010767,
          23.89209460269048,
          24.02118929906994,
          24.113943352306837,
          24.09621458534641,
          23.905256048748452,
          25.079181246047625,
          24.113943352306837,
          23.986368593570276,
          24.5910646070265,
          24.008600171761916,
          24.255272505103306,
          25.398807730203263,
          24.48000694295715,
          24.25265888950062,
          24.89209460269048,
          24.838849090737256,
          24.17609125905568,
          24.543120248906924,
          24.516614689845596
         ]
        },
        {
         "hoverinfo": "text",
         "marker": {
          "color": "grey",
          "opacity": 0.5
         },
         "mode": "markers",
         "name": "Top-10 Overall",
         "text": [
          "6-layer MLP (MNIST)",
          "Feedforward NN",
          "iCCCP",
          "Pooling CNN (Caltech 101)",
          "Pooling CNN (NORB)",
          "RNN 1000/5 + RT09 LM (NIST RT05)",
          "RNN 500/10 + RT09 LM (NIST RT05)",
          "KN5 LM + RNN 400/10 (WSJ)",
          "Deep Autoencoders",
          "High Performance CNN",
          "CNN Committee (NIST)",
          "CNN Committee (MNIST)",
          "LSTM LM",
          "Dropout (ImageNet)",
          "Unsupervised High-level Feature Learner",
          "AlexNet",
          "DistBelief Speech",
          "DNN EM segmentation",
          "DistBelief NNLM",
          "ReLU-Speech",
          "Hierarchical Scene Labeling",
          "Mitosis",
          "Visualizing CNNs",
          "TransE",
          "GANs",
          "SPPNet",
          "RNNsearch-50*",
          "VGG16",
          "Seq2Seq LSTM",
          "GoogLeNet / InceptionV1",
          "SNM-skip",
          "MSRA (C, PReLU)",
          "AlphaGo Fan",
          "DeepSpeech2 (English)",
          "ResNet-152 (ImageNet)",
          "ResNet-101 (ImageNet)",
          "AlphaGo Lee",
          "ResNet-200",
          "GNMT",
          "Xception",
          "NASv3 (CIFAR-10)",
          "PolyNet",
          "Libratus",
          "MoE-Multi",
          "JFT",
          "OpenAI TI7 DOTA 1v1",
          "AlphaZero",
          "AmoebaNet-A (F=448)",
          "ResNeXt-101 32x48d",
          "Big Transformer for Back-Translation",
          "BigGAN-deep 512x512",
          "GPT-2 (1.5B)",
          "Grover-Mega",
          "MnasNet-A3",
          "MnasNet-A1 + SSDLite",
          "XLNet",
          "RoBERTa Large",
          "Megatron-BERT",
          "Megatron-LM (8.3B)",
          "T5-3B",
          "T5-11B",
          "AlphaStar",
          "XLM-RoBERTa",
          "Noisy Student (L2)",
          "OpenAI Five Rerun",
          "OpenAI Five",
          "Meena",
          "Turing-NLG",
          "GPT-3 175B (davinci)",
          "iGPT-XL",
          "GPT-3 13B",
          "GShard (dense)",
          "mT5-XXL",
          "DALL-E",
          "Switch",
          "Meta Pseudo Labels",
          "GLM-10B",
          "PanGu-α",
          "ProtT5-XXL",
          "ByT5-XXL",
          "ViT-G/14",
          "Jurassic-1-Jumbo",
          "HyperCLOVA 82B",
          "Megatron-Turing NLG 530B",
          "Yuan 1.0",
          "Gopher (280B)",
          "GLaM",
          "EXAONE 1.0",
          "ERNIE 3.0 Titan",
          "AlphaCode",
          "LaMDA",
          "ST-MoE",
          "Chinchilla",
          "PaLM (540B)",
          "OPT-175B",
          "BIG-G 137B",
          "Parti",
          "GPT-3.5",
          "LLaMA-65B",
          "GPT-4",
          "PaLM 2",
          "Inflection-1",
          "xTrimoPGLM -100B",
          "Claude 2",
          "Llama 2-70B",
          "Falcon-180B",
          "Hunyuan",
          "Amazon Titan",
          "Mi:dm 200B",
          "Grok-1",
          "GPT-4 Turbo",
          "Inflection-2",
          "Gemini 1.0 Ultra",
          "GLM-4 (0116)",
          "Gemini 1.5 Pro",
          "MegaScale (Production)",
          "Mistral Large",
          "Claude 3 Opus",
          "Aramco Metabrain AI",
          "Inflection-2.5",
          "GPT-4o",
          "Doubao-pro",
          "Nemotron-4 340B",
          "Claude 3.5 Sonnet",
          "Llama 3.1-405B",
          "Mistral Large 2",
          "Grok-2"
         ],
         "type": "scatter",
         "x": [
          "2010-03-01T00:00:00",
          "2010-05-13T00:00:00",
          "2010-06-13T00:00:00",
          "2010-09-15T00:00:00",
          "2010-09-15T00:00:00",
          "2010-09-26T00:00:00",
          "2010-09-26T00:00:00",
          "2010-09-26T00:00:00",
          "2011-01-01T00:00:00",
          "2011-07-16T00:00:00",
          "2011-09-18T00:00:00",
          "2011-09-18T00:00:00",
          "2012-01-01T00:00:00",
          "2012-06-03T00:00:00",
          "2012-07-12T00:00:00",
          "2012-09-30T00:00:00",
          "2012-12-03T00:00:00",
          "2012-12-03T00:00:00",
          "2013-01-16T00:00:00",
          "2013-05-26T00:00:00",
          "2013-08-01T00:00:00",
          "2013-09-22T00:00:00",
          "2013-11-12T00:00:00",
          "2013-12-05T00:00:00",
          "2014-06-10T00:00:00",
          "2014-06-18T00:00:00",
          "2014-09-01T00:00:00",
          "2014-09-04T00:00:00",
          "2014-09-10T00:00:00",
          "2014-09-17T00:00:00",
          "2014-12-03T00:00:00",
          "2015-02-06T00:00:00",
          "2015-10-01T00:00:00",
          "2015-12-08T00:00:00",
          "2015-12-10T00:00:00",
          "2015-12-10T00:00:00",
          "2016-01-27T00:00:00",
          "2016-09-17T00:00:00",
          "2016-09-26T00:00:00",
          "2016-10-07T00:00:00",
          "2016-11-05T00:00:00",
          "2016-11-17T00:00:00",
          "2017-01-01T00:00:00",
          "2017-01-23T00:00:00",
          "2017-07-10T00:00:00",
          "2017-08-11T00:00:00",
          "2017-12-05T00:00:00",
          "2018-02-05T00:00:00",
          "2018-05-02T00:00:00",
          "2018-08-28T00:00:00",
          "2018-09-28T00:00:00",
          "2019-02-14T00:00:00",
          "2019-05-29T00:00:00",
          "2019-05-29T00:00:00",
          "2019-05-29T00:00:00",
          "2019-06-01T00:00:00",
          "2019-07-01T00:00:00",
          "2019-09-17T00:00:00",
          "2019-09-17T00:00:00",
          "2019-10-23T00:00:00",
          "2019-10-23T00:00:00",
          "2019-10-30T00:00:00",
          "2019-11-05T00:00:00",
          "2019-11-11T00:00:00",
          "2019-12-13T00:00:00",
          "2019-12-13T00:00:00",
          "2020-01-28T00:00:00",
          "2020-02-13T00:00:00",
          "2020-05-28T00:00:00",
          "2020-06-17T00:00:00",
          "2020-06-22T00:00:00",
          "2020-06-30T00:00:00",
          "2020-10-20T00:00:00",
          "2021-01-05T00:00:00",
          "2021-01-11T00:00:00",
          "2021-03-01T00:00:00",
          "2021-03-18T00:00:00",
          "2021-04-25T00:00:00",
          "2021-05-04T00:00:00",
          "2021-05-28T00:00:00",
          "2021-06-08T00:00:00",
          "2021-08-11T00:00:00",
          "2021-09-10T00:00:00",
          "2021-10-11T00:00:00",
          "2021-10-12T00:00:00",
          "2021-12-08T00:00:00",
          "2021-12-13T00:00:00",
          "2021-12-14T00:00:00",
          "2021-12-23T00:00:00",
          "2022-02-02T00:00:00",
          "2022-02-10T00:00:00",
          "2022-02-17T00:00:00",
          "2022-03-29T00:00:00",
          "2022-04-04T00:00:00",
          "2022-05-02T00:00:00",
          "2022-06-09T00:00:00",
          "2022-06-22T00:00:00",
          "2022-11-28T00:00:00",
          "2023-02-24T00:00:00",
          "2023-03-15T00:00:00",
          "2023-05-10T00:00:00",
          "2023-06-23T00:00:00",
          "2023-07-06T00:00:00",
          "2023-07-11T00:00:00",
          "2023-07-18T00:00:00",
          "2023-09-06T00:00:00",
          "2023-09-07T00:00:00",
          "2023-09-28T00:00:00",
          "2023-10-31T00:00:00",
          "2023-11-04T00:00:00",
          "2023-11-06T00:00:00",
          "2023-11-22T00:00:00",
          "2023-12-06T00:00:00",
          "2024-01-17T00:00:00",
          "2024-02-15T00:00:00",
          "2024-02-23T00:00:00",
          "2024-02-26T00:00:00",
          "2024-03-04T00:00:00",
          "2024-03-04T00:00:00",
          "2024-03-07T00:00:00",
          "2024-05-13T00:00:00",
          "2024-05-15T00:00:00",
          "2024-06-14T00:00:00",
          "2024-06-20T00:00:00",
          "2024-07-23T00:00:00",
          "2024-07-24T00:00:00",
          "2024-08-13T00:00:00"
         ],
         "y": [
          14.116567898630002,
          14.544068044350276,
          15.03342375548695,
          15.086759812756483,
          15.163244058206782,
          16.69897000433602,
          16.089905111439396,
          16.230448921378272,
          16.565004847446016,
          16.41159445555002,
          16.414973347970818,
          16.7160033436348,
          16.220108088040057,
          17.436475608075085,
          17.778151250383644,
          17.672097857935718,
          17.4933186082321,
          17.67942789661212,
          18.417095529308064,
          17.106305696354926,
          17.376114826313238,
          17.136720567156406,
          17.72591163229505,
          18.127405459401064,
          17.714664992862538,
          18.532890886476494,
          18.1917862475822,
          19.089587218672804,
          19.7481880270062,
          18.17897694729317,
          20.4736329268753,
          19.37974104589798,
          20.57978359661681,
          19.414973347970818,
          19.017620909562556,
          18.845346137411408,
          21.27875360095283,
          19.4733649855264,
          21.820857989439766,
          20.639486489268585,
          21.342422680822207,
          19.806179973983888,
          20.741151598851786,
          19.972846194573016,
          20.92582757462474,
          20.78147498278897,
          22.56442071922308,
          20.585795528331104,
          21.9417076655489,
          20.679500575799285,
          21.255272505103306,
          21.283301228703777,
          21.75587485567249,
          21.17609125905568,
          21.17609125905568,
          21.79169064902012,
          21.929761117107013,
          22.342422680822207,
          21.959041392321094,
          21.95424250944415,
          22.518513939877888,
          22.77268835468215,
          22.31722734917642,
          22.416973172603036,
          22.113943352306837,
          22.826074802700827,
          23.049218022670182,
          22.195899652409235,
          23.496929648073216,
          22.518513939877888,
          22.363611979892145,
          22.678062904974347,
          22.913813852383715,
          22.672097857935718,
          22.91487181754005,
          22.680335513414562,
          22.578639209968074,
          22.708590845150344,
          22.867467487859052,
          22.90848501887865,
          22.76715586608218,
          23.568201724066995,
          23.16908635748702,
          24.068185861746162,
          23.548757828573716,
          23.800029359244135,
          23.560661048781533,
          24.03360467383237,
          24.017909395896687,
          23.214695527046413,
          23.550228353055093,
          23.462397997898957,
          23.760422483423213,
          24.402639612897094,
          23.633468455579585,
          23.7481880270062,
          23.59801260674196,
          24.411282913017384,
          23.740362689494244,
          25.32221929473392,
          24.865696059916072,
          24.000043427276864,
          23.792391689498253,
          24.636487896353366,
          23.90848501887865,
          24.57518784492766,
          24.079181246047625,
          24.681241237375588,
          24.079181246047625,
          24.462397997900453,
          25.32221929473392,
          25.00043407747932,
          25.698970004344705,
          25.079181246047625,
          25.204119982655925,
          24.5910646070265,
          25.049218022670182,
          25.20139712432045,
          25.02118929906994,
          25.000043427276864,
          25.599883072073688,
          25.398807730203263,
          25.255272505103306,
          25.67394199863409,
          25.57978359661681,
          25.30319605742049,
          25.724275951543138
         ]
        }
       ],
       "layout": {
        "height": 400,
        "margin": {
         "b": 50,
         "l": 60,
         "r": 60,
         "t": 50
        },
        "template": {
         "data": {
          "bar": [
           {
            "error_x": {
             "color": "#2a3f5f"
            },
            "error_y": {
             "color": "#2a3f5f"
            },
            "marker": {
             "line": {
              "color": "#E5ECF6",
              "width": 0.5
             },
             "pattern": {
              "fillmode": "overlay",
              "size": 10,
              "solidity": 0.2
             }
            },
            "type": "bar"
           }
          ],
          "barpolar": [
           {
            "marker": {
             "line": {
              "color": "#E5ECF6",
              "width": 0.5
             },
             "pattern": {
              "fillmode": "overlay",
              "size": 10,
              "solidity": 0.2
             }
            },
            "type": "barpolar"
           }
          ],
          "carpet": [
           {
            "aaxis": {
             "endlinecolor": "#2a3f5f",
             "gridcolor": "white",
             "linecolor": "white",
             "minorgridcolor": "white",
             "startlinecolor": "#2a3f5f"
            },
            "baxis": {
             "endlinecolor": "#2a3f5f",
             "gridcolor": "white",
             "linecolor": "white",
             "minorgridcolor": "white",
             "startlinecolor": "#2a3f5f"
            },
            "type": "carpet"
           }
          ],
          "choropleth": [
           {
            "colorbar": {
             "outlinewidth": 0,
             "ticks": ""
            },
            "type": "choropleth"
           }
          ],
          "contour": [
           {
            "colorbar": {
             "outlinewidth": 0,
             "ticks": ""
            },
            "colorscale": [
             [
              0,
              "#0d0887"
             ],
             [
              0.1111111111111111,
              "#46039f"
             ],
             [
              0.2222222222222222,
              "#7201a8"
             ],
             [
              0.3333333333333333,
              "#9c179e"
             ],
             [
              0.4444444444444444,
              "#bd3786"
             ],
             [
              0.5555555555555556,
              "#d8576b"
             ],
             [
              0.6666666666666666,
              "#ed7953"
             ],
             [
              0.7777777777777778,
              "#fb9f3a"
             ],
             [
              0.8888888888888888,
              "#fdca26"
             ],
             [
              1,
              "#f0f921"
             ]
            ],
            "type": "contour"
           }
          ],
          "contourcarpet": [
           {
            "colorbar": {
             "outlinewidth": 0,
             "ticks": ""
            },
            "type": "contourcarpet"
           }
          ],
          "heatmap": [
           {
            "colorbar": {
             "outlinewidth": 0,
             "ticks": ""
            },
            "colorscale": [
             [
              0,
              "#0d0887"
             ],
             [
              0.1111111111111111,
              "#46039f"
             ],
             [
              0.2222222222222222,
              "#7201a8"
             ],
             [
              0.3333333333333333,
              "#9c179e"
             ],
             [
              0.4444444444444444,
              "#bd3786"
             ],
             [
              0.5555555555555556,
              "#d8576b"
             ],
             [
              0.6666666666666666,
              "#ed7953"
             ],
             [
              0.7777777777777778,
              "#fb9f3a"
             ],
             [
              0.8888888888888888,
              "#fdca26"
             ],
             [
              1,
              "#f0f921"
             ]
            ],
            "type": "heatmap"
           }
          ],
          "heatmapgl": [
           {
            "colorbar": {
             "outlinewidth": 0,
             "ticks": ""
            },
            "colorscale": [
             [
              0,
              "#0d0887"
             ],
             [
              0.1111111111111111,
              "#46039f"
             ],
             [
              0.2222222222222222,
              "#7201a8"
             ],
             [
              0.3333333333333333,
              "#9c179e"
             ],
             [
              0.4444444444444444,
              "#bd3786"
             ],
             [
              0.5555555555555556,
              "#d8576b"
             ],
             [
              0.6666666666666666,
              "#ed7953"
             ],
             [
              0.7777777777777778,
              "#fb9f3a"
             ],
             [
              0.8888888888888888,
              "#fdca26"
             ],
             [
              1,
              "#f0f921"
             ]
            ],
            "type": "heatmapgl"
           }
          ],
          "histogram": [
           {
            "marker": {
             "pattern": {
              "fillmode": "overlay",
              "size": 10,
              "solidity": 0.2
             }
            },
            "type": "histogram"
           }
          ],
          "histogram2d": [
           {
            "colorbar": {
             "outlinewidth": 0,
             "ticks": ""
            },
            "colorscale": [
             [
              0,
              "#0d0887"
             ],
             [
              0.1111111111111111,
              "#46039f"
             ],
             [
              0.2222222222222222,
              "#7201a8"
             ],
             [
              0.3333333333333333,
              "#9c179e"
             ],
             [
              0.4444444444444444,
              "#bd3786"
             ],
             [
              0.5555555555555556,
              "#d8576b"
             ],
             [
              0.6666666666666666,
              "#ed7953"
             ],
             [
              0.7777777777777778,
              "#fb9f3a"
             ],
             [
              0.8888888888888888,
              "#fdca26"
             ],
             [
              1,
              "#f0f921"
             ]
            ],
            "type": "histogram2d"
           }
          ],
          "histogram2dcontour": [
           {
            "colorbar": {
             "outlinewidth": 0,
             "ticks": ""
            },
            "colorscale": [
             [
              0,
              "#0d0887"
             ],
             [
              0.1111111111111111,
              "#46039f"
             ],
             [
              0.2222222222222222,
              "#7201a8"
             ],
             [
              0.3333333333333333,
              "#9c179e"
             ],
             [
              0.4444444444444444,
              "#bd3786"
             ],
             [
              0.5555555555555556,
              "#d8576b"
             ],
             [
              0.6666666666666666,
              "#ed7953"
             ],
             [
              0.7777777777777778,
              "#fb9f3a"
             ],
             [
              0.8888888888888888,
              "#fdca26"
             ],
             [
              1,
              "#f0f921"
             ]
            ],
            "type": "histogram2dcontour"
           }
          ],
          "mesh3d": [
           {
            "colorbar": {
             "outlinewidth": 0,
             "ticks": ""
            },
            "type": "mesh3d"
           }
          ],
          "parcoords": [
           {
            "line": {
             "colorbar": {
              "outlinewidth": 0,
              "ticks": ""
             }
            },
            "type": "parcoords"
           }
          ],
          "pie": [
           {
            "automargin": true,
            "type": "pie"
           }
          ],
          "scatter": [
           {
            "fillpattern": {
             "fillmode": "overlay",
             "size": 10,
             "solidity": 0.2
            },
            "type": "scatter"
           }
          ],
          "scatter3d": [
           {
            "line": {
             "colorbar": {
              "outlinewidth": 0,
              "ticks": ""
             }
            },
            "marker": {
             "colorbar": {
              "outlinewidth": 0,
              "ticks": ""
             }
            },
            "type": "scatter3d"
           }
          ],
          "scattercarpet": [
           {
            "marker": {
             "colorbar": {
              "outlinewidth": 0,
              "ticks": ""
             }
            },
            "type": "scattercarpet"
           }
          ],
          "scattergeo": [
           {
            "marker": {
             "colorbar": {
              "outlinewidth": 0,
              "ticks": ""
             }
            },
            "type": "scattergeo"
           }
          ],
          "scattergl": [
           {
            "marker": {
             "colorbar": {
              "outlinewidth": 0,
              "ticks": ""
             }
            },
            "type": "scattergl"
           }
          ],
          "scattermapbox": [
           {
            "marker": {
             "colorbar": {
              "outlinewidth": 0,
              "ticks": ""
             }
            },
            "type": "scattermapbox"
           }
          ],
          "scatterpolar": [
           {
            "marker": {
             "colorbar": {
              "outlinewidth": 0,
              "ticks": ""
             }
            },
            "type": "scatterpolar"
           }
          ],
          "scatterpolargl": [
           {
            "marker": {
             "colorbar": {
              "outlinewidth": 0,
              "ticks": ""
             }
            },
            "type": "scatterpolargl"
           }
          ],
          "scatterternary": [
           {
            "marker": {
             "colorbar": {
              "outlinewidth": 0,
              "ticks": ""
             }
            },
            "type": "scatterternary"
           }
          ],
          "surface": [
           {
            "colorbar": {
             "outlinewidth": 0,
             "ticks": ""
            },
            "colorscale": [
             [
              0,
              "#0d0887"
             ],
             [
              0.1111111111111111,
              "#46039f"
             ],
             [
              0.2222222222222222,
              "#7201a8"
             ],
             [
              0.3333333333333333,
              "#9c179e"
             ],
             [
              0.4444444444444444,
              "#bd3786"
             ],
             [
              0.5555555555555556,
              "#d8576b"
             ],
             [
              0.6666666666666666,
              "#ed7953"
             ],
             [
              0.7777777777777778,
              "#fb9f3a"
             ],
             [
              0.8888888888888888,
              "#fdca26"
             ],
             [
              1,
              "#f0f921"
             ]
            ],
            "type": "surface"
           }
          ],
          "table": [
           {
            "cells": {
             "fill": {
              "color": "#EBF0F8"
             },
             "line": {
              "color": "white"
             }
            },
            "header": {
             "fill": {
              "color": "#C8D4E3"
             },
             "line": {
              "color": "white"
             }
            },
            "type": "table"
           }
          ]
         },
         "layout": {
          "annotationdefaults": {
           "arrowcolor": "#2a3f5f",
           "arrowhead": 0,
           "arrowwidth": 1
          },
          "autotypenumbers": "strict",
          "coloraxis": {
           "colorbar": {
            "outlinewidth": 0,
            "ticks": ""
           }
          },
          "colorscale": {
           "diverging": [
            [
             0,
             "#8e0152"
            ],
            [
             0.1,
             "#c51b7d"
            ],
            [
             0.2,
             "#de77ae"
            ],
            [
             0.3,
             "#f1b6da"
            ],
            [
             0.4,
             "#fde0ef"
            ],
            [
             0.5,
             "#f7f7f7"
            ],
            [
             0.6,
             "#e6f5d0"
            ],
            [
             0.7,
             "#b8e186"
            ],
            [
             0.8,
             "#7fbc41"
            ],
            [
             0.9,
             "#4d9221"
            ],
            [
             1,
             "#276419"
            ]
           ],
           "sequential": [
            [
             0,
             "#0d0887"
            ],
            [
             0.1111111111111111,
             "#46039f"
            ],
            [
             0.2222222222222222,
             "#7201a8"
            ],
            [
             0.3333333333333333,
             "#9c179e"
            ],
            [
             0.4444444444444444,
             "#bd3786"
            ],
            [
             0.5555555555555556,
             "#d8576b"
            ],
            [
             0.6666666666666666,
             "#ed7953"
            ],
            [
             0.7777777777777778,
             "#fb9f3a"
            ],
            [
             0.8888888888888888,
             "#fdca26"
            ],
            [
             1,
             "#f0f921"
            ]
           ],
           "sequentialminus": [
            [
             0,
             "#0d0887"
            ],
            [
             0.1111111111111111,
             "#46039f"
            ],
            [
             0.2222222222222222,
             "#7201a8"
            ],
            [
             0.3333333333333333,
             "#9c179e"
            ],
            [
             0.4444444444444444,
             "#bd3786"
            ],
            [
             0.5555555555555556,
             "#d8576b"
            ],
            [
             0.6666666666666666,
             "#ed7953"
            ],
            [
             0.7777777777777778,
             "#fb9f3a"
            ],
            [
             0.8888888888888888,
             "#fdca26"
            ],
            [
             1,
             "#f0f921"
            ]
           ]
          },
          "colorway": [
           "#636efa",
           "#EF553B",
           "#00cc96",
           "#ab63fa",
           "#FFA15A",
           "#19d3f3",
           "#FF6692",
           "#B6E880",
           "#FF97FF",
           "#FECB52"
          ],
          "font": {
           "color": "#2a3f5f"
          },
          "geo": {
           "bgcolor": "white",
           "lakecolor": "white",
           "landcolor": "#E5ECF6",
           "showlakes": true,
           "showland": true,
           "subunitcolor": "white"
          },
          "hoverlabel": {
           "align": "left"
          },
          "hovermode": "closest",
          "mapbox": {
           "style": "light"
          },
          "paper_bgcolor": "white",
          "plot_bgcolor": "#E5ECF6",
          "polar": {
           "angularaxis": {
            "gridcolor": "white",
            "linecolor": "white",
            "ticks": ""
           },
           "bgcolor": "#E5ECF6",
           "radialaxis": {
            "gridcolor": "white",
            "linecolor": "white",
            "ticks": ""
           }
          },
          "scene": {
           "xaxis": {
            "backgroundcolor": "#E5ECF6",
            "gridcolor": "white",
            "gridwidth": 2,
            "linecolor": "white",
            "showbackground": true,
            "ticks": "",
            "zerolinecolor": "white"
           },
           "yaxis": {
            "backgroundcolor": "#E5ECF6",
            "gridcolor": "white",
            "gridwidth": 2,
            "linecolor": "white",
            "showbackground": true,
            "ticks": "",
            "zerolinecolor": "white"
           },
           "zaxis": {
            "backgroundcolor": "#E5ECF6",
            "gridcolor": "white",
            "gridwidth": 2,
            "linecolor": "white",
            "showbackground": true,
            "ticks": "",
            "zerolinecolor": "white"
           }
          },
          "shapedefaults": {
           "line": {
            "color": "#2a3f5f"
           }
          },
          "ternary": {
           "aaxis": {
            "gridcolor": "white",
            "linecolor": "white",
            "ticks": ""
           },
           "baxis": {
            "gridcolor": "white",
            "linecolor": "white",
            "ticks": ""
           },
           "bgcolor": "#E5ECF6",
           "caxis": {
            "gridcolor": "white",
            "linecolor": "white",
            "ticks": ""
           }
          },
          "title": {
           "x": 0.05
          },
          "xaxis": {
           "automargin": true,
           "gridcolor": "white",
           "linecolor": "white",
           "ticks": "",
           "title": {
            "standoff": 15
           },
           "zerolinecolor": "white",
           "zerolinewidth": 2
          },
          "yaxis": {
           "automargin": true,
           "gridcolor": "white",
           "linecolor": "white",
           "ticks": "",
           "title": {
            "standoff": 15
           },
           "zerolinecolor": "white",
           "zerolinewidth": 2
          }
         }
        },
        "title": {
         "text": "Top-10 models"
        },
        "width": 800,
        "xaxis": {
         "title": {
          "text": "Date"
         }
        },
        "yaxis": {
         "title": {
          "text": "Log FLOP"
         }
        }
       }
      }
     },
     "metadata": {},
     "output_type": "display_data"
    }
   ],
   "source": [
    "non_china_df = df_filtered[df_filtered['category'] == 'Non-China']\n",
    "china_df = df_filtered[df_filtered['category'] == 'China']\n",
    "recent_top_models_df = top_models_df[top_models_df['date'] > pd.to_datetime('2010-01-01')]\n",
    "\n",
    "fig = go.Figure()\n",
    "\n",
    "fig.add_trace(go.Scatter(\n",
    "    x=non_china_df['date'],\n",
    "    y=non_china_df['log_flop'],\n",
    "    mode='markers',\n",
    "    marker=dict(color=colors['Non-China'], opacity=0.5),\n",
    "    text=non_china_df['Model'],\n",
    "    hoverinfo='text',\n",
    "    name=f'Top-{top_n} Non-China'\n",
    "))\n",
    "\n",
    "fig.add_trace(go.Scatter(\n",
    "    x=china_df['date'],\n",
    "    y=china_df['log_flop'],\n",
    "    mode='markers',\n",
    "    marker=dict(color=colors['China'], opacity=0.5),\n",
    "    text=china_df['Model'],\n",
    "    hoverinfo='text',\n",
    "    name=f'Top-{top_n} China'\n",
    "))\n",
    "\n",
    "fig.add_trace(go.Scatter(\n",
    "    x=recent_top_models_df['date'],\n",
    "    y=recent_top_models_df['log_flop'],\n",
    "    mode='markers',\n",
    "    marker=dict(color='grey', opacity=0.5),\n",
    "    text=recent_top_models_df['Model'],\n",
    "    hoverinfo='text',\n",
    "    name=f'Top-{top_n} Overall'\n",
    "))\n",
    "\n",
    "fig.update_layout(\n",
    "    width=800,\n",
    "    height=400,\n",
    "    xaxis_title='Date',\n",
    "    yaxis_title='Log FLOP',\n",
    "    title=f'Top-{top_n} models',\n",
    "    margin=dict(t=50, l=60, r=60, b=50),\n",
    ")\n",
    "\n",
    "save_plot(fig, results_dir, f'top_{top_n}_models_without_kickstarting')\n",
    "\n",
    "fig.show()"
   ]
  },
  {
   "cell_type": "code",
   "execution_count": 24,
   "metadata": {},
   "outputs": [
    {
     "name": "stdout",
     "output_type": "stream",
     "text": [
      "Fraction of overall top-10 models that are Non-China: 70.0%\n",
      "Fraction of overall top-10 models that are China: 10.0%\n"
     ]
    }
   ],
   "source": [
    "top_models_since_cutoff = top_models_df[top_models_df['date'] >= pd.to_datetime(cutoff_date)]\n",
    "top_models_set = set(top_models_since_cutoff['Model'])\n",
    "non_china_top_models_set = set(non_china_df['Model'])\n",
    "china_top_models_set = set(china_df['Model'])\n",
    "\n",
    "frac_non_china_top_models = len(non_china_top_models_set.intersection(top_models_set)) / len(top_models_set)\n",
    "frac_china_top_models = len(china_top_models_set.intersection(top_models_set)) / len(top_models_set)\n",
    "print(f\"Fraction of overall top-{top_n} models that are Non-China: {frac_non_china_top_models*100:.1f}%\")\n",
    "print(f\"Fraction of overall top-{top_n} models that are China: {frac_china_top_models*100:.1f}%\")\n"
   ]
  },
  {
   "cell_type": "markdown",
   "metadata": {},
   "source": [
    "# Training hardware analysis"
   ]
  },
  {
   "cell_type": "code",
   "execution_count": 25,
   "metadata": {},
   "outputs": [
    {
     "name": "stdout",
     "output_type": "stream",
     "text": [
      "Number of top-10 Language models China models with training hardware: 18 of 56\n"
     ]
    },
    {
     "data": {
      "text/plain": [
       "Training hardware\n",
       "Huawei Ascend 910                                                     PanGu-α, CodeGeeX, PanGu-Σ\n",
       "Huawei Ascend 910,NVIDIA Tesla V100 DGXS 32 GB                                   ERNIE 3.0 Titan\n",
       "NVIDIA A100                                       PLUG, MegaScale (530B), MegaScale (Production)\n",
       "NVIDIA A100 SXM4 40 GB                                                                  GLM-130B\n",
       "NVIDIA A100 SXM4 80 GB                                                       JIANG, CodeFuse-13B\n",
       "NVIDIA A800                                                                FLM-101B, Skywork-13B\n",
       "NVIDIA H100 SXM5 80GB                                                               Yi-Lightning\n",
       "NVIDIA H800 SXM5                                             DeepSeek-V2 (MoE-236B), DeepSeek-V3\n",
       "NVIDIA Tesla V100 DGXS 32 GB                                                                M6-T\n",
       "NVIDIA V100                                                                 CPM-Large, ERNIE 3.0\n",
       "Name: Model, dtype: object"
      ]
     },
     "execution_count": 25,
     "metadata": {},
     "output_type": "execute_result"
    }
   ],
   "source": [
    "# Models with training hardware\n",
    "china_num_hardware = china_df[china_df['Training hardware'].notna()].shape[0]\n",
    "print(f\"Number of top-{top_n} {model_selection} China models with training hardware: {china_num_hardware} of {china_df.shape[0]}\")\n",
    "# Print models grouped by training hardware\n",
    "china_df.groupby('Training hardware')['Model'].apply(lambda x: ', '.join(x))"
   ]
  },
  {
   "cell_type": "code",
   "execution_count": 26,
   "metadata": {},
   "outputs": [
    {
     "data": {
      "text/plain": [
       "Training hardware\n",
       "Huawei Ascend 910                                    PanGu-α, CodeGeeX\n",
       "Huawei Ascend 910,NVIDIA Tesla V100 DGXS 32 GB         ERNIE 3.0 Titan\n",
       "NVIDIA A100                                                       PLUG\n",
       "NVIDIA A100 SXM4 40 GB                                        GLM-130B\n",
       "NVIDIA Tesla V100 DGXS 32 GB                                      M6-T\n",
       "NVIDIA V100                                       CPM-Large, ERNIE 3.0\n",
       "Name: Model, dtype: object"
      ]
     },
     "execution_count": 26,
     "metadata": {},
     "output_type": "execute_result"
    }
   ],
   "source": [
    "export_controls_cutoff_date = pd.to_datetime('2022-10-07')  # actual date of controls is 2022-10-07\n",
    "pre_export_controls = china_df[china_df['date'] < export_controls_cutoff_date]\n",
    "post_export_controls = china_df[china_df['date'] >= export_controls_cutoff_date]\n",
    "pre_export_controls.groupby('Training hardware')['Model'].apply(lambda x: ', '.join(x))"
   ]
  },
  {
   "cell_type": "code",
   "execution_count": 27,
   "metadata": {},
   "outputs": [
    {
     "data": {
      "text/plain": [
       "Training hardware\n",
       "Huawei Ascend 910                                          PanGu-Σ\n",
       "NVIDIA A100               MegaScale (530B), MegaScale (Production)\n",
       "NVIDIA A100 SXM4 80 GB                         JIANG, CodeFuse-13B\n",
       "NVIDIA A800                                  FLM-101B, Skywork-13B\n",
       "NVIDIA H100 SXM5 80GB                                 Yi-Lightning\n",
       "NVIDIA H800 SXM5               DeepSeek-V2 (MoE-236B), DeepSeek-V3\n",
       "Name: Model, dtype: object"
      ]
     },
     "execution_count": 27,
     "metadata": {},
     "output_type": "execute_result"
    }
   ],
   "source": [
    "post_export_controls.groupby('Training hardware')['Model'].apply(lambda x: ', '.join(x))\n"
   ]
  },
  {
   "cell_type": "code",
   "execution_count": 28,
   "metadata": {},
   "outputs": [
    {
     "name": "stdout",
     "output_type": "stream",
     "text": [
      "Number of top-10 Language models Non-China models with training hardware: 41 of 60\n"
     ]
    },
    {
     "data": {
      "text/plain": [
       "Training hardware\n",
       "Google TPU v3                        XLNet, T5-11B, T5-3B, Meena, GShard (dense), S...\n",
       "Google TPU v4                        GLaM, AlphaCode, PaLM (540B), PaLM 2, Gemini 1...\n",
       "Google TPU v4,Google TPU v3                                                 Chinchilla\n",
       "NVIDIA A100                                    HyperCLOVA 82B, LLaMA-65B, Amazon Titan\n",
       "NVIDIA A100 SXM4 40 GB                       GPT-NeoX-20B, GPT-3.5, GPT-4, Falcon-180B\n",
       "NVIDIA A100 SXM4 80 GB               Megatron-Turing NLG 530B, OPT-175B, BLOOM-176B...\n",
       "NVIDIA A100,NVIDIA H100 SXM5 80GB                                            Reka Core\n",
       "NVIDIA H100 SXM5 80GB                Inflection-1, Inflection-2, Mistral Large, Inf...\n",
       "NVIDIA Tesla V100 DGXS 16 GB                      Big Transformer for Back-Translation\n",
       "NVIDIA Tesla V100 DGXS 32 GB         RoBERTa Large, Megatron-LM (8.3B), XLM-RoBERTa...\n",
       "NVIDIA Tesla V100S PCIe 32 GB                                            Megatron-BERT\n",
       "Name: Model, dtype: object"
      ]
     },
     "execution_count": 28,
     "metadata": {},
     "output_type": "execute_result"
    }
   ],
   "source": [
    "non_china_num_hardware = non_china_df[non_china_df['Training hardware'].notna()].shape[0]\n",
    "print(f\"Number of top-{top_n} {model_selection} Non-China models with training hardware: {non_china_num_hardware} of {non_china_df.shape[0]}\")\n",
    "# Print models grouped by training hardware\n",
    "non_china_df.groupby('Training hardware')['Model'].apply(lambda x: ', '.join(x))\n"
   ]
  },
  {
   "cell_type": "markdown",
   "metadata": {},
   "source": [
    "# Regression analysis"
   ]
  },
  {
   "cell_type": "code",
   "execution_count": 29,
   "metadata": {},
   "outputs": [],
   "source": [
    "dep_var = 'log_flop'"
   ]
  },
  {
   "cell_type": "code",
   "execution_count": 30,
   "metadata": {},
   "outputs": [],
   "source": [
    "#@markdown Analysis of best fit to the data\n",
    "\n",
    "@dataclass\n",
    "class FitResult:\n",
    "    df: pd.DataFrame\n",
    "    p: int = None\n",
    "    bic: float = None\n",
    "    rss: float = None\n",
    "    mse: float = None\n",
    "    predict: Callable = None\n",
    "\n",
    "@dataclass\n",
    "class HyperbolicFitResult(FitResult):\n",
    "    params: tuple[float] = None\n",
    "\n",
    "@dataclass\n",
    "class KinkedFitResult(FitResult):\n",
    "    break_points: tuple[float] = None\n",
    "    break_points_dt: float = None\n",
    "    oom_year_slopes: tuple[float] = None\n",
    "\n",
    "    # Model properties for each breakpoint combination\n",
    "    # (for debugging)\n",
    "    bics: tuple[float] = None\n",
    "    rsss: tuple[float] = None\n",
    "    mses: tuple[float] = None\n",
    "    break_points_list: tuple[tuple[float]] = None\n",
    "    break_points_dt_list: tuple[tuple[float]] = None\n",
    "\n",
    "def fit_hyperbolic(df):\n",
    "    def hyperbolic_model(t, A, B, k):\n",
    "        return A / (1 + B * np.exp(-k * t))\n",
    "\n",
    "    # Prepare data for curve fitting\n",
    "    timestamp = pd.to_datetime(df['date']).apply(lambda date: date.toordinal()).values\n",
    "\n",
    "    # Initial guess for the parameters\n",
    "    # initial_guess = [0, 0, 0]\n",
    "    initial_guess = [1.72373207e-02, -9.45447534e-01, -7.50101861e-08]  # Updated initial guess\n",
    "\n",
    "    # Fit the model to the data\n",
    "    try:\n",
    "      params, covariance = curve_fit(hyperbolic_model, timestamp, df[dep_var], p0=initial_guess, maxfev=100000, ftol=1e-10)\n",
    "    except RuntimeError as e:\n",
    "      print(\"FATAL ERROR WHEN FITTING HYPERBOLIC\")\n",
    "      return None\n",
    "\n",
    "    # Extracting parameters\n",
    "    A, B, k = params\n",
    "\n",
    "    # Compute predictions to calculate residuals\n",
    "    predicted_log_y = hyperbolic_model(timestamp, *params)\n",
    "\n",
    "    # Compute the Residual Sum of Squares (RSS)\n",
    "    rss = np.sum((df[dep_var] - predicted_log_y) ** 2)\n",
    "\n",
    "    # Number of observations (n)\n",
    "    n = len(df[dep_var])\n",
    "\n",
    "    # Number of parameters (p)\n",
    "    p = len(params) + 1\n",
    "\n",
    "    # Calculate log-likelihood under the assumption of normally distributed errors\n",
    "    # log_likelihood = -0.5 * rss\n",
    "    log_likelihood = -0.5 * n * (np.log(2 * np.pi * rss/n) + 1)\n",
    "\n",
    "    # Compute bic_hyperbolic using the provided formula\n",
    "    bic = p * np.log(n) - 2 * log_likelihood\n",
    "\n",
    "    # Compute MSE\n",
    "    mse = rss / n\n",
    "\n",
    "    fit_result = HyperbolicFitResult(\n",
    "        df=df,\n",
    "        p=p,\n",
    "        bic=bic,\n",
    "        rss=rss,\n",
    "        mse=mse,\n",
    "        params=params,\n",
    "        predict=lambda date: hyperbolic_model(date.apply(lambda d: d.toordinal()), *params)\n",
    "    )\n",
    "\n",
    "    return fit_result\n",
    "\n",
    "def fit_n_phase_exponential(df, kink_count=0, allow_discontinuities=False, min_n_segment=10):\n",
    "    # Generate monthly breakpoints between 2010 and 2024\n",
    "    one_month = pd.DateOffset(months=1)\n",
    "    break_point_grid = pd.date_range(start=df['date'].min() - one_month, end=df['date'].max() - 4*one_month, freq='MS')\n",
    "    break_point_grid = [x.toordinal() for x in break_point_grid]\n",
    "\n",
    "    x = pd.to_datetime(df['date']).apply(lambda date: date.toordinal()).values\n",
    "    y = df[dep_var].values\n",
    "\n",
    "    break_points_list = []\n",
    "    bics = []\n",
    "    rsss = []\n",
    "    mses = []\n",
    "    models = []\n",
    "\n",
    "    for break_points in combinations_with_replacement(break_point_grid, kink_count):\n",
    "        # Model predictors\n",
    "\n",
    "        intercept_change_points = (0,)\n",
    "        if allow_discontinuities:\n",
    "            intercept_change_points += break_points\n",
    "        slope_change_points = (0,) + break_points\n",
    "\n",
    "        predictors = np.zeros((len(x), len(intercept_change_points) + len(slope_change_points)))\n",
    "\n",
    "        for i, intercept_point in enumerate(intercept_change_points):\n",
    "            predictors[:, i] = (x >= intercept_point).astype(int)\n",
    "\n",
    "        for i, break_point in enumerate(slope_change_points):\n",
    "            predictors[:, len(intercept_change_points) + i] = np.maximum(x - break_point, 0)\n",
    "\n",
    "        # Fit the model\n",
    "        model = sm.OLS(y, predictors).fit()\n",
    "\n",
    "        # Check for negative discontinuities if discontinuities are allowed\n",
    "        invalid_discontinuity = False\n",
    "        if allow_discontinuities and break_points:\n",
    "            # For each breakpoint, compare the predicted value just before and after\n",
    "            for break_point in break_points:\n",
    "                # Create predictor matrices for points just before and after the breakpoint\n",
    "                before_predictors = np.zeros((1, len(intercept_change_points) + len(slope_change_points)))\n",
    "                after_predictors = np.zeros((1, len(intercept_change_points) + len(slope_change_points)))\n",
    "                \n",
    "                # Fill in the predictor matrices\n",
    "                for i, intercept_point in enumerate(intercept_change_points):\n",
    "                    before_predictors[0, i] = (break_point - 1 >= intercept_point)\n",
    "                    after_predictors[0, i] = (break_point >= intercept_point)\n",
    "                \n",
    "                for i, slope_point in enumerate(slope_change_points):\n",
    "                    before_predictors[0, len(intercept_change_points) + i] = max(0, break_point - 1 - slope_point)\n",
    "                    after_predictors[0, len(intercept_change_points) + i] = max(0, break_point - slope_point)\n",
    "                \n",
    "                # Get predictions\n",
    "                before_value = model.predict(before_predictors)[0]\n",
    "                after_value = model.predict(after_predictors)[0]\n",
    "                \n",
    "                # Check if there's a negative discontinuity\n",
    "                if after_value < before_value:\n",
    "                    invalid_discontinuity = True\n",
    "                    break\n",
    "\n",
    "        if invalid_discontinuity:\n",
    "            continue\n",
    "\n",
    "        # Calculate BIC manually based on log-likelihood\n",
    "        n = len(x) # Number of observations\n",
    "        p = len(model.params) + 2*kink_count + 1 # Number of parameters\n",
    "\n",
    "        # Calculate log-likelihood under the assumption of normally distributed errors\n",
    "        # We have to iterate over all points to get their individual log-likelihoods\n",
    "        log_likelihood = 0\n",
    "        rss = 0\n",
    "        invalid_model = False # Discard models with segments with less than 2 points\n",
    "        for i, break_point in enumerate(slope_change_points):\n",
    "            left_x = break_point\n",
    "            right_x = slope_change_points[i + 1] if i + 1 < len(slope_change_points) else np.inf\n",
    "\n",
    "            segment_predictors = predictors[(left_x <= x) & (x < right_x), :]\n",
    "            segment_y = y[(left_x <= x) & (x < right_x)]\n",
    "            segment_n = len(segment_y)\n",
    "\n",
    "            assert min_n_segment > 2\n",
    "\n",
    "            if segment_n < min_n_segment:\n",
    "                invalid_model = True\n",
    "                break\n",
    "\n",
    "            y_pred = model.predict(segment_predictors)\n",
    "\n",
    "            segment_rss = np.sum((y_pred - segment_y)**2)\n",
    "            if segment_rss == 0:\n",
    "                print(f\"segment_rss={segment_rss}\")\n",
    "                print(f\"y_pred={y_pred}\")\n",
    "                print(f\"segment_y={segment_y}\")\n",
    "                invalid_model = True\n",
    "                break\n",
    "            segment_mse = segment_rss / segment_n\n",
    "\n",
    "            segment_log_likelihood = -segment_n/2 * (np.log(2*np.pi) + np.log(segment_rss/segment_n) + 1)\n",
    "            log_likelihood += segment_log_likelihood\n",
    "            rss += segment_rss\n",
    "\n",
    "        if invalid_model:\n",
    "            continue\n",
    "\n",
    "        # Compute BIC using the manual method based on the log-likelihood\n",
    "        bic = p * np.log(n) - 2 * log_likelihood\n",
    "        # bic = n*np.log(rss/n) + p*np.log(n)\n",
    "\n",
    "        bics.append(bic)\n",
    "        rsss.append(rss)\n",
    "        mses.append(rss/len(df))\n",
    "        models.append(model)\n",
    "        break_points_list.append(break_points)\n",
    "\n",
    "    if len(bics) == 0:\n",
    "        return None\n",
    "\n",
    "    # Prepare the result object\n",
    "    best_bic = min(bics)\n",
    "    best_idx = bics.index(best_bic)\n",
    "    best_rss = rsss[best_idx]\n",
    "    best_mse = mses[best_idx]\n",
    "    best_model = models[best_idx]\n",
    "    best_break_points = break_points_list[best_idx]\n",
    "\n",
    "    p = len(best_model.params) + 2*kink_count + 1 # Number of parameters\n",
    "\n",
    "    intercept_change_points = (0,)\n",
    "    if allow_discontinuities:\n",
    "        intercept_change_points += best_break_points\n",
    "    slope_change_points = (0,) + best_break_points\n",
    "\n",
    "    intercepts = best_model.params[:len(intercept_change_points)]\n",
    "    oom_year_slopes = 365 * np.cumsum(best_model.params[len(intercepts):])\n",
    "\n",
    "    def predict(date):\n",
    "        if not isinstance(date, pd.Series):\n",
    "            date = pd.Series(date)\n",
    "        x = pd.to_datetime(date).apply(lambda date: date.toordinal()).values\n",
    "\n",
    "        predictors = np.zeros((len(x), len(intercept_change_points) + len(slope_change_points)))\n",
    "\n",
    "        for i, intercept_point in enumerate(intercept_change_points):\n",
    "            predictors[:, i] = (x >= intercept_point).astype(int)\n",
    "\n",
    "        for i, break_point in enumerate(slope_change_points):\n",
    "            predictors[:, len(intercept_change_points) + i] = np.maximum(x - break_point, 0)\n",
    "\n",
    "        return best_model.predict(predictors)\n",
    "\n",
    "    fit_result = KinkedFitResult(\n",
    "        df=df,\n",
    "        p=p,\n",
    "        bic=best_bic,\n",
    "        rss=best_rss,\n",
    "        mse=best_mse,\n",
    "        break_points=best_break_points,\n",
    "        predict=predict,\n",
    "        break_points_dt=[pd.Timestamp.fromordinal(bp) for bp in best_break_points],\n",
    "        bics=bics,\n",
    "        rsss=rsss,\n",
    "        mses=mses,\n",
    "        oom_year_slopes=oom_year_slopes,\n",
    "        break_points_list=break_points_list,\n",
    "        break_points_dt_list=[[pd.Timestamp.fromordinal(bp) for bp in break_points] for break_points in break_points_list],\n",
    "    )\n",
    "\n",
    "    return fit_result\n",
    "\n",
    "def calculate_lag(df, fit_results, date=None):\n",
    "    if date is None:\n",
    "        date = df['date'].max()\n",
    "\n",
    "    # Get the predictions for the two categories\n",
    "    y_non_china = fit_results['Non-China'].predict(pd.Series([date]))[0]\n",
    "    y_china = fit_results['China'].predict(pd.Series([date]))[0]\n",
    "    \n",
    "    # Get the final slope for the 'China' category\n",
    "    slope_non_china = fit_results['Non-China'].oom_year_slopes[-1]\n",
    "    \n",
    "    # Calculate lag\n",
    "    lag = (y_non_china - y_china) / slope_non_china\n",
    "    \n",
    "    return lag\n"
   ]
  },
  {
   "cell_type": "markdown",
   "metadata": {},
   "source": [
    "## Model selection"
   ]
  },
  {
   "cell_type": "code",
   "execution_count": 31,
   "metadata": {},
   "outputs": [
    {
     "name": "stdout",
     "output_type": "stream",
     "text": [
      "Fitting China and Non-China models\n"
     ]
    }
   ],
   "source": [
    "fit_em_all = lambda df_fit : {\n",
    "    \"Simple\" : fit_n_phase_exponential(df_fit, kink_count=0),\n",
    "    \"One kink\" : fit_n_phase_exponential(df_fit, kink_count=1),\n",
    "    \"Discontinuity\" : fit_n_phase_exponential(df_fit, kink_count=1, allow_discontinuities=True),\n",
    "    # \"Hyperbolic\": fit_hyperbolic(df_fit),\n",
    "}\n",
    "\n",
    "# Best model fits\n",
    "print(f\"Fitting China and Non-China models\")\n",
    "regression_data = {\n",
    "    'China': {},\n",
    "    'Non-China': {},\n",
    "}\n",
    "regression_data['China']['models'] = fit_em_all(df_filtered[df_filtered['category'] == 'China'])\n",
    "regression_data['Non-China']['models'] = fit_em_all(df_filtered[df_filtered['category'] == 'Non-China'])\n"
   ]
  },
  {
   "cell_type": "code",
   "execution_count": 32,
   "metadata": {},
   "outputs": [],
   "source": [
    "# K-Fold Cross Validation\n",
    "def perform_cross_validation(df, k=10, random_state=42):\n",
    "    kf = KFold(n_splits=k, shuffle=True, random_state=random_state)\n",
    "    folds_mses = defaultdict(lambda : [])\n",
    "    for train_index, test_index in kf.split(df):\n",
    "        train_df, test_df = df.iloc[train_index], df.iloc[test_index]\n",
    "\n",
    "        # Fit the models on the training set\n",
    "        fold_models = fit_em_all(train_df)\n",
    "\n",
    "        # Predict on the test set\n",
    "        for name,model in fold_models.items():\n",
    "            try:\n",
    "                predicted_log_y = model.predict(test_df[\"date\"])\n",
    "            except AttributeError:\n",
    "                continue\n",
    "            test_rss = np.sum((predicted_log_y - test_df[dep_var])**2)\n",
    "            test_mse = test_rss / len(test_df)\n",
    "            folds_mses[name].append(test_mse)\n",
    "\n",
    "    # Compute mean MSE\n",
    "    folds_mses = {name: np.mean(folds_mses[name]) for name in folds_mses}\n",
    "\n",
    "    return folds_mses\n",
    "\n",
    "regression_data['China']['folds_mses'] = perform_cross_validation(df_filtered[df_filtered['category'] == 'China'])\n",
    "regression_data['Non-China']['folds_mses'] = perform_cross_validation(df_filtered[df_filtered['category'] == 'Non-China'])"
   ]
  },
  {
   "cell_type": "code",
   "execution_count": 33,
   "metadata": {},
   "outputs": [],
   "source": [
    "state = None\n",
    "for i in range(1000):\n",
    "    try:\n",
    "        # Save the state of the original RNG's bit generator\n",
    "        state = DEFAULT_RNG.bit_generator.state\n",
    "        sample = df_filtered.sample(len(df_filtered), replace=True, random_state=DEFAULT_RNG)\n",
    "        fit_em_all(sample[sample['category'] == 'Non-China'])\n",
    "    except Exception as e:\n",
    "        print(i)\n",
    "        print(DEFAULT_RNG)\n",
    "        print(e)\n",
    "        break"
   ]
  },
  {
   "cell_type": "code",
   "execution_count": 34,
   "metadata": {},
   "outputs": [
    {
     "data": {
      "text/plain": [
       "{'Simple': KinkedFitResult(df=                 Model          flop       date              Organization  \\\n",
       " 704        Grover-Mega  5.700000e+21 2019-05-29  University of Washington   \n",
       " 1700  Gemini 1.0 Ultra  5.000000e+25 2023-12-06           Google DeepMind   \n",
       " 803              Meena  1.120000e+23 2020-01-28              Google Brain   \n",
       " 1657       GPT-4 Turbo  2.100000e+25 2023-11-06                    OpenAI   \n",
       " 927             Switch  8.220000e+22 2021-01-11                    Google   \n",
       " ...                ...           ...        ...                       ...   \n",
       " 1021  Jurassic-1-Jumbo  3.700000e+23 2021-08-11                 AI21 Labs   \n",
       " 1124             LaMDA  3.550000e+23 2022-02-10                    Google   \n",
       " 667       GPT-2 (1.5B)  1.920000e+21 2019-02-14                    OpenAI   \n",
       " 927             Switch  8.220000e+22 2021-01-11                    Google   \n",
       " 1179        BIG-G 137B  5.600000e+23 2022-06-09                    Google   \n",
       " \n",
       "                  Notability criteria  \\\n",
       " 704                              NaN   \n",
       " 1700  SOTA improvement,Training cost   \n",
       " 803                 SOTA improvement   \n",
       " 1657                SOTA improvement   \n",
       " 927    Highly cited,SOTA improvement   \n",
       " ...                              ...   \n",
       " 1021                   Training cost   \n",
       " 1124         Historical significance   \n",
       " 667                     Highly cited   \n",
       " 927    Highly cited,SOTA improvement   \n",
       " 1179                             NaN   \n",
       " \n",
       "                                            Domain Base model   category  \\\n",
       " 704                                      Language        NaN  Non-China   \n",
       " 1700                   Multimodal,Language,Vision        NaN  Non-China   \n",
       " 803                                      Language        NaN  Non-China   \n",
       " 1657  Multimodal,Vision,Language,Image generation        NaN  Non-China   \n",
       " 927                                      Language        NaN  Non-China   \n",
       " ...                                           ...        ...        ...   \n",
       " 1021                                     Language        NaN  Non-China   \n",
       " 1124                                     Language        NaN  Non-China   \n",
       " 667                                      Language        NaN  Non-China   \n",
       " 927                                      Language        NaN  Non-China   \n",
       " 1179                                     Language        NaN  Non-China   \n",
       " \n",
       "      Training hardware   log_flop  \n",
       " 704                NaN  21.755875  \n",
       " 1700     Google TPU v4  25.698970  \n",
       " 803      Google TPU v3  23.049218  \n",
       " 1657               NaN  25.322219  \n",
       " 927      Google TPU v3  22.914872  \n",
       " ...                ...        ...  \n",
       " 1021               NaN  23.568202  \n",
       " 1124     Google TPU v3  23.550228  \n",
       " 667                NaN  21.283301  \n",
       " 927      Google TPU v3  22.914872  \n",
       " 1179               NaN  23.748188  \n",
       " \n",
       " [69 rows x 10 columns], p=3, bic=82.11690852648519, rss=11.047873594995444, mse=0.16011411007239773, predict=<function fit_n_phase_exponential.<locals>.predict at 0x175fb9260>, break_points=(), break_points_dt=[], oom_year_slopes=array([0.67941788]), bics=[82.11690852648519], rsss=[11.047873594995444], mses=[0.16011411007239773], break_points_list=[()], break_points_dt_list=[[]]),\n",
       " 'One kink': KinkedFitResult(df=                 Model          flop       date              Organization  \\\n",
       " 704        Grover-Mega  5.700000e+21 2019-05-29  University of Washington   \n",
       " 1700  Gemini 1.0 Ultra  5.000000e+25 2023-12-06           Google DeepMind   \n",
       " 803              Meena  1.120000e+23 2020-01-28              Google Brain   \n",
       " 1657       GPT-4 Turbo  2.100000e+25 2023-11-06                    OpenAI   \n",
       " 927             Switch  8.220000e+22 2021-01-11                    Google   \n",
       " ...                ...           ...        ...                       ...   \n",
       " 1021  Jurassic-1-Jumbo  3.700000e+23 2021-08-11                 AI21 Labs   \n",
       " 1124             LaMDA  3.550000e+23 2022-02-10                    Google   \n",
       " 667       GPT-2 (1.5B)  1.920000e+21 2019-02-14                    OpenAI   \n",
       " 927             Switch  8.220000e+22 2021-01-11                    Google   \n",
       " 1179        BIG-G 137B  5.600000e+23 2022-06-09                    Google   \n",
       " \n",
       "                  Notability criteria  \\\n",
       " 704                              NaN   \n",
       " 1700  SOTA improvement,Training cost   \n",
       " 803                 SOTA improvement   \n",
       " 1657                SOTA improvement   \n",
       " 927    Highly cited,SOTA improvement   \n",
       " ...                              ...   \n",
       " 1021                   Training cost   \n",
       " 1124         Historical significance   \n",
       " 667                     Highly cited   \n",
       " 927    Highly cited,SOTA improvement   \n",
       " 1179                             NaN   \n",
       " \n",
       "                                            Domain Base model   category  \\\n",
       " 704                                      Language        NaN  Non-China   \n",
       " 1700                   Multimodal,Language,Vision        NaN  Non-China   \n",
       " 803                                      Language        NaN  Non-China   \n",
       " 1657  Multimodal,Vision,Language,Image generation        NaN  Non-China   \n",
       " 927                                      Language        NaN  Non-China   \n",
       " ...                                           ...        ...        ...   \n",
       " 1021                                     Language        NaN  Non-China   \n",
       " 1124                                     Language        NaN  Non-China   \n",
       " 667                                      Language        NaN  Non-China   \n",
       " 927                                      Language        NaN  Non-China   \n",
       " 1179                                     Language        NaN  Non-China   \n",
       " \n",
       "      Training hardware   log_flop  \n",
       " 704                NaN  21.755875  \n",
       " 1700     Google TPU v4  25.698970  \n",
       " 803      Google TPU v3  23.049218  \n",
       " 1657               NaN  25.322219  \n",
       " 927      Google TPU v3  22.914872  \n",
       " ...                ...        ...  \n",
       " 1021               NaN  23.568202  \n",
       " 1124     Google TPU v3  23.550228  \n",
       " 667                NaN  21.283301  \n",
       " 927      Google TPU v3  22.914872  \n",
       " 1179               NaN  23.748188  \n",
       " \n",
       " [69 rows x 10 columns], p=6, bic=83.3073101658808, rss=11.028733048158399, mse=0.15983671084287535, predict=<function fit_n_phase_exponential.<locals>.predict at 0x175fb94e0>, break_points=(738917,), break_points_dt=[Timestamp('2024-02-01 00:00:00')], oom_year_slopes=array([0.67404745, 0.83024135]), bics=[90.89528316126801, 92.16735396480415, 93.05477737096909, 93.60199362988531, 94.6644892590878, 94.78417186501969, 94.79255118681611, 94.739332173467, 94.65119427297269, 94.53814997020883, 94.41770416188055, 94.28877163494539, 94.27859323818923, 94.1798673490095, 94.07137501833121, 93.96879864331484, 93.86647612406595, 93.7717255638288, 93.67865715706377, 93.4209223222856, 93.27613273607729, 93.19852742004102, 92.96732074788179, 92.55456855330172, 92.27444547337691, 92.36742697049803, 92.3989491690199, 92.38405302023958, 92.40596224098667, 92.3678687290145, 92.4733145048171, 92.6257955825079, 92.78950321397046, 92.97479137023129, 92.74744034093229, 92.84976927576096, 92.97018642178537, 93.45466728310082, 92.76256056782496, 92.7074729740217, 92.70695857992371, 91.98040866995635, 91.57216609005322, 91.86421249803236, 93.21225452939709, 93.40968282346239, 93.43709644080006, 83.76489168870714, 83.3073101658808, 86.86714906726371], rsss=[10.806263825894298, 10.892098829909944, 10.955240768957694, 10.995348997716189, 11.02320292328179, 11.04339228410478, 11.047845422855548, 11.043029441740224, 11.032275758195691, 11.017030185555265, 10.999806252996573, 10.980603945128511, 10.962472372627992, 10.946722194068503, 10.929505749839414, 10.913304815513817, 10.897214426356722, 10.88237814176571, 10.867867338072806, 10.84739890102723, 10.825049775704583, 10.792481472226715, 10.75632738942547, 10.714148096023365, 10.67050448664125, 10.666552189893888, 10.684605456698963, 10.672369790153155, 10.673106220007213, 10.679020814270181, 10.696287753315826, 10.719758656256047, 10.744787057563197, 10.77291528275457, 10.800488649817076, 10.816433424177923, 10.834839691002887, 10.856735443135896, 10.871000562761965, 10.863579517896405, 10.849052529902746, 10.838066430220593, 10.862728146081748, 10.909743098553237, 10.964485529728924, 11.02232548536755, 11.043946000883574, 11.04118157923087, 11.028733048158399, 11.000657672275452], mses=[0.1566125192158594, 0.15785650478130353, 0.15877160534721296, 0.1593528840248723, 0.15975656410553318, 0.16004916353775042, 0.1601137017805152, 0.16004390495275686, 0.15988805446660423, 0.15966710413848212, 0.15941748192748656, 0.15913918761055812, 0.15887641119750714, 0.15864814774012323, 0.1583986340556437, 0.15816383790599733, 0.15793064386024236, 0.1577156252429813, 0.15750532374018558, 0.15720867972503233, 0.15688477935803744, 0.15641277495980746, 0.15588880274529668, 0.15527750863801978, 0.1546449925600181, 0.15458771289701287, 0.1548493544449125, 0.15467202594424861, 0.15468269884068425, 0.15476841759811857, 0.1550186630915337, 0.1553588211051601, 0.15572155155888692, 0.15612920699644303, 0.15652882101184168, 0.15675990469823076, 0.15702666218844766, 0.15734399192950574, 0.15755073279365167, 0.15744318141878846, 0.15723264536090936, 0.15707342652493614, 0.15743084269683694, 0.15811221881961213, 0.1589055873873757, 0.15974384761402244, 0.16005718841860253, 0.16001712433667928, 0.15983671084287535, 0.1594298213373254], break_points_list=[(737456,), (737485,), (737516,), (737546,), (737577,), (737607,), (737638,), (737669,), (737699,), (737730,), (737760,), (737791,), (737822,), (737850,), (737881,), (737911,), (737942,), (737972,), (738003,), (738034,), (738064,), (738095,), (738125,), (738156,), (738187,), (738215,), (738246,), (738276,), (738307,), (738337,), (738368,), (738399,), (738429,), (738460,), (738490,), (738521,), (738552,), (738580,), (738611,), (738641,), (738672,), (738702,), (738733,), (738764,), (738794,), (738825,), (738855,), (738886,), (738917,), (738946,)], break_points_dt_list=[[Timestamp('2020-02-01 00:00:00')], [Timestamp('2020-03-01 00:00:00')], [Timestamp('2020-04-01 00:00:00')], [Timestamp('2020-05-01 00:00:00')], [Timestamp('2020-06-01 00:00:00')], [Timestamp('2020-07-01 00:00:00')], [Timestamp('2020-08-01 00:00:00')], [Timestamp('2020-09-01 00:00:00')], [Timestamp('2020-10-01 00:00:00')], [Timestamp('2020-11-01 00:00:00')], [Timestamp('2020-12-01 00:00:00')], [Timestamp('2021-01-01 00:00:00')], [Timestamp('2021-02-01 00:00:00')], [Timestamp('2021-03-01 00:00:00')], [Timestamp('2021-04-01 00:00:00')], [Timestamp('2021-05-01 00:00:00')], [Timestamp('2021-06-01 00:00:00')], [Timestamp('2021-07-01 00:00:00')], [Timestamp('2021-08-01 00:00:00')], [Timestamp('2021-09-01 00:00:00')], [Timestamp('2021-10-01 00:00:00')], [Timestamp('2021-11-01 00:00:00')], [Timestamp('2021-12-01 00:00:00')], [Timestamp('2022-01-01 00:00:00')], [Timestamp('2022-02-01 00:00:00')], [Timestamp('2022-03-01 00:00:00')], [Timestamp('2022-04-01 00:00:00')], [Timestamp('2022-05-01 00:00:00')], [Timestamp('2022-06-01 00:00:00')], [Timestamp('2022-07-01 00:00:00')], [Timestamp('2022-08-01 00:00:00')], [Timestamp('2022-09-01 00:00:00')], [Timestamp('2022-10-01 00:00:00')], [Timestamp('2022-11-01 00:00:00')], [Timestamp('2022-12-01 00:00:00')], [Timestamp('2023-01-01 00:00:00')], [Timestamp('2023-02-01 00:00:00')], [Timestamp('2023-03-01 00:00:00')], [Timestamp('2023-04-01 00:00:00')], [Timestamp('2023-05-01 00:00:00')], [Timestamp('2023-06-01 00:00:00')], [Timestamp('2023-07-01 00:00:00')], [Timestamp('2023-08-01 00:00:00')], [Timestamp('2023-09-01 00:00:00')], [Timestamp('2023-10-01 00:00:00')], [Timestamp('2023-11-01 00:00:00')], [Timestamp('2023-12-01 00:00:00')], [Timestamp('2024-01-01 00:00:00')], [Timestamp('2024-02-01 00:00:00')], [Timestamp('2024-03-01 00:00:00')]]),\n",
       " 'Discontinuity': KinkedFitResult(df=                 Model          flop       date              Organization  \\\n",
       " 704        Grover-Mega  5.700000e+21 2019-05-29  University of Washington   \n",
       " 1700  Gemini 1.0 Ultra  5.000000e+25 2023-12-06           Google DeepMind   \n",
       " 803              Meena  1.120000e+23 2020-01-28              Google Brain   \n",
       " 1657       GPT-4 Turbo  2.100000e+25 2023-11-06                    OpenAI   \n",
       " 927             Switch  8.220000e+22 2021-01-11                    Google   \n",
       " ...                ...           ...        ...                       ...   \n",
       " 1021  Jurassic-1-Jumbo  3.700000e+23 2021-08-11                 AI21 Labs   \n",
       " 1124             LaMDA  3.550000e+23 2022-02-10                    Google   \n",
       " 667       GPT-2 (1.5B)  1.920000e+21 2019-02-14                    OpenAI   \n",
       " 927             Switch  8.220000e+22 2021-01-11                    Google   \n",
       " 1179        BIG-G 137B  5.600000e+23 2022-06-09                    Google   \n",
       " \n",
       "                  Notability criteria  \\\n",
       " 704                              NaN   \n",
       " 1700  SOTA improvement,Training cost   \n",
       " 803                 SOTA improvement   \n",
       " 1657                SOTA improvement   \n",
       " 927    Highly cited,SOTA improvement   \n",
       " ...                              ...   \n",
       " 1021                   Training cost   \n",
       " 1124         Historical significance   \n",
       " 667                     Highly cited   \n",
       " 927    Highly cited,SOTA improvement   \n",
       " 1179                             NaN   \n",
       " \n",
       "                                            Domain Base model   category  \\\n",
       " 704                                      Language        NaN  Non-China   \n",
       " 1700                   Multimodal,Language,Vision        NaN  Non-China   \n",
       " 803                                      Language        NaN  Non-China   \n",
       " 1657  Multimodal,Vision,Language,Image generation        NaN  Non-China   \n",
       " 927                                      Language        NaN  Non-China   \n",
       " ...                                           ...        ...        ...   \n",
       " 1021                                     Language        NaN  Non-China   \n",
       " 1124                                     Language        NaN  Non-China   \n",
       " 667                                      Language        NaN  Non-China   \n",
       " 927                                      Language        NaN  Non-China   \n",
       " 1179                                     Language        NaN  Non-China   \n",
       " \n",
       "      Training hardware   log_flop  \n",
       " 704                NaN  21.755875  \n",
       " 1700     Google TPU v4  25.698970  \n",
       " 803      Google TPU v3  23.049218  \n",
       " 1657               NaN  25.322219  \n",
       " 927      Google TPU v3  22.914872  \n",
       " ...                ...        ...  \n",
       " 1021               NaN  23.568202  \n",
       " 1124     Google TPU v3  23.550228  \n",
       " 667                NaN  21.283301  \n",
       " 927      Google TPU v3  22.914872  \n",
       " 1179               NaN  23.748188  \n",
       " \n",
       " [69 rows x 10 columns], p=7, bic=86.56700425237474, rss=9.800776380113167, mse=0.14204023739294444, predict=<function fit_n_phase_exponential.<locals>.predict at 0x175fb9120>, break_points=(738794,), break_points_dt=[Timestamp('2023-10-01 00:00:00')], oom_year_slopes=array([0.61893291, 0.08994188]), bics=[96.11374311207979, 96.02684786008436, 96.63164622209852, 96.47554744493212, 95.72194407723845, 95.72194407723845, 95.72194407723843, 95.72194407723835, 96.51765025320367, 96.51765025320367, 96.51765025320356, 94.50276909823461, 96.15600012037743, 92.66234021464776, 92.66234021464766, 86.56700425237474, 86.56700425237482, 92.90742466715494], rsss=[10.591933613693374, 10.5923284385245, 10.671790494573699, 10.659065464326982, 10.54096228661352, 10.540962286613523, 10.54096228661352, 10.540962286613507, 10.723986381290405, 10.723986381290405, 10.723986381290388, 10.355944312876598, 10.830251062720288, 10.503057037737754, 10.503057037737744, 9.800776380113167, 9.800776380113174, 10.51601130300846], mses=[0.1535062842564257, 0.15351200635542755, 0.15466363035614056, 0.15447920962792727, 0.15276756937121044, 0.15276756937121047, 0.15276756937121044, 0.15276756937121025, 0.15542009248246966, 0.15542009248246966, 0.15542009248246938, 0.15008614946197968, 0.15696016032927954, 0.15221821793822832, 0.15221821793822818, 0.14204023739294444, 0.14204023739294455, 0.15240596091316608], break_points_list=[(738215,), (738246,), (738307,), (738337,), (738368,), (738399,), (738429,), (738460,), (738490,), (738521,), (738552,), (738580,), (738702,), (738733,), (738764,), (738794,), (738825,), (738855,)], break_points_dt_list=[[Timestamp('2022-03-01 00:00:00')], [Timestamp('2022-04-01 00:00:00')], [Timestamp('2022-06-01 00:00:00')], [Timestamp('2022-07-01 00:00:00')], [Timestamp('2022-08-01 00:00:00')], [Timestamp('2022-09-01 00:00:00')], [Timestamp('2022-10-01 00:00:00')], [Timestamp('2022-11-01 00:00:00')], [Timestamp('2022-12-01 00:00:00')], [Timestamp('2023-01-01 00:00:00')], [Timestamp('2023-02-01 00:00:00')], [Timestamp('2023-03-01 00:00:00')], [Timestamp('2023-07-01 00:00:00')], [Timestamp('2023-08-01 00:00:00')], [Timestamp('2023-09-01 00:00:00')], [Timestamp('2023-10-01 00:00:00')], [Timestamp('2023-11-01 00:00:00')], [Timestamp('2023-12-01 00:00:00')]])}"
      ]
     },
     "execution_count": 34,
     "metadata": {},
     "output_type": "execute_result"
    }
   ],
   "source": [
    "error_state = state.copy()\n",
    "# Initialize a new RNG\n",
    "new_rng = np.random.default_rng()\n",
    "# Set the new RNG's bit generator state to the saved state\n",
    "new_rng.bit_generator.state = state\n",
    "# Reproduce the error\n",
    "sample = df_filtered.sample(len(df_filtered), replace=True, random_state=new_rng)\n",
    "fit_em_all(sample[sample['category'] == 'Non-China'])"
   ]
  },
  {
   "cell_type": "code",
   "execution_count": 35,
   "metadata": {},
   "outputs": [
    {
     "name": "stdout",
     "output_type": "stream",
     "text": [
      "Bootstrapping China data\n",
      "Bootstrapping Non-China data\n"
     ]
    }
   ],
   "source": [
    "# Bootstrap\n",
    "bootstrap_sample_size = 1\n",
    "\n",
    "pred_start_date = df_filtered['date'].min()\n",
    "pred_end_date = df_filtered['date'].max()\n",
    "\n",
    "regression_data['China']['bootstrap_predictions'] = defaultdict(lambda : [])\n",
    "regression_data['Non-China']['bootstrap_predictions'] = defaultdict(lambda : [])\n",
    "\n",
    "regression_data['China']['bootstrap_bics'] = defaultdict(lambda : [])\n",
    "regression_data['Non-China']['bootstrap_bics'] = defaultdict(lambda : [])\n",
    "\n",
    "regression_data['China']['bootstrap_mses'] = defaultdict(lambda : [])\n",
    "regression_data['Non-China']['bootstrap_mses'] = defaultdict(lambda : [])\n",
    "\n",
    "regression_data['China']['bootstrap_bic_score_diff'] = defaultdict(lambda : [])\n",
    "regression_data['Non-China']['bootstrap_bic_score_diff'] = defaultdict(lambda : [])\n",
    "\n",
    "regression_data['China']['bootstrap_slopes'] = defaultdict(lambda : [])\n",
    "regression_data['Non-China']['bootstrap_slopes'] = defaultdict(lambda : [])\n",
    "\n",
    "regression_data['China']['bootstrap_breaks'] = defaultdict(lambda : [])\n",
    "regression_data['Non-China']['bootstrap_breaks'] = defaultdict(lambda : [])\n",
    "\n",
    "rng = np.random.default_rng(20250103)\n",
    "\n",
    "from joblib import Parallel, delayed\n",
    "from tqdm.notebook import tqdm\n",
    "\n",
    "def bootstrap_iteration(bootstrap_index, category, df_filtered, pred_start_date, pred_end_date, rng_seed):\n",
    "    if bootstrap_index == 0:\n",
    "        # Use the original data as the first bootstrap sample\n",
    "        sample = df_filtered.copy()\n",
    "    else:\n",
    "        sample = df_filtered.sample(len(df_filtered), replace=True, random_state=rng_seed)\n",
    "    sample = sample[sample['category'] == category]\n",
    "    sample = sample.sort_values('date')\n",
    "\n",
    "    # Compute BICs\n",
    "    boot_models = fit_em_all(sample)\n",
    "\n",
    "    # Compute K fold validation\n",
    "    boot_folds_mses = perform_cross_validation(sample)\n",
    "\n",
    "    # Initialize local storage\n",
    "    local_bics = {}\n",
    "    local_mses = {}\n",
    "    local_bic_diff = {}\n",
    "    local_slopes = {}\n",
    "    local_breaks = {}\n",
    "    local_predictions = {}\n",
    "\n",
    "    # Store results\n",
    "    for name, model in boot_models.items():\n",
    "        # It might be None if the hyperbolic fails to fit\n",
    "        if model is None:\n",
    "            continue\n",
    "\n",
    "        local_bics[name] = model.bic\n",
    "        local_mses[name] = boot_folds_mses.get(name, np.nan)\n",
    "        local_bic_diff[name] = model.bic - boot_models.get(\"Simple\", model.bic).bic\n",
    "\n",
    "        if isinstance(model, KinkedFitResult):\n",
    "            if len(model.oom_year_slopes) > 0:\n",
    "                local_slopes[name] = 10**model.oom_year_slopes[-1]\n",
    "            if len(model.break_points_dt) > 0:\n",
    "                local_breaks[name] = model.break_points_dt[-1]\n",
    "\n",
    "    # Store predictions for confidence intervals\n",
    "    for name, model in boot_models.items():\n",
    "        try:\n",
    "            date_grid = pd.date_range(start=pred_start_date, end=pred_end_date, freq='MS')\n",
    "            pred = model.predict(pd.Series(date_grid))\n",
    "            local_predictions[name] = pred\n",
    "        except AttributeError:\n",
    "            continue\n",
    "\n",
    "    return (local_bics, local_mses, local_bic_diff, local_slopes, local_breaks, local_predictions)\n",
    "\n",
    "for category in ['China', 'Non-China']:\n",
    "    print(f\"Bootstrapping {category} data\")\n",
    "    \n",
    "    # Define a fixed seed for reproducibility in parallel processing\n",
    "    seeds = rng.integers(0, 1e9, size=bootstrap_sample_size)\n",
    "\n",
    "    results = Parallel(n_jobs=-1)(\n",
    "        delayed(bootstrap_iteration)(\n",
    "            bootstrap_index,\n",
    "            category,\n",
    "            df_filtered,\n",
    "            pred_start_date,\n",
    "            pred_end_date,\n",
    "            seeds[bootstrap_index]\n",
    "        )\n",
    "        for bootstrap_index in range(bootstrap_sample_size)\n",
    "    )\n",
    "\n",
    "    for res in results:\n",
    "        local_bics, local_mses, local_bic_diff, local_slopes, local_breaks, local_predictions = res\n",
    "\n",
    "        # Update BICs\n",
    "        for name, bic in local_bics.items():\n",
    "            regression_data[category]['bootstrap_bics'][name].append(bic)\n",
    "\n",
    "        # Update MSEs\n",
    "        for name, mse in local_mses.items():\n",
    "            regression_data[category]['bootstrap_mses'][name].append(mse)\n",
    "\n",
    "        # Update BIC score differences\n",
    "        for name, diff in local_bic_diff.items():\n",
    "            regression_data[category]['bootstrap_bic_score_diff'][name].append(diff)\n",
    "\n",
    "        # Update slopes\n",
    "        for name, slope in local_slopes.items():\n",
    "            regression_data[category]['bootstrap_slopes'][name].append(slope)\n",
    "\n",
    "        # Update break points\n",
    "        for name, break_pt in local_breaks.items():\n",
    "            regression_data[category]['bootstrap_breaks'][name].append(break_pt)\n",
    "\n",
    "        # Update predictions\n",
    "        for name, pred in local_predictions.items():\n",
    "            regression_data[category]['bootstrap_predictions'][name].append(pred)"
   ]
  },
  {
   "cell_type": "code",
   "execution_count": 36,
   "metadata": {},
   "outputs": [
    {
     "name": "stdout",
     "output_type": "stream",
     "text": [
      "Bootstrapped regression results\n",
      "China\n"
     ]
    },
    {
     "data": {
      "text/html": [
       "<div>\n",
       "<style scoped>\n",
       "    .dataframe tbody tr th:only-of-type {\n",
       "        vertical-align: middle;\n",
       "    }\n",
       "\n",
       "    .dataframe tbody tr th {\n",
       "        vertical-align: top;\n",
       "    }\n",
       "\n",
       "    .dataframe thead th {\n",
       "        text-align: right;\n",
       "    }\n",
       "</style>\n",
       "<table border=\"1\" class=\"dataframe\">\n",
       "  <thead>\n",
       "    <tr style=\"text-align: right;\">\n",
       "      <th></th>\n",
       "      <th>Model</th>\n",
       "      <th>BIC</th>\n",
       "      <th>BIC 90% CI</th>\n",
       "      <th>BIC score diff</th>\n",
       "      <th>BIC score diff 90% CI</th>\n",
       "      <th>Xi²</th>\n",
       "      <th>% times preferred over simple</th>\n",
       "      <th>K-fold mean MSE</th>\n",
       "      <th>K-fold mean MSE 90% CI</th>\n",
       "      <th>Recent slope (Nx/year)</th>\n",
       "      <th>Recent slope 90% CI</th>\n",
       "      <th>Break point</th>\n",
       "      <th>Break point 90% CI</th>\n",
       "    </tr>\n",
       "  </thead>\n",
       "  <tbody>\n",
       "    <tr>\n",
       "      <th>0</th>\n",
       "      <td>Simple</td>\n",
       "      <td>175.10</td>\n",
       "      <td>[175.1, 175.1]</td>\n",
       "      <td>0.00</td>\n",
       "      <td>[0.0, 0.0]</td>\n",
       "      <td>NaN</td>\n",
       "      <td>0%</td>\n",
       "      <td>1.29</td>\n",
       "      <td>[1.29, 1.29]</td>\n",
       "      <td>16.24</td>\n",
       "      <td>[16.24, 16.24]</td>\n",
       "      <td>NaN</td>\n",
       "      <td>NaN</td>\n",
       "    </tr>\n",
       "    <tr>\n",
       "      <th>1</th>\n",
       "      <td>One kink</td>\n",
       "      <td>135.21</td>\n",
       "      <td>[135.21, 135.21]</td>\n",
       "      <td>-39.89</td>\n",
       "      <td>[-39.89, -39.89]</td>\n",
       "      <td>1.041998e-11</td>\n",
       "      <td>100%</td>\n",
       "      <td>0.69</td>\n",
       "      <td>[0.69, 0.69]</td>\n",
       "      <td>3.03</td>\n",
       "      <td>[3.03, 3.03]</td>\n",
       "      <td>2021-09</td>\n",
       "      <td>[2021-09, 2021-09]</td>\n",
       "    </tr>\n",
       "    <tr>\n",
       "      <th>2</th>\n",
       "      <td>Discontinuity</td>\n",
       "      <td>133.06</td>\n",
       "      <td>[133.06, 133.06]</td>\n",
       "      <td>-42.04</td>\n",
       "      <td>[-42.04, -42.04]</td>\n",
       "      <td>1.741736e-12</td>\n",
       "      <td>100%</td>\n",
       "      <td>0.73</td>\n",
       "      <td>[0.71, 0.71]</td>\n",
       "      <td>3.31</td>\n",
       "      <td>[3.31, 3.31]</td>\n",
       "      <td>2021-04</td>\n",
       "      <td>[2021-04, 2021-04]</td>\n",
       "    </tr>\n",
       "  </tbody>\n",
       "</table>\n",
       "</div>"
      ],
      "text/plain": [
       "           Model     BIC        BIC 90% CI  BIC score diff  \\\n",
       "0         Simple  175.10    [175.1, 175.1]            0.00   \n",
       "1       One kink  135.21  [135.21, 135.21]          -39.89   \n",
       "2  Discontinuity  133.06  [133.06, 133.06]          -42.04   \n",
       "\n",
       "  BIC score diff 90% CI           Xi² % times preferred over simple  \\\n",
       "0            [0.0, 0.0]           NaN                            0%   \n",
       "1      [-39.89, -39.89]  1.041998e-11                          100%   \n",
       "2      [-42.04, -42.04]  1.741736e-12                          100%   \n",
       "\n",
       "   K-fold mean MSE K-fold mean MSE 90% CI  Recent slope (Nx/year)  \\\n",
       "0             1.29           [1.29, 1.29]                   16.24   \n",
       "1             0.69           [0.69, 0.69]                    3.03   \n",
       "2             0.73           [0.71, 0.71]                    3.31   \n",
       "\n",
       "  Recent slope 90% CI Break point  Break point 90% CI  \n",
       "0      [16.24, 16.24]         NaN                 NaN  \n",
       "1        [3.03, 3.03]     2021-09  [2021-09, 2021-09]  \n",
       "2        [3.31, 3.31]     2021-04  [2021-04, 2021-04]  "
      ]
     },
     "metadata": {},
     "output_type": "display_data"
    },
    {
     "name": "stdout",
     "output_type": "stream",
     "text": [
      "Non-China\n"
     ]
    },
    {
     "data": {
      "text/html": [
       "<div>\n",
       "<style scoped>\n",
       "    .dataframe tbody tr th:only-of-type {\n",
       "        vertical-align: middle;\n",
       "    }\n",
       "\n",
       "    .dataframe tbody tr th {\n",
       "        vertical-align: top;\n",
       "    }\n",
       "\n",
       "    .dataframe thead th {\n",
       "        text-align: right;\n",
       "    }\n",
       "</style>\n",
       "<table border=\"1\" class=\"dataframe\">\n",
       "  <thead>\n",
       "    <tr style=\"text-align: right;\">\n",
       "      <th></th>\n",
       "      <th>Model</th>\n",
       "      <th>BIC</th>\n",
       "      <th>BIC 90% CI</th>\n",
       "      <th>BIC score diff</th>\n",
       "      <th>BIC score diff 90% CI</th>\n",
       "      <th>Xi²</th>\n",
       "      <th>% times preferred over simple</th>\n",
       "      <th>K-fold mean MSE</th>\n",
       "      <th>K-fold mean MSE 90% CI</th>\n",
       "      <th>Recent slope (Nx/year)</th>\n",
       "      <th>Recent slope 90% CI</th>\n",
       "      <th>Break point</th>\n",
       "      <th>Break point 90% CI</th>\n",
       "    </tr>\n",
       "  </thead>\n",
       "  <tbody>\n",
       "    <tr>\n",
       "      <th>0</th>\n",
       "      <td>Simple</td>\n",
       "      <td>70.93</td>\n",
       "      <td>[70.93, 70.93]</td>\n",
       "      <td>0.00</td>\n",
       "      <td>[0.0, 0.0]</td>\n",
       "      <td>NaN</td>\n",
       "      <td>0%</td>\n",
       "      <td>0.17</td>\n",
       "      <td>[0.17, 0.17]</td>\n",
       "      <td>4.78</td>\n",
       "      <td>[4.78, 4.78]</td>\n",
       "      <td>NaN</td>\n",
       "      <td>NaN</td>\n",
       "    </tr>\n",
       "    <tr>\n",
       "      <th>1</th>\n",
       "      <td>One kink</td>\n",
       "      <td>69.47</td>\n",
       "      <td>[69.47, 69.47]</td>\n",
       "      <td>-1.46</td>\n",
       "      <td>[-1.46, -1.46]</td>\n",
       "      <td>0.001292</td>\n",
       "      <td>100%</td>\n",
       "      <td>0.17</td>\n",
       "      <td>[0.17, 0.17]</td>\n",
       "      <td>4.32</td>\n",
       "      <td>[4.32, 4.32]</td>\n",
       "      <td>2019-12</td>\n",
       "      <td>[2019-12, 2019-12]</td>\n",
       "    </tr>\n",
       "    <tr>\n",
       "      <th>2</th>\n",
       "      <td>Discontinuity</td>\n",
       "      <td>82.05</td>\n",
       "      <td>[82.05, 82.05]</td>\n",
       "      <td>11.12</td>\n",
       "      <td>[11.12, 11.12]</td>\n",
       "      <td>0.095571</td>\n",
       "      <td>0%</td>\n",
       "      <td>0.18</td>\n",
       "      <td>[0.18, 0.18]</td>\n",
       "      <td>5.27</td>\n",
       "      <td>[5.27, 5.27]</td>\n",
       "      <td>2023-11</td>\n",
       "      <td>[2023-11, 2023-11]</td>\n",
       "    </tr>\n",
       "  </tbody>\n",
       "</table>\n",
       "</div>"
      ],
      "text/plain": [
       "           Model    BIC      BIC 90% CI  BIC score diff BIC score diff 90% CI  \\\n",
       "0         Simple  70.93  [70.93, 70.93]            0.00            [0.0, 0.0]   \n",
       "1       One kink  69.47  [69.47, 69.47]           -1.46        [-1.46, -1.46]   \n",
       "2  Discontinuity  82.05  [82.05, 82.05]           11.12        [11.12, 11.12]   \n",
       "\n",
       "        Xi² % times preferred over simple  K-fold mean MSE  \\\n",
       "0       NaN                            0%             0.17   \n",
       "1  0.001292                          100%             0.17   \n",
       "2  0.095571                            0%             0.18   \n",
       "\n",
       "  K-fold mean MSE 90% CI  Recent slope (Nx/year) Recent slope 90% CI  \\\n",
       "0           [0.17, 0.17]                    4.78        [4.78, 4.78]   \n",
       "1           [0.17, 0.17]                    4.32        [4.32, 4.32]   \n",
       "2           [0.18, 0.18]                    5.27        [5.27, 5.27]   \n",
       "\n",
       "  Break point  Break point 90% CI  \n",
       "0         NaN                 NaN  \n",
       "1     2019-12  [2019-12, 2019-12]  \n",
       "2     2023-11  [2023-11, 2023-11]  "
      ]
     },
     "metadata": {},
     "output_type": "display_data"
    },
    {
     "name": "stdout",
     "output_type": "stream",
     "text": [
      "Lag results (lag values in years)\n"
     ]
    },
    {
     "data": {
      "text/html": [
       "<div>\n",
       "<style scoped>\n",
       "    .dataframe tbody tr th:only-of-type {\n",
       "        vertical-align: middle;\n",
       "    }\n",
       "\n",
       "    .dataframe tbody tr th {\n",
       "        vertical-align: top;\n",
       "    }\n",
       "\n",
       "    .dataframe thead th {\n",
       "        text-align: right;\n",
       "    }\n",
       "</style>\n",
       "<table border=\"1\" class=\"dataframe\">\n",
       "  <thead>\n",
       "    <tr style=\"text-align: right;\">\n",
       "      <th></th>\n",
       "      <th>Non-China model</th>\n",
       "      <th>China model</th>\n",
       "      <th>Point estimate</th>\n",
       "      <th>Mean</th>\n",
       "      <th>90% CI</th>\n",
       "    </tr>\n",
       "  </thead>\n",
       "  <tbody>\n",
       "    <tr>\n",
       "      <th>0</th>\n",
       "      <td>Simple</td>\n",
       "      <td>Simple</td>\n",
       "      <td>0.59</td>\n",
       "      <td>0.59</td>\n",
       "      <td>[0.59, 0.59]</td>\n",
       "    </tr>\n",
       "    <tr>\n",
       "      <th>1</th>\n",
       "      <td>Simple</td>\n",
       "      <td>One kink</td>\n",
       "      <td>1.71</td>\n",
       "      <td>1.71</td>\n",
       "      <td>[1.71, 1.71]</td>\n",
       "    </tr>\n",
       "    <tr>\n",
       "      <th>2</th>\n",
       "      <td>Simple</td>\n",
       "      <td>Discontinuity</td>\n",
       "      <td>1.67</td>\n",
       "      <td>1.67</td>\n",
       "      <td>[1.67, 1.67]</td>\n",
       "    </tr>\n",
       "    <tr>\n",
       "      <th>3</th>\n",
       "      <td>One kink</td>\n",
       "      <td>Simple</td>\n",
       "      <td>0.52</td>\n",
       "      <td>0.52</td>\n",
       "      <td>[0.52, 0.52]</td>\n",
       "    </tr>\n",
       "    <tr>\n",
       "      <th>4</th>\n",
       "      <td>One kink</td>\n",
       "      <td>One kink</td>\n",
       "      <td>1.72</td>\n",
       "      <td>1.72</td>\n",
       "      <td>[1.72, 1.72]</td>\n",
       "    </tr>\n",
       "    <tr>\n",
       "      <th>5</th>\n",
       "      <td>One kink</td>\n",
       "      <td>Discontinuity</td>\n",
       "      <td>1.67</td>\n",
       "      <td>1.67</td>\n",
       "      <td>[1.67, 1.67]</td>\n",
       "    </tr>\n",
       "    <tr>\n",
       "      <th>6</th>\n",
       "      <td>Discontinuity</td>\n",
       "      <td>Simple</td>\n",
       "      <td>0.73</td>\n",
       "      <td>0.73</td>\n",
       "      <td>[0.73, 0.73]</td>\n",
       "    </tr>\n",
       "    <tr>\n",
       "      <th>7</th>\n",
       "      <td>Discontinuity</td>\n",
       "      <td>One kink</td>\n",
       "      <td>1.79</td>\n",
       "      <td>1.79</td>\n",
       "      <td>[1.79, 1.79]</td>\n",
       "    </tr>\n",
       "    <tr>\n",
       "      <th>8</th>\n",
       "      <td>Discontinuity</td>\n",
       "      <td>Discontinuity</td>\n",
       "      <td>1.74</td>\n",
       "      <td>1.74</td>\n",
       "      <td>[1.74, 1.74]</td>\n",
       "    </tr>\n",
       "  </tbody>\n",
       "</table>\n",
       "</div>"
      ],
      "text/plain": [
       "  Non-China model    China model  Point estimate  Mean        90% CI\n",
       "0          Simple         Simple            0.59  0.59  [0.59, 0.59]\n",
       "1          Simple       One kink            1.71  1.71  [1.71, 1.71]\n",
       "2          Simple  Discontinuity            1.67  1.67  [1.67, 1.67]\n",
       "3        One kink         Simple            0.52  0.52  [0.52, 0.52]\n",
       "4        One kink       One kink            1.72  1.72  [1.72, 1.72]\n",
       "5        One kink  Discontinuity            1.67  1.67  [1.67, 1.67]\n",
       "6   Discontinuity         Simple            0.73  0.73  [0.73, 0.73]\n",
       "7   Discontinuity       One kink            1.79  1.79  [1.79, 1.79]\n",
       "8   Discontinuity  Discontinuity            1.74  1.74  [1.74, 1.74]"
      ]
     },
     "metadata": {},
     "output_type": "display_data"
    }
   ],
   "source": [
    "ci_width = 0.90\n",
    "qs = [(1 - ci_width)/2, (1 + ci_width)/2]\n",
    "bootstrap_preferred_percent = {}\n",
    "bootstrap_summary_data = {\n",
    "    'China': defaultdict(lambda: {}),\n",
    "    'Non-China': defaultdict(lambda: {}),\n",
    "}\n",
    "for category in ['China', 'Non-China']:\n",
    "    for name in regression_data[category]['models']:\n",
    "        bootstrap_summary_data[category]['bootstrap_preferred_percent'][name] = np.mean(np.array(regression_data[category]['bootstrap_bic_score_diff'][name])<0)\n",
    "        bootstrap_summary_data[category]['bootstrap_bics'][name] = np.quantile(np.array(regression_data[category]['bootstrap_bics'][name]), qs)\n",
    "        bootstrap_summary_data[category]['bootstrap_mses'][name] = np.quantile(np.array(regression_data[category]['bootstrap_mses'][name]), qs)\n",
    "        bootstrap_summary_data[category]['bootstrap_bic_score_diff'][name] = np.quantile(np.array(regression_data[category]['bootstrap_bic_score_diff'][name]), qs)\n",
    "        try:\n",
    "            bootstrap_summary_data[category]['bootstrap_slopes'][name] = np.quantile(np.array(regression_data[category]['bootstrap_slopes'][name]), qs)\n",
    "            bootstrap_summary_data[category]['bootstrap_breaks'][name] = np.quantile(np.array(regression_data[category]['bootstrap_breaks'][name]), qs)\n",
    "        except IndexError:\n",
    "            pass\n",
    "\n",
    "# Models with lower BIC score / MSE are preferred.\n",
    "\n",
    "results = {\n",
    "    'China': [],\n",
    "    'Non-China': [],\n",
    "}\n",
    "\n",
    "for category in ['China', 'Non-China']:\n",
    "    for name, model in regression_data[category]['models'].items():\n",
    "        param_count = model.p\n",
    "        log_likelihood = (np.log(len(df_filtered))*param_count - model.bic)/2\n",
    "\n",
    "        param_count_simple = regression_data[category]['models']['Simple'].p\n",
    "        log_likelihood_simple = (np.log(len(df_filtered))*param_count_simple - regression_data[category]['models']['Simple'].bic)/2\n",
    "\n",
    "        c2 = chi2.sf(2*(log_likelihood - log_likelihood_simple), df=(param_count - param_count_simple))\n",
    "\n",
    "        result = {\n",
    "            \"Model\": name,\n",
    "            \"BIC\" : np.round(model.bic, 2),\n",
    "            \"BIC 90% CI\" : np.round(bootstrap_summary_data[category]['bootstrap_bics'][name], 2),\n",
    "            #\"Parameter count\": param_count,\n",
    "            #\"Log likelihood\": np.round((np.log(len(df_filtered))*param_count - model.bic)/2),\n",
    "            # \"MSE\" : model.mse,\n",
    "            \"BIC score diff\": np.round(model.bic - regression_data[category]['models']['Simple'].bic, 2),\n",
    "            \"BIC score diff 90% CI\": np.round(bootstrap_summary_data[category]['bootstrap_bic_score_diff'][name], 2),\n",
    "            \"Xi²\": c2,\n",
    "            \"% times preferred over simple\": f\"{bootstrap_summary_data[category]['bootstrap_preferred_percent'][name]:.0%}\",\n",
    "            # \"bayes factor over simple\" : np.exp(-0.5 * (model.bic - models[\"simple\"].bic)),\n",
    "            \"K-fold mean MSE\" : np.round(regression_data[category]['folds_mses'][name], 2),\n",
    "            \"K-fold mean MSE 90% CI\" : np.round(bootstrap_summary_data[category]['bootstrap_mses'][name], 2),\n",
    "        }\n",
    "\n",
    "        try:\n",
    "            result[\"Recent slope (Nx/year)\"] = np.round(10**model.oom_year_slopes[-1], 2)\n",
    "            result[\"Recent slope 90% CI\"] = np.round(bootstrap_summary_data[category]['bootstrap_slopes'][name], 2)\n",
    "            result[\"Break point\"] = model.break_points_dt[-1].strftime('%Y-%m')\n",
    "            result[\"Break point 90% CI\"] = [date.strftime('%Y-%m') for date in bootstrap_summary_data[category]['bootstrap_breaks'][name]]\n",
    "        except (AttributeError, IndexError):\n",
    "            pass\n",
    "        results[category].append(result)\n",
    "\n",
    "results = {category: pd.DataFrame(results[category]) for category in ['China', 'Non-China']}\n",
    "\n",
    "lag_results = []\n",
    "for name, model in regression_data['Non-China']['models'].items():\n",
    "    for name_china, model_china in regression_data['China']['models'].items():\n",
    "        lags = []\n",
    "        for i in range(bootstrap_sample_size):\n",
    "            last_pred_china = regression_data['China']['bootstrap_predictions'][name_china][i][-1]\n",
    "            last_pred_non_china = regression_data['Non-China']['bootstrap_predictions'][name][i][-1]\n",
    "            lag = (last_pred_non_china - last_pred_china) / model.oom_year_slopes[-1]\n",
    "            lags.append(lag)\n",
    "        lag_result = {\n",
    "            \"Non-China model\": name,\n",
    "            \"China model\": name_china,\n",
    "            \"Point estimate\": np.round(lags[0], 2),  # First bootstrap sample is the original data\n",
    "            \"Mean\": np.round(np.mean(lags), 2),\n",
    "            \"90% CI\": np.round(np.quantile(lags, qs), 2),\n",
    "        }\n",
    "        lag_results.append(lag_result)\n",
    "lag_results = pd.DataFrame(lag_results)\n",
    "# bayes_factor = np.exp(-0.5 * (kinked_fit.bic - simple_fit.bic))\n",
    "\n",
    "print(\"Bootstrapped regression results\")\n",
    "for category in ['China', 'Non-China']:\n",
    "    print(category)\n",
    "    display(results[category])\n",
    "print(\"Lag results (lag values in years)\")\n",
    "display(lag_results)"
   ]
  },
  {
   "cell_type": "code",
   "execution_count": 37,
   "metadata": {},
   "outputs": [],
   "source": [
    "# Save results_df\n",
    "for category in ['China', 'Non-China']:\n",
    "    regression_fname = f'compute_regression_analysis_{category}_{model_selection}_frontier={frontier_selection}_top_n={top_n}_cutoff={cutoff_date}.csv'\n",
    "    results[category].to_csv(os.path.join(results_dir, regression_fname), index=False)\n",
    "lag_results.to_csv(os.path.join(results_dir, f'lags_{model_selection}_frontier={frontier_selection}_top_n={top_n}_cutoff={cutoff_date}.csv'), index=False)\n"
   ]
  },
  {
   "cell_type": "markdown",
   "metadata": {},
   "source": [
    "# Plot predictions with bootstrapped CIs"
   ]
  },
  {
   "cell_type": "code",
   "execution_count": 38,
   "metadata": {},
   "outputs": [
    {
     "data": {
      "text/plain": [
       "defaultdict(<function __main__.<lambda>()>,\n",
       "            {'Simple': [array([17.62591311, 17.72540789, 17.82821917, 17.92771395, 18.03052523,\n",
       "                     18.13333651, 18.2261983 , 18.32900958, 18.42850436, 18.53131564,\n",
       "                     18.63081042, 18.7336217 , 18.83643298, 18.93592776, 19.03873903,\n",
       "                     19.13823382, 19.24104509, 19.34385637, 19.44003466, 19.54284594,\n",
       "                     19.64234072, 19.745152  , 19.84464678, 19.94745806, 20.05026933,\n",
       "                     20.14976412, 20.25257539, 20.35207018, 20.45488145, 20.55769273,\n",
       "                     20.65055453, 20.7533658 , 20.85286059, 20.95567186, 21.05516665,\n",
       "                     21.15797792, 21.2607892 , 21.36028398, 21.46309526, 21.56259004,\n",
       "                     21.66540132, 21.7682126 , 21.86107439, 21.96388567, 22.06338045,\n",
       "                     22.16619173, 22.26568651, 22.36849779, 22.47130907, 22.57080385,\n",
       "                     22.67361513, 22.77310991, 22.87592119, 22.97873246, 23.07159426,\n",
       "                     23.17440554, 23.27390032, 23.3767116 , 23.47620638, 23.57901766,\n",
       "                     23.68182893, 23.78132372, 23.88413499, 23.98362977, 24.08644105,\n",
       "                     24.18925233, 24.28543062, 24.38824189, 24.48773668, 24.59054795,\n",
       "                     24.69004274, 24.79285401, 24.89566529, 24.99516007, 25.09797135,\n",
       "                     25.19746613])],\n",
       "             'One kink': [array([14.13856506, 14.37751403, 14.62442795, 14.86337691, 15.11029084,\n",
       "                     15.35720477, 15.5802238 , 15.82713772, 16.06608668, 16.31300061,\n",
       "                     16.55194957, 16.7988635 , 17.04577743, 17.28472639, 17.53164031,\n",
       "                     17.77058927, 18.0175032 , 18.26441713, 18.49540112, 18.74231505,\n",
       "                     18.98126401, 19.22817794, 19.4671269 , 19.71404083, 19.96095475,\n",
       "                     20.19990371, 20.44681764, 20.6857666 , 20.93268053, 21.17959445,\n",
       "                     21.40261349, 21.64952741, 21.88847637, 22.1353903 , 22.37433926,\n",
       "                     22.62125319, 22.86816711, 22.90773721, 22.9486263 , 22.9881964 ,\n",
       "                     23.02908549, 23.06997459, 23.10690668, 23.14779577, 23.18736587,\n",
       "                     23.22825496, 23.26782506, 23.30871415, 23.34960325, 23.38917334,\n",
       "                     23.43006244, 23.46963253, 23.51052163, 23.55141072, 23.58834281,\n",
       "                     23.62923191, 23.668802  , 23.7096911 , 23.74926119, 23.79015029,\n",
       "                     23.83103938, 23.87060948, 23.91149857, 23.95106867, 23.99195776,\n",
       "                     24.03284686, 24.07109795, 24.11198704, 24.15155714, 24.19244623,\n",
       "                     24.23201633, 24.27290542, 24.31379452, 24.35336461, 24.39425371,\n",
       "                     24.4338238 ])],\n",
       "             'Discontinuity': [array([14.51306984, 14.73097652, 14.95614676, 15.17405344, 15.39922367,\n",
       "                     15.62439391, 15.82777348, 16.05294372, 16.2708504 , 16.49602063,\n",
       "                     16.71392731, 16.93909755, 17.16426779, 17.38217447, 17.6073447 ,\n",
       "                     17.82525139, 18.05042162, 18.27559186, 18.48623498, 18.71140522,\n",
       "                     18.9293119 , 19.15448214, 19.37238882, 19.59755905, 19.82272929,\n",
       "                     20.04063597, 20.26580621, 20.48371289, 20.70888313, 20.93405336,\n",
       "                     21.13743293, 22.55733792, 22.60005168, 22.64418924, 22.686903  ,\n",
       "                     22.73104056, 22.77517812, 22.81789188, 22.86202944, 22.90474321,\n",
       "                     22.94888076, 22.99301832, 23.0328845 , 23.07702206, 23.11973582,\n",
       "                     23.16387338, 23.20658715, 23.2507247 , 23.29486226, 23.33757603,\n",
       "                     23.38171358, 23.42442735, 23.46856491, 23.51270246, 23.55256865,\n",
       "                     23.5967062 , 23.63941997, 23.68355753, 23.72627129, 23.77040885,\n",
       "                     23.81454641, 23.85726017, 23.90139773, 23.94411149, 23.98824905,\n",
       "                     24.03238661, 24.07367658, 24.11781414, 24.1605279 , 24.20466546,\n",
       "                     24.24737923, 24.29151678, 24.33565434, 24.37836811, 24.42250566,\n",
       "                     24.46521943])]})"
      ]
     },
     "execution_count": 38,
     "metadata": {},
     "output_type": "execute_result"
    }
   ],
   "source": [
    "regression_data['China']['bootstrap_predictions']"
   ]
  },
  {
   "cell_type": "code",
   "execution_count": 39,
   "metadata": {},
   "outputs": [],
   "source": [
    "def calculate_confidence_intervals(bootstrap_preds, percentile=90):\n",
    "    lower_percentile = (100 - percentile) / 2\n",
    "    upper_percentile = 100 - lower_percentile\n",
    "    ci = {}\n",
    "    for model, preds in bootstrap_preds.items():\n",
    "        preds_array = np.array(preds)  # Shape: (bootstrap_samples, n_dates)\n",
    "        lower = np.percentile(preds_array, lower_percentile, axis=0)\n",
    "        upper = np.percentile(preds_array, upper_percentile, axis=0)\n",
    "        ci[model] = {'lower': lower, 'upper': upper}\n",
    "    return ci"
   ]
  },
  {
   "cell_type": "code",
   "execution_count": 40,
   "metadata": {},
   "outputs": [
    {
     "data": {
      "text/plain": [
       "{'Simple': {'lower': array([17.62591311, 17.72540789, 17.82821917, 17.92771395, 18.03052523,\n",
       "         18.13333651, 18.2261983 , 18.32900958, 18.42850436, 18.53131564,\n",
       "         18.63081042, 18.7336217 , 18.83643298, 18.93592776, 19.03873903,\n",
       "         19.13823382, 19.24104509, 19.34385637, 19.44003466, 19.54284594,\n",
       "         19.64234072, 19.745152  , 19.84464678, 19.94745806, 20.05026933,\n",
       "         20.14976412, 20.25257539, 20.35207018, 20.45488145, 20.55769273,\n",
       "         20.65055453, 20.7533658 , 20.85286059, 20.95567186, 21.05516665,\n",
       "         21.15797792, 21.2607892 , 21.36028398, 21.46309526, 21.56259004,\n",
       "         21.66540132, 21.7682126 , 21.86107439, 21.96388567, 22.06338045,\n",
       "         22.16619173, 22.26568651, 22.36849779, 22.47130907, 22.57080385,\n",
       "         22.67361513, 22.77310991, 22.87592119, 22.97873246, 23.07159426,\n",
       "         23.17440554, 23.27390032, 23.3767116 , 23.47620638, 23.57901766,\n",
       "         23.68182893, 23.78132372, 23.88413499, 23.98362977, 24.08644105,\n",
       "         24.18925233, 24.28543062, 24.38824189, 24.48773668, 24.59054795,\n",
       "         24.69004274, 24.79285401, 24.89566529, 24.99516007, 25.09797135,\n",
       "         25.19746613]),\n",
       "  'upper': array([17.62591311, 17.72540789, 17.82821917, 17.92771395, 18.03052523,\n",
       "         18.13333651, 18.2261983 , 18.32900958, 18.42850436, 18.53131564,\n",
       "         18.63081042, 18.7336217 , 18.83643298, 18.93592776, 19.03873903,\n",
       "         19.13823382, 19.24104509, 19.34385637, 19.44003466, 19.54284594,\n",
       "         19.64234072, 19.745152  , 19.84464678, 19.94745806, 20.05026933,\n",
       "         20.14976412, 20.25257539, 20.35207018, 20.45488145, 20.55769273,\n",
       "         20.65055453, 20.7533658 , 20.85286059, 20.95567186, 21.05516665,\n",
       "         21.15797792, 21.2607892 , 21.36028398, 21.46309526, 21.56259004,\n",
       "         21.66540132, 21.7682126 , 21.86107439, 21.96388567, 22.06338045,\n",
       "         22.16619173, 22.26568651, 22.36849779, 22.47130907, 22.57080385,\n",
       "         22.67361513, 22.77310991, 22.87592119, 22.97873246, 23.07159426,\n",
       "         23.17440554, 23.27390032, 23.3767116 , 23.47620638, 23.57901766,\n",
       "         23.68182893, 23.78132372, 23.88413499, 23.98362977, 24.08644105,\n",
       "         24.18925233, 24.28543062, 24.38824189, 24.48773668, 24.59054795,\n",
       "         24.69004274, 24.79285401, 24.89566529, 24.99516007, 25.09797135,\n",
       "         25.19746613])},\n",
       " 'One kink': {'lower': array([14.13856506, 14.37751403, 14.62442795, 14.86337691, 15.11029084,\n",
       "         15.35720477, 15.5802238 , 15.82713772, 16.06608668, 16.31300061,\n",
       "         16.55194957, 16.7988635 , 17.04577743, 17.28472639, 17.53164031,\n",
       "         17.77058927, 18.0175032 , 18.26441713, 18.49540112, 18.74231505,\n",
       "         18.98126401, 19.22817794, 19.4671269 , 19.71404083, 19.96095475,\n",
       "         20.19990371, 20.44681764, 20.6857666 , 20.93268053, 21.17959445,\n",
       "         21.40261349, 21.64952741, 21.88847637, 22.1353903 , 22.37433926,\n",
       "         22.62125319, 22.86816711, 22.90773721, 22.9486263 , 22.9881964 ,\n",
       "         23.02908549, 23.06997459, 23.10690668, 23.14779577, 23.18736587,\n",
       "         23.22825496, 23.26782506, 23.30871415, 23.34960325, 23.38917334,\n",
       "         23.43006244, 23.46963253, 23.51052163, 23.55141072, 23.58834281,\n",
       "         23.62923191, 23.668802  , 23.7096911 , 23.74926119, 23.79015029,\n",
       "         23.83103938, 23.87060948, 23.91149857, 23.95106867, 23.99195776,\n",
       "         24.03284686, 24.07109795, 24.11198704, 24.15155714, 24.19244623,\n",
       "         24.23201633, 24.27290542, 24.31379452, 24.35336461, 24.39425371,\n",
       "         24.4338238 ]),\n",
       "  'upper': array([14.13856506, 14.37751403, 14.62442795, 14.86337691, 15.11029084,\n",
       "         15.35720477, 15.5802238 , 15.82713772, 16.06608668, 16.31300061,\n",
       "         16.55194957, 16.7988635 , 17.04577743, 17.28472639, 17.53164031,\n",
       "         17.77058927, 18.0175032 , 18.26441713, 18.49540112, 18.74231505,\n",
       "         18.98126401, 19.22817794, 19.4671269 , 19.71404083, 19.96095475,\n",
       "         20.19990371, 20.44681764, 20.6857666 , 20.93268053, 21.17959445,\n",
       "         21.40261349, 21.64952741, 21.88847637, 22.1353903 , 22.37433926,\n",
       "         22.62125319, 22.86816711, 22.90773721, 22.9486263 , 22.9881964 ,\n",
       "         23.02908549, 23.06997459, 23.10690668, 23.14779577, 23.18736587,\n",
       "         23.22825496, 23.26782506, 23.30871415, 23.34960325, 23.38917334,\n",
       "         23.43006244, 23.46963253, 23.51052163, 23.55141072, 23.58834281,\n",
       "         23.62923191, 23.668802  , 23.7096911 , 23.74926119, 23.79015029,\n",
       "         23.83103938, 23.87060948, 23.91149857, 23.95106867, 23.99195776,\n",
       "         24.03284686, 24.07109795, 24.11198704, 24.15155714, 24.19244623,\n",
       "         24.23201633, 24.27290542, 24.31379452, 24.35336461, 24.39425371,\n",
       "         24.4338238 ])},\n",
       " 'Discontinuity': {'lower': array([14.51306984, 14.73097652, 14.95614676, 15.17405344, 15.39922367,\n",
       "         15.62439391, 15.82777348, 16.05294372, 16.2708504 , 16.49602063,\n",
       "         16.71392731, 16.93909755, 17.16426779, 17.38217447, 17.6073447 ,\n",
       "         17.82525139, 18.05042162, 18.27559186, 18.48623498, 18.71140522,\n",
       "         18.9293119 , 19.15448214, 19.37238882, 19.59755905, 19.82272929,\n",
       "         20.04063597, 20.26580621, 20.48371289, 20.70888313, 20.93405336,\n",
       "         21.13743293, 22.55733792, 22.60005168, 22.64418924, 22.686903  ,\n",
       "         22.73104056, 22.77517812, 22.81789188, 22.86202944, 22.90474321,\n",
       "         22.94888076, 22.99301832, 23.0328845 , 23.07702206, 23.11973582,\n",
       "         23.16387338, 23.20658715, 23.2507247 , 23.29486226, 23.33757603,\n",
       "         23.38171358, 23.42442735, 23.46856491, 23.51270246, 23.55256865,\n",
       "         23.5967062 , 23.63941997, 23.68355753, 23.72627129, 23.77040885,\n",
       "         23.81454641, 23.85726017, 23.90139773, 23.94411149, 23.98824905,\n",
       "         24.03238661, 24.07367658, 24.11781414, 24.1605279 , 24.20466546,\n",
       "         24.24737923, 24.29151678, 24.33565434, 24.37836811, 24.42250566,\n",
       "         24.46521943]),\n",
       "  'upper': array([14.51306984, 14.73097652, 14.95614676, 15.17405344, 15.39922367,\n",
       "         15.62439391, 15.82777348, 16.05294372, 16.2708504 , 16.49602063,\n",
       "         16.71392731, 16.93909755, 17.16426779, 17.38217447, 17.6073447 ,\n",
       "         17.82525139, 18.05042162, 18.27559186, 18.48623498, 18.71140522,\n",
       "         18.9293119 , 19.15448214, 19.37238882, 19.59755905, 19.82272929,\n",
       "         20.04063597, 20.26580621, 20.48371289, 20.70888313, 20.93405336,\n",
       "         21.13743293, 22.55733792, 22.60005168, 22.64418924, 22.686903  ,\n",
       "         22.73104056, 22.77517812, 22.81789188, 22.86202944, 22.90474321,\n",
       "         22.94888076, 22.99301832, 23.0328845 , 23.07702206, 23.11973582,\n",
       "         23.16387338, 23.20658715, 23.2507247 , 23.29486226, 23.33757603,\n",
       "         23.38171358, 23.42442735, 23.46856491, 23.51270246, 23.55256865,\n",
       "         23.5967062 , 23.63941997, 23.68355753, 23.72627129, 23.77040885,\n",
       "         23.81454641, 23.85726017, 23.90139773, 23.94411149, 23.98824905,\n",
       "         24.03238661, 24.07367658, 24.11781414, 24.1605279 , 24.20466546,\n",
       "         24.24737923, 24.29151678, 24.33565434, 24.37836811, 24.42250566,\n",
       "         24.46521943])}}"
      ]
     },
     "execution_count": 40,
     "metadata": {},
     "output_type": "execute_result"
    }
   ],
   "source": [
    "# Calculate 90% Confidence Intervals\n",
    "confidence_intervals = calculate_confidence_intervals(regression_data['China']['bootstrap_predictions'], percentile=90)\n",
    "confidence_intervals"
   ]
  },
  {
   "cell_type": "code",
   "execution_count": 51,
   "metadata": {},
   "outputs": [
    {
     "name": "stdout",
     "output_type": "stream",
     "text": [
      "Non-China\n",
      "BIC score: 70.92834709845775\n",
      "China\n",
      "BIC score: 133.06409979988965\n",
      "This fit is preferred over a simple exponential by a BIC score difference of 42.039603834285714\n"
     ]
    },
    {
     "data": {
      "application/vnd.plotly.v1+json": {
       "config": {
        "plotlyServerURL": "https://plot.ly"
       },
       "data": [
        {
         "marker": {
          "color": "blue",
          "opacity": 0.1,
          "size": 10
         },
         "mode": "markers",
         "name": "Not developed in China",
         "text": [
          "Big Transformer for Back-Translation",
          "GPT-2 (1.5B)",
          "Grover-Mega",
          "XLNet",
          "RoBERTa Large",
          "Megatron-LM (8.3B)",
          "Megatron-BERT",
          "T5-11B",
          "T5-3B",
          "XLM-RoBERTa",
          "Meena",
          "Turing-NLG",
          "GPT-3 175B (davinci)",
          "GPT-3 13B",
          "GShard (dense)",
          "mT5-XXL",
          "Switch",
          "ByT5-XXL",
          "Jurassic-1-Jumbo",
          "HyperCLOVA 82B",
          "Megatron-Turing NLG 530B",
          "Gopher (280B)",
          "GLaM",
          "EXAONE 1.0",
          "AlphaCode",
          "GPT-NeoX-20B",
          "LaMDA",
          "ST-MoE",
          "Chinchilla",
          "PaLM (540B)",
          "OPT-175B",
          "BIG-G 137B",
          "BLOOM-176B",
          "GPT-3.5",
          "LLaMA-65B",
          "GPT-4",
          "PaLM 2",
          "Inflection-1",
          "Claude 2",
          "Llama 2-70B",
          "Falcon-180B",
          "Amazon Titan",
          "Mi:dm 200B",
          "Grok-1",
          "GPT-4 Turbo",
          "Inflection-2",
          "Gemini 1.0 Ultra",
          "Gemini 1.5 Pro",
          "Mistral Large",
          "Claude 3 Opus",
          "Aramco Metabrain AI",
          "Claude 3 Sonnet",
          "Inflection-2.5",
          "Reka Core",
          "GPT-4o",
          "Nemotron-4 340B",
          "Claude 3.5 Sonnet",
          "Llama 3.1-405B",
          "Mistral Large 2",
          "Grok-2"
         ],
         "type": "scatter",
         "x": [
          "2018-08-28T00:00:00",
          "2019-02-14T00:00:00",
          "2019-05-29T00:00:00",
          "2019-06-01T00:00:00",
          "2019-07-01T00:00:00",
          "2019-09-17T00:00:00",
          "2019-09-17T00:00:00",
          "2019-10-23T00:00:00",
          "2019-10-23T00:00:00",
          "2019-11-05T00:00:00",
          "2020-01-28T00:00:00",
          "2020-02-13T00:00:00",
          "2020-05-28T00:00:00",
          "2020-06-22T00:00:00",
          "2020-06-30T00:00:00",
          "2020-10-20T00:00:00",
          "2021-01-11T00:00:00",
          "2021-05-28T00:00:00",
          "2021-08-11T00:00:00",
          "2021-09-10T00:00:00",
          "2021-10-11T00:00:00",
          "2021-12-08T00:00:00",
          "2021-12-13T00:00:00",
          "2021-12-14T00:00:00",
          "2022-02-02T00:00:00",
          "2022-02-09T00:00:00",
          "2022-02-10T00:00:00",
          "2022-02-17T00:00:00",
          "2022-03-29T00:00:00",
          "2022-04-04T00:00:00",
          "2022-05-02T00:00:00",
          "2022-06-09T00:00:00",
          "2022-07-11T00:00:00",
          "2022-11-28T00:00:00",
          "2023-02-24T00:00:00",
          "2023-03-15T00:00:00",
          "2023-05-10T00:00:00",
          "2023-06-23T00:00:00",
          "2023-07-11T00:00:00",
          "2023-07-18T00:00:00",
          "2023-09-06T00:00:00",
          "2023-09-28T00:00:00",
          "2023-10-31T00:00:00",
          "2023-11-04T00:00:00",
          "2023-11-06T00:00:00",
          "2023-11-22T00:00:00",
          "2023-12-06T00:00:00",
          "2024-02-15T00:00:00",
          "2024-02-26T00:00:00",
          "2024-03-04T00:00:00",
          "2024-03-04T00:00:00",
          "2024-03-04T00:00:00",
          "2024-03-07T00:00:00",
          "2024-04-15T00:00:00",
          "2024-05-13T00:00:00",
          "2024-06-14T00:00:00",
          "2024-06-20T00:00:00",
          "2024-07-23T00:00:00",
          "2024-07-24T00:00:00",
          "2024-08-13T00:00:00"
         ],
         "y": [
          20.679500575799285,
          21.283301228703777,
          21.75587485567249,
          21.79169064902012,
          21.929761117107013,
          21.959041392321094,
          22.342422680822207,
          22.518513939877888,
          21.95424250944415,
          22.31722734917642,
          23.049218022670182,
          22.195899652409235,
          23.496929648073216,
          22.363611979892145,
          22.678062904974347,
          22.913813852383715,
          22.91487181754005,
          22.90848501887865,
          23.568201724066995,
          23.16908635748702,
          24.068185861746162,
          23.800029359244135,
          23.560661048781533,
          24.03360467383237,
          23.214695527046413,
          22.96924207030419,
          23.550228353055093,
          23.462397997898957,
          23.760422483423213,
          24.402639612897094,
          23.633468455579585,
          23.7481880270062,
          23.563082205700514,
          24.411282913017384,
          23.740362689494244,
          25.32221929473392,
          24.865696059916072,
          24.000043427276864,
          24.636487896353366,
          23.90848501887865,
          24.57518784492766,
          24.681241237375588,
          24.079181246047625,
          24.462397997900453,
          25.32221929473392,
          25.00043407747932,
          25.698970004344705,
          25.204119982655925,
          25.049218022670182,
          25.20139712432045,
          25.02118929906994,
          24.741151598851786,
          25.000043427276864,
          24.924279803078814,
          25.599883072073688,
          25.255272505103306,
          25.67394199863409,
          25.57978359661681,
          25.30319605742049,
          25.724275951543138
         ]
        },
        {
         "marker": {
          "color": "red",
          "opacity": 0.1,
          "size": 10
         },
         "mode": "markers",
         "name": "Developed in China",
         "text": [
          "Tensorized Transformer (257M)",
          "R-Transformer",
          "LSTM(large)+Sememe+cell",
          "MMLSTM",
          "TransformerXL + spectrum control",
          "Segatron XL large, M=384",
          "NAS+ESS (156M)",
          "ERNIE-GEN (large)",
          "Memformer (4 encoder + 16 decoder)",
          "KEPLER",
          "CPM-Large",
          "ERNIE-Doc (247M)",
          "Wu Dao - Wen Yuan",
          "Wu Dao - Wen Lan",
          "Wu Dao - Wen Hui",
          "M6-T",
          "GLM-10B",
          "PLUG",
          "PanGu-α",
          "CPM-2",
          "ERNIE 3.0",
          "Yuan 1.0",
          "ERNIE 3.0 Titan",
          "CodeGeeX",
          "GLM-130B",
          "PanGu-Σ",
          "JIANG",
          "Baichuan2-13B",
          "Hunyuan",
          "FLM-101B",
          "Qwen-7B",
          "Qwen-14B",
          "CodeFuse-13B",
          "Skywork-13B",
          "Nanbeige-16B",
          "BlueLM 70B",
          "Yi-34B",
          "BlueLM 130B",
          "BlueLM 175B",
          "Qwen-72B",
          "XVERSE-65B-2",
          "DeepSeek LLM 67B",
          "GLM-4 (0116)",
          "Qwen1.5-72B",
          "MegaScale (530B)",
          "MegaScale (Production)",
          "DeepSeek-V2 (MoE-236B)",
          "Yi-Large",
          "Doubao-pro",
          "Qwen2-72B",
          "DeepSeek-V2.5",
          "Qwen2.5-72B",
          "Telechat2-115B",
          "Yi-Lightning",
          "Hunyuan-Large",
          "DeepSeek-V3"
         ],
         "type": "scatter",
         "x": [
          "2019-06-24T00:00:00",
          "2019-07-12T00:00:00",
          "2019-10-20T00:00:00",
          "2019-12-05T00:00:00",
          "2020-03-11T00:00:00",
          "2020-04-30T00:00:00",
          "2020-05-06T00:00:00",
          "2020-08-06T00:00:00",
          "2020-10-14T00:00:00",
          "2020-11-23T00:00:00",
          "2020-12-01T00:00:00",
          "2020-12-31T00:00:00",
          "2021-01-11T00:00:00",
          "2021-03-01T00:00:00",
          "2021-03-01T00:00:00",
          "2021-03-05T00:00:00",
          "2021-03-18T00:00:00",
          "2021-04-19T00:00:00",
          "2021-04-25T00:00:00",
          "2021-06-24T00:00:00",
          "2021-07-05T00:00:00",
          "2021-10-12T00:00:00",
          "2021-12-23T00:00:00",
          "2022-06-22T00:00:00",
          "2022-08-04T00:00:00",
          "2023-03-20T00:00:00",
          "2023-08-01T00:00:00",
          "2023-09-06T00:00:00",
          "2023-09-07T00:00:00",
          "2023-09-07T00:00:00",
          "2023-09-28T00:00:00",
          "2023-09-28T00:00:00",
          "2023-10-10T00:00:00",
          "2023-10-30T00:00:00",
          "2023-11-01T00:00:00",
          "2023-11-02T00:00:00",
          "2023-11-02T00:00:00",
          "2023-11-02T00:00:00",
          "2023-11-02T00:00:00",
          "2023-11-30T00:00:00",
          "2023-12-08T00:00:00",
          "2024-01-05T00:00:00",
          "2024-01-17T00:00:00",
          "2024-02-04T00:00:00",
          "2024-02-23T00:00:00",
          "2024-02-23T00:00:00",
          "2024-05-07T00:00:00",
          "2024-05-13T00:00:00",
          "2024-05-15T00:00:00",
          "2024-06-07T00:00:00",
          "2024-09-06T00:00:00",
          "2024-09-19T00:00:00",
          "2024-09-20T00:00:00",
          "2024-10-18T00:00:00",
          "2024-11-06T00:00:00",
          "2024-12-24T00:00:00"
         ],
         "y": [
          18.67760695272049,
          15.924279286061882,
          16.380211241711606,
          18.3654879848909,
          17.662757831681574,
          19.423245873936807,
          18.460897842756548,
          20.30102999566398,
          19.079181246047625,
          20.093421685162234,
          21.255272505103306,
          19.463892988985908,
          20.813101038202902,
          21.857304700694954,
          20.0649130111967,
          21.740362689494244,
          22.578639209968074,
          22.556274705030972,
          22.708590845150344,
          22.55630250076741,
          22.352182518111363,
          23.548757828573716,
          24.017909395896687,
          22.82151352840484,
          23.550106671714225,
          23.66931688056611,
          22.60530504614111,
          23.307496037913214,
          24.079181246047625,
          22.757396028793025,
          23.00432137378264,
          23.397940008672037,
          23.489958479424836,
          23.397940008672037,
          23.380211241711606,
          23.6232492903979,
          23.785329835010767,
          23.89209460269048,
          24.02118929906994,
          24.113943352306837,
          24.09621458534641,
          23.905256048748452,
          25.079181246047625,
          24.113943352306837,
          23.986368593570276,
          24.5910646070265,
          24.008600171761916,
          24.255272505103306,
          25.398807730203263,
          24.48000694295715,
          24.25265888950062,
          24.89209460269048,
          24.838849090737256,
          24.17609125905568,
          24.543120248906924,
          24.516614689845596
         ]
        },
        {
         "line": {
          "color": "blue",
          "width": 1
         },
         "mode": "lines",
         "name": "Non-China best fit line",
         "showlegend": false,
         "type": "scatter",
         "x": [
          "2018-09-01T00:00:00",
          "2018-10-01T00:00:00",
          "2018-11-01T00:00:00",
          "2018-12-01T00:00:00",
          "2019-01-01T00:00:00",
          "2019-02-01T00:00:00",
          "2019-03-01T00:00:00",
          "2019-04-01T00:00:00",
          "2019-05-01T00:00:00",
          "2019-06-01T00:00:00",
          "2019-07-01T00:00:00",
          "2019-08-01T00:00:00",
          "2019-09-01T00:00:00",
          "2019-10-01T00:00:00",
          "2019-11-01T00:00:00",
          "2019-12-01T00:00:00",
          "2020-01-01T00:00:00",
          "2020-02-01T00:00:00",
          "2020-03-01T00:00:00",
          "2020-04-01T00:00:00",
          "2020-05-01T00:00:00",
          "2020-06-01T00:00:00",
          "2020-07-01T00:00:00",
          "2020-08-01T00:00:00",
          "2020-09-01T00:00:00",
          "2020-10-01T00:00:00",
          "2020-11-01T00:00:00",
          "2020-12-01T00:00:00",
          "2021-01-01T00:00:00",
          "2021-02-01T00:00:00",
          "2021-03-01T00:00:00",
          "2021-04-01T00:00:00",
          "2021-05-01T00:00:00",
          "2021-06-01T00:00:00",
          "2021-07-01T00:00:00",
          "2021-08-01T00:00:00",
          "2021-09-01T00:00:00",
          "2021-10-01T00:00:00",
          "2021-11-01T00:00:00",
          "2021-12-01T00:00:00",
          "2022-01-01T00:00:00",
          "2022-02-01T00:00:00",
          "2022-03-01T00:00:00",
          "2022-04-01T00:00:00",
          "2022-05-01T00:00:00",
          "2022-06-01T00:00:00",
          "2022-07-01T00:00:00",
          "2022-08-01T00:00:00",
          "2022-09-01T00:00:00",
          "2022-10-01T00:00:00",
          "2022-11-01T00:00:00",
          "2022-12-01T00:00:00",
          "2023-01-01T00:00:00",
          "2023-02-01T00:00:00",
          "2023-03-01T00:00:00",
          "2023-04-01T00:00:00",
          "2023-05-01T00:00:00",
          "2023-06-01T00:00:00",
          "2023-07-01T00:00:00",
          "2023-08-01T00:00:00",
          "2023-09-01T00:00:00",
          "2023-10-01T00:00:00",
          "2023-11-01T00:00:00",
          "2023-12-01T00:00:00",
          "2024-01-01T00:00:00",
          "2024-02-01T00:00:00",
          "2024-03-01T00:00:00",
          "2024-04-01T00:00:00",
          "2024-05-01T00:00:00",
          "2024-06-01T00:00:00",
          "2024-07-01T00:00:00",
          "2024-08-01T00:00:00",
          "2024-09-01T00:00:00",
          "2024-10-01T00:00:00",
          "2024-11-01T00:00:00",
          "2024-12-01T00:00:00"
         ],
         "y": [
          21.35019287405811,
          21.40600454581352,
          21.463676606627445,
          21.51948827838286,
          21.577160339196784,
          21.63483240001071,
          21.686923293649095,
          21.74459535446302,
          21.800407026218434,
          21.85807908703236,
          21.91389075878777,
          21.971562819601697,
          22.029234880415622,
          22.085046552171033,
          22.14271861298496,
          22.19853028474037,
          22.256202345554296,
          22.313874406368225,
          22.36782568906512,
          22.425497749879046,
          22.48130942163446,
          22.538981482448385,
          22.5947931542038,
          22.652465215017724,
          22.71013727583165,
          22.765948947587063,
          22.823621008400988,
          22.8794326801564,
          22.937104740970327,
          22.99477680178425,
          23.046867695422634,
          23.104539756236562,
          23.160351427991973,
          23.218023488805898,
          23.273835160561312,
          23.331507221375237,
          23.38917928218916,
          23.444990953944576,
          23.5026630147585,
          23.55847468651391,
          23.61614674732784,
          23.673818808141764,
          23.72590970178015,
          23.783581762594075,
          23.839393434349486,
          23.897065495163414,
          23.952877166918825,
          24.01054922773275,
          24.068221288546678,
          24.124032960302088,
          24.181705021116013,
          24.237516692871427,
          24.295188753685352,
          24.352860814499277,
          24.404951708137663,
          24.462623768951588,
          24.518435440707,
          24.576107501520926,
          24.631919173276337,
          24.689591234090265,
          24.74726329490419,
          24.8030749666596,
          24.86074702747353,
          24.91655869922894,
          24.974230760042865,
          25.031902820856793,
          25.08585410355369,
          25.143526164367614,
          25.19933783612303,
          25.257009896936953,
          25.312821568692364,
          25.370493629506292,
          25.428165690320217,
          25.483977362075628,
          25.541649422889556,
          25.597461094644967
         ]
        },
        {
         "line": {
          "color": "blue",
          "width": 0
         },
         "mode": "lines",
         "showlegend": false,
         "type": "scatter",
         "x": [
          "2018-09-01T00:00:00",
          "2018-10-01T00:00:00",
          "2018-11-01T00:00:00",
          "2018-12-01T00:00:00",
          "2019-01-01T00:00:00",
          "2019-02-01T00:00:00",
          "2019-03-01T00:00:00",
          "2019-04-01T00:00:00",
          "2019-05-01T00:00:00",
          "2019-06-01T00:00:00",
          "2019-07-01T00:00:00",
          "2019-08-01T00:00:00",
          "2019-09-01T00:00:00",
          "2019-10-01T00:00:00",
          "2019-11-01T00:00:00",
          "2019-12-01T00:00:00",
          "2020-01-01T00:00:00",
          "2020-02-01T00:00:00",
          "2020-03-01T00:00:00",
          "2020-04-01T00:00:00",
          "2020-05-01T00:00:00",
          "2020-06-01T00:00:00",
          "2020-07-01T00:00:00",
          "2020-08-01T00:00:00",
          "2020-09-01T00:00:00",
          "2020-10-01T00:00:00",
          "2020-11-01T00:00:00",
          "2020-12-01T00:00:00",
          "2021-01-01T00:00:00",
          "2021-02-01T00:00:00",
          "2021-03-01T00:00:00",
          "2021-04-01T00:00:00",
          "2021-05-01T00:00:00",
          "2021-06-01T00:00:00",
          "2021-07-01T00:00:00",
          "2021-08-01T00:00:00",
          "2021-09-01T00:00:00",
          "2021-10-01T00:00:00",
          "2021-11-01T00:00:00",
          "2021-12-01T00:00:00",
          "2022-01-01T00:00:00",
          "2022-02-01T00:00:00",
          "2022-03-01T00:00:00",
          "2022-04-01T00:00:00",
          "2022-05-01T00:00:00",
          "2022-06-01T00:00:00",
          "2022-07-01T00:00:00",
          "2022-08-01T00:00:00",
          "2022-09-01T00:00:00",
          "2022-10-01T00:00:00",
          "2022-11-01T00:00:00",
          "2022-12-01T00:00:00",
          "2023-01-01T00:00:00",
          "2023-02-01T00:00:00",
          "2023-03-01T00:00:00",
          "2023-04-01T00:00:00",
          "2023-05-01T00:00:00",
          "2023-06-01T00:00:00",
          "2023-07-01T00:00:00",
          "2023-08-01T00:00:00",
          "2023-09-01T00:00:00",
          "2023-10-01T00:00:00",
          "2023-11-01T00:00:00",
          "2023-12-01T00:00:00",
          "2024-01-01T00:00:00",
          "2024-02-01T00:00:00",
          "2024-03-01T00:00:00",
          "2024-04-01T00:00:00",
          "2024-05-01T00:00:00",
          "2024-06-01T00:00:00",
          "2024-07-01T00:00:00",
          "2024-08-01T00:00:00",
          "2024-09-01T00:00:00",
          "2024-10-01T00:00:00",
          "2024-11-01T00:00:00",
          "2024-12-01T00:00:00"
         ],
         "y": [
          21.35019287405811,
          21.40600454581352,
          21.463676606627445,
          21.51948827838286,
          21.577160339196784,
          21.63483240001071,
          21.686923293649095,
          21.74459535446302,
          21.800407026218434,
          21.85807908703236,
          21.91389075878777,
          21.971562819601697,
          22.029234880415622,
          22.085046552171033,
          22.14271861298496,
          22.19853028474037,
          22.256202345554296,
          22.313874406368225,
          22.36782568906512,
          22.425497749879046,
          22.48130942163446,
          22.538981482448385,
          22.5947931542038,
          22.652465215017724,
          22.71013727583165,
          22.765948947587063,
          22.823621008400988,
          22.8794326801564,
          22.937104740970327,
          22.99477680178425,
          23.046867695422634,
          23.104539756236562,
          23.160351427991973,
          23.218023488805898,
          23.273835160561312,
          23.331507221375237,
          23.38917928218916,
          23.444990953944576,
          23.5026630147585,
          23.55847468651391,
          23.61614674732784,
          23.673818808141764,
          23.72590970178015,
          23.783581762594075,
          23.839393434349486,
          23.897065495163414,
          23.952877166918825,
          24.01054922773275,
          24.068221288546678,
          24.124032960302088,
          24.181705021116013,
          24.237516692871427,
          24.295188753685352,
          24.352860814499277,
          24.404951708137663,
          24.462623768951588,
          24.518435440707,
          24.576107501520926,
          24.631919173276337,
          24.689591234090265,
          24.74726329490419,
          24.8030749666596,
          24.86074702747353,
          24.91655869922894,
          24.974230760042865,
          25.031902820856793,
          25.08585410355369,
          25.143526164367614,
          25.19933783612303,
          25.257009896936953,
          25.312821568692364,
          25.370493629506292,
          25.428165690320217,
          25.483977362075628,
          25.541649422889556,
          25.597461094644967
         ]
        },
        {
         "fill": "tonexty",
         "fillcolor": "rgba(0,0,255,0.1)",
         "line": {
          "color": "blue",
          "width": 0
         },
         "mode": "lines",
         "name": "Non-China 90% CI",
         "showlegend": false,
         "type": "scatter",
         "x": [
          "2018-09-01T00:00:00",
          "2018-10-01T00:00:00",
          "2018-11-01T00:00:00",
          "2018-12-01T00:00:00",
          "2019-01-01T00:00:00",
          "2019-02-01T00:00:00",
          "2019-03-01T00:00:00",
          "2019-04-01T00:00:00",
          "2019-05-01T00:00:00",
          "2019-06-01T00:00:00",
          "2019-07-01T00:00:00",
          "2019-08-01T00:00:00",
          "2019-09-01T00:00:00",
          "2019-10-01T00:00:00",
          "2019-11-01T00:00:00",
          "2019-12-01T00:00:00",
          "2020-01-01T00:00:00",
          "2020-02-01T00:00:00",
          "2020-03-01T00:00:00",
          "2020-04-01T00:00:00",
          "2020-05-01T00:00:00",
          "2020-06-01T00:00:00",
          "2020-07-01T00:00:00",
          "2020-08-01T00:00:00",
          "2020-09-01T00:00:00",
          "2020-10-01T00:00:00",
          "2020-11-01T00:00:00",
          "2020-12-01T00:00:00",
          "2021-01-01T00:00:00",
          "2021-02-01T00:00:00",
          "2021-03-01T00:00:00",
          "2021-04-01T00:00:00",
          "2021-05-01T00:00:00",
          "2021-06-01T00:00:00",
          "2021-07-01T00:00:00",
          "2021-08-01T00:00:00",
          "2021-09-01T00:00:00",
          "2021-10-01T00:00:00",
          "2021-11-01T00:00:00",
          "2021-12-01T00:00:00",
          "2022-01-01T00:00:00",
          "2022-02-01T00:00:00",
          "2022-03-01T00:00:00",
          "2022-04-01T00:00:00",
          "2022-05-01T00:00:00",
          "2022-06-01T00:00:00",
          "2022-07-01T00:00:00",
          "2022-08-01T00:00:00",
          "2022-09-01T00:00:00",
          "2022-10-01T00:00:00",
          "2022-11-01T00:00:00",
          "2022-12-01T00:00:00",
          "2023-01-01T00:00:00",
          "2023-02-01T00:00:00",
          "2023-03-01T00:00:00",
          "2023-04-01T00:00:00",
          "2023-05-01T00:00:00",
          "2023-06-01T00:00:00",
          "2023-07-01T00:00:00",
          "2023-08-01T00:00:00",
          "2023-09-01T00:00:00",
          "2023-10-01T00:00:00",
          "2023-11-01T00:00:00",
          "2023-12-01T00:00:00",
          "2024-01-01T00:00:00",
          "2024-02-01T00:00:00",
          "2024-03-01T00:00:00",
          "2024-04-01T00:00:00",
          "2024-05-01T00:00:00",
          "2024-06-01T00:00:00",
          "2024-07-01T00:00:00",
          "2024-08-01T00:00:00",
          "2024-09-01T00:00:00",
          "2024-10-01T00:00:00",
          "2024-11-01T00:00:00",
          "2024-12-01T00:00:00"
         ],
         "y": [
          21.35019287405811,
          21.40600454581352,
          21.463676606627445,
          21.51948827838286,
          21.577160339196784,
          21.63483240001071,
          21.686923293649095,
          21.74459535446302,
          21.800407026218434,
          21.85807908703236,
          21.91389075878777,
          21.971562819601697,
          22.029234880415622,
          22.085046552171033,
          22.14271861298496,
          22.19853028474037,
          22.256202345554296,
          22.313874406368225,
          22.36782568906512,
          22.425497749879046,
          22.48130942163446,
          22.538981482448385,
          22.5947931542038,
          22.652465215017724,
          22.71013727583165,
          22.765948947587063,
          22.823621008400988,
          22.8794326801564,
          22.937104740970327,
          22.99477680178425,
          23.046867695422634,
          23.104539756236562,
          23.160351427991973,
          23.218023488805898,
          23.273835160561312,
          23.331507221375237,
          23.38917928218916,
          23.444990953944576,
          23.5026630147585,
          23.55847468651391,
          23.61614674732784,
          23.673818808141764,
          23.72590970178015,
          23.783581762594075,
          23.839393434349486,
          23.897065495163414,
          23.952877166918825,
          24.01054922773275,
          24.068221288546678,
          24.124032960302088,
          24.181705021116013,
          24.237516692871427,
          24.295188753685352,
          24.352860814499277,
          24.404951708137663,
          24.462623768951588,
          24.518435440707,
          24.576107501520926,
          24.631919173276337,
          24.689591234090265,
          24.74726329490419,
          24.8030749666596,
          24.86074702747353,
          24.91655869922894,
          24.974230760042865,
          25.031902820856793,
          25.08585410355369,
          25.143526164367614,
          25.19933783612303,
          25.257009896936953,
          25.312821568692364,
          25.370493629506292,
          25.428165690320217,
          25.483977362075628,
          25.541649422889556,
          25.597461094644967
         ]
        },
        {
         "line": {
          "color": "red",
          "width": 1
         },
         "mode": "lines",
         "name": "China best fit line",
         "showlegend": false,
         "type": "scatter",
         "x": [
          "2019-07-01T00:00:00",
          "2019-08-01T00:00:00",
          "2019-09-01T00:00:00",
          "2019-10-01T00:00:00",
          "2019-11-01T00:00:00",
          "2019-12-01T00:00:00",
          "2020-01-01T00:00:00",
          "2020-02-01T00:00:00",
          "2020-03-01T00:00:00",
          "2020-04-01T00:00:00",
          "2020-05-01T00:00:00",
          "2020-06-01T00:00:00",
          "2020-07-01T00:00:00",
          "2020-08-01T00:00:00",
          "2020-09-01T00:00:00",
          "2020-10-01T00:00:00",
          "2020-11-01T00:00:00",
          "2020-12-01T00:00:00",
          "2021-01-01T00:00:00",
          "2021-02-01T00:00:00",
          "2021-03-01T00:00:00",
          "2021-04-01T00:00:00",
          "2021-05-01T00:00:00",
          "2021-06-01T00:00:00",
          "2021-07-01T00:00:00",
          "2021-08-01T00:00:00",
          "2021-09-01T00:00:00",
          "2021-10-01T00:00:00",
          "2021-11-01T00:00:00",
          "2021-12-01T00:00:00",
          "2022-01-01T00:00:00",
          "2022-02-01T00:00:00",
          "2022-03-01T00:00:00",
          "2022-04-01T00:00:00",
          "2022-05-01T00:00:00",
          "2022-06-01T00:00:00",
          "2022-07-01T00:00:00",
          "2022-08-01T00:00:00",
          "2022-09-01T00:00:00",
          "2022-10-01T00:00:00",
          "2022-11-01T00:00:00",
          "2022-12-01T00:00:00",
          "2023-01-01T00:00:00",
          "2023-02-01T00:00:00",
          "2023-03-01T00:00:00",
          "2023-04-01T00:00:00",
          "2023-05-01T00:00:00",
          "2023-06-01T00:00:00",
          "2023-07-01T00:00:00",
          "2023-08-01T00:00:00",
          "2023-09-01T00:00:00",
          "2023-10-01T00:00:00",
          "2023-11-01T00:00:00",
          "2023-12-01T00:00:00",
          "2024-01-01T00:00:00",
          "2024-02-01T00:00:00",
          "2024-03-01T00:00:00",
          "2024-04-01T00:00:00",
          "2024-05-01T00:00:00",
          "2024-06-01T00:00:00",
          "2024-07-01T00:00:00",
          "2024-08-01T00:00:00",
          "2024-09-01T00:00:00",
          "2024-10-01T00:00:00",
          "2024-11-01T00:00:00",
          "2024-12-01T00:00:00"
         ],
         "y": [
          16.713927314254367,
          16.93909755091122,
          17.16426778756808,
          17.382174468203747,
          17.6073447048606,
          17.82525138549627,
          18.050421622153124,
          18.27559185880998,
          18.48623498342446,
          18.711405220081314,
          18.929311900716982,
          19.154482137373837,
          19.372388818009505,
          19.597559054666362,
          19.822729291323217,
          20.040635971958885,
          20.26580620861574,
          20.483712889251407,
          20.70888312590826,
          20.93405336256512,
          21.137432931158408,
          22.55733791559035,
          22.600051680820297,
          22.644189238224584,
          22.686903003454535,
          22.731040560858823,
          22.775178118263103,
          22.817891883493058,
          22.86202944089734,
          22.904743206127293,
          22.94888076353158,
          22.993018320935864,
          23.03288450181715,
          23.077022059221438,
          23.119735824451393,
          23.163873381855677,
          23.206587147085628,
          23.25072470448991,
          23.2948622618942,
          23.33757602712415,
          23.381713584528434,
          23.42442734975839,
          23.468564907162673,
          23.512702464566956,
          23.552568645448247,
          23.59670620285253,
          23.639419968082485,
          23.683557525486766,
          23.72627129071672,
          23.770408848121008,
          23.81454640552529,
          23.857260170755243,
          23.901397728159527,
          23.944111493389478,
          23.988249050793762,
          24.03238660819805,
          24.07367658125367,
          24.117814138657955,
          24.160527903887907,
          24.20466546129219,
          24.247379226522146,
          24.291516783926433,
          24.335654341330713,
          24.378368106560668,
          24.42250566396495,
          24.465219429194903
         ]
        },
        {
         "line": {
          "color": "red",
          "width": 0
         },
         "mode": "lines",
         "showlegend": false,
         "type": "scatter",
         "x": [
          "2019-07-01T00:00:00",
          "2019-08-01T00:00:00",
          "2019-09-01T00:00:00",
          "2019-10-01T00:00:00",
          "2019-11-01T00:00:00",
          "2019-12-01T00:00:00",
          "2020-01-01T00:00:00",
          "2020-02-01T00:00:00",
          "2020-03-01T00:00:00",
          "2020-04-01T00:00:00",
          "2020-05-01T00:00:00",
          "2020-06-01T00:00:00",
          "2020-07-01T00:00:00",
          "2020-08-01T00:00:00",
          "2020-09-01T00:00:00",
          "2020-10-01T00:00:00",
          "2020-11-01T00:00:00",
          "2020-12-01T00:00:00",
          "2021-01-01T00:00:00",
          "2021-02-01T00:00:00",
          "2021-03-01T00:00:00",
          "2021-04-01T00:00:00",
          "2021-05-01T00:00:00",
          "2021-06-01T00:00:00",
          "2021-07-01T00:00:00",
          "2021-08-01T00:00:00",
          "2021-09-01T00:00:00",
          "2021-10-01T00:00:00",
          "2021-11-01T00:00:00",
          "2021-12-01T00:00:00",
          "2022-01-01T00:00:00",
          "2022-02-01T00:00:00",
          "2022-03-01T00:00:00",
          "2022-04-01T00:00:00",
          "2022-05-01T00:00:00",
          "2022-06-01T00:00:00",
          "2022-07-01T00:00:00",
          "2022-08-01T00:00:00",
          "2022-09-01T00:00:00",
          "2022-10-01T00:00:00",
          "2022-11-01T00:00:00",
          "2022-12-01T00:00:00",
          "2023-01-01T00:00:00",
          "2023-02-01T00:00:00",
          "2023-03-01T00:00:00",
          "2023-04-01T00:00:00",
          "2023-05-01T00:00:00",
          "2023-06-01T00:00:00",
          "2023-07-01T00:00:00",
          "2023-08-01T00:00:00",
          "2023-09-01T00:00:00",
          "2023-10-01T00:00:00",
          "2023-11-01T00:00:00",
          "2023-12-01T00:00:00",
          "2024-01-01T00:00:00",
          "2024-02-01T00:00:00",
          "2024-03-01T00:00:00",
          "2024-04-01T00:00:00",
          "2024-05-01T00:00:00",
          "2024-06-01T00:00:00",
          "2024-07-01T00:00:00",
          "2024-08-01T00:00:00",
          "2024-09-01T00:00:00",
          "2024-10-01T00:00:00",
          "2024-11-01T00:00:00",
          "2024-12-01T00:00:00"
         ],
         "y": [
          16.713927314253727,
          16.93909755091058,
          17.16426778756744,
          17.382174468203107,
          17.607344704859962,
          17.82525138549563,
          18.050421622152484,
          18.275591858809342,
          18.48623498342382,
          18.711405220080675,
          18.929311900716343,
          19.154482137373197,
          19.372388818008865,
          19.59755905466572,
          19.822729291322577,
          20.040635971958245,
          20.2658062086151,
          20.483712889250768,
          20.708883125907622,
          20.93405336256448,
          21.137432931157768,
          22.557337915589706,
          22.600051680819657,
          22.644189238223944,
          22.686903003453896,
          22.73104056085818,
          22.775178118262463,
          22.81789188349242,
          22.862029440896702,
          22.904743206126653,
          22.948880763530937,
          22.993018320935224,
          23.03288450181651,
          23.0770220592208,
          23.119735824450746,
          23.163873381855034,
          23.20658714708499,
          23.250724704489272,
          23.294862261893552,
          23.337576027123507,
          23.381713584527795,
          23.424427349757742,
          23.46856490716203,
          23.512702464566313,
          23.552568645447604,
          23.596706202851887,
          23.639419968081842,
          23.683557525486123,
          23.726271290716078,
          23.77040884812036,
          23.81454640552465,
          23.857260170754596,
          23.901397728158884,
          23.94411149338884,
          23.988249050793122,
          24.032386608197402,
          24.073676581253025,
          24.11781413865731,
          24.160527903887264,
          24.204665461291548,
          24.247379226521502,
          24.291516783925786,
          24.33565434133007,
          24.37836810656002,
          24.42250566396431,
          24.46521942919426
         ]
        },
        {
         "fill": "tonexty",
         "fillcolor": "rgba(255,0,0,0.1)",
         "line": {
          "color": "red",
          "width": 0
         },
         "mode": "lines",
         "name": "China 90% CI",
         "showlegend": false,
         "type": "scatter",
         "x": [
          "2019-07-01T00:00:00",
          "2019-08-01T00:00:00",
          "2019-09-01T00:00:00",
          "2019-10-01T00:00:00",
          "2019-11-01T00:00:00",
          "2019-12-01T00:00:00",
          "2020-01-01T00:00:00",
          "2020-02-01T00:00:00",
          "2020-03-01T00:00:00",
          "2020-04-01T00:00:00",
          "2020-05-01T00:00:00",
          "2020-06-01T00:00:00",
          "2020-07-01T00:00:00",
          "2020-08-01T00:00:00",
          "2020-09-01T00:00:00",
          "2020-10-01T00:00:00",
          "2020-11-01T00:00:00",
          "2020-12-01T00:00:00",
          "2021-01-01T00:00:00",
          "2021-02-01T00:00:00",
          "2021-03-01T00:00:00",
          "2021-04-01T00:00:00",
          "2021-05-01T00:00:00",
          "2021-06-01T00:00:00",
          "2021-07-01T00:00:00",
          "2021-08-01T00:00:00",
          "2021-09-01T00:00:00",
          "2021-10-01T00:00:00",
          "2021-11-01T00:00:00",
          "2021-12-01T00:00:00",
          "2022-01-01T00:00:00",
          "2022-02-01T00:00:00",
          "2022-03-01T00:00:00",
          "2022-04-01T00:00:00",
          "2022-05-01T00:00:00",
          "2022-06-01T00:00:00",
          "2022-07-01T00:00:00",
          "2022-08-01T00:00:00",
          "2022-09-01T00:00:00",
          "2022-10-01T00:00:00",
          "2022-11-01T00:00:00",
          "2022-12-01T00:00:00",
          "2023-01-01T00:00:00",
          "2023-02-01T00:00:00",
          "2023-03-01T00:00:00",
          "2023-04-01T00:00:00",
          "2023-05-01T00:00:00",
          "2023-06-01T00:00:00",
          "2023-07-01T00:00:00",
          "2023-08-01T00:00:00",
          "2023-09-01T00:00:00",
          "2023-10-01T00:00:00",
          "2023-11-01T00:00:00",
          "2023-12-01T00:00:00",
          "2024-01-01T00:00:00",
          "2024-02-01T00:00:00",
          "2024-03-01T00:00:00",
          "2024-04-01T00:00:00",
          "2024-05-01T00:00:00",
          "2024-06-01T00:00:00",
          "2024-07-01T00:00:00",
          "2024-08-01T00:00:00",
          "2024-09-01T00:00:00",
          "2024-10-01T00:00:00",
          "2024-11-01T00:00:00",
          "2024-12-01T00:00:00"
         ],
         "y": [
          16.713927314253727,
          16.93909755091058,
          17.16426778756744,
          17.382174468203107,
          17.607344704859962,
          17.82525138549563,
          18.050421622152484,
          18.275591858809342,
          18.48623498342382,
          18.711405220080675,
          18.929311900716343,
          19.154482137373197,
          19.372388818008865,
          19.59755905466572,
          19.822729291322577,
          20.040635971958245,
          20.2658062086151,
          20.483712889250768,
          20.708883125907622,
          20.93405336256448,
          21.137432931157768,
          22.557337915589706,
          22.600051680819657,
          22.644189238223944,
          22.686903003453896,
          22.73104056085818,
          22.775178118262463,
          22.81789188349242,
          22.862029440896702,
          22.904743206126653,
          22.948880763530937,
          22.993018320935224,
          23.03288450181651,
          23.0770220592208,
          23.119735824450746,
          23.163873381855034,
          23.20658714708499,
          23.250724704489272,
          23.294862261893552,
          23.337576027123507,
          23.381713584527795,
          23.424427349757742,
          23.46856490716203,
          23.512702464566313,
          23.552568645447604,
          23.596706202851887,
          23.639419968081842,
          23.683557525486123,
          23.726271290716078,
          23.77040884812036,
          23.81454640552465,
          23.857260170754596,
          23.901397728158884,
          23.94411149338884,
          23.988249050793122,
          24.032386608197402,
          24.073676581253025,
          24.11781413865731,
          24.160527903887264,
          24.204665461291548,
          24.247379226521502,
          24.291516783925786,
          24.33565434133007,
          24.37836810656002,
          24.42250566396431,
          24.46521942919426
         ]
        }
       ],
       "layout": {
        "annotations": [
         {
          "showarrow": false,
          "text": "October 2022<br>Export controls introduced",
          "x": 1665100800000,
          "xanchor": "left",
          "xref": "x",
          "y": 0,
          "yanchor": "bottom",
          "yref": "y domain"
         },
         {
          "font": {
           "color": "blue",
           "size": 12
          },
          "showarrow": false,
          "text": "4.8x/year<br>90% CI: 4.8-4.8x/year",
          "x": "2021-08-20T12:00:00",
          "y": 25.166854613486997
         },
         {
          "font": {
           "color": "red",
           "size": 12
          },
          "showarrow": false,
          "text": "3.3x/year<br>90% CI: 3.3-3.3x/year",
          "x": "2023-07-11T12:00:00",
          "y": 21.940509212459816
         }
        ],
        "height": 400,
        "legend": {
         "title": {
          "text": ""
         }
        },
        "margin": {
         "b": 10,
         "l": 10,
         "r": 10,
         "t": 40
        },
        "shapes": [
         {
          "line": {
           "color": "black",
           "dash": "dot",
           "width": 1
          },
          "type": "line",
          "x0": 1665100800000,
          "x1": 1665100800000,
          "xref": "x",
          "y0": 0,
          "y1": 1,
          "yref": "y domain"
         }
        ],
        "template": {
         "data": {
          "bar": [
           {
            "error_x": {
             "color": "#2a3f5f"
            },
            "error_y": {
             "color": "#2a3f5f"
            },
            "marker": {
             "line": {
              "color": "white",
              "width": 0.5
             },
             "pattern": {
              "fillmode": "overlay",
              "size": 10,
              "solidity": 0.2
             }
            },
            "type": "bar"
           }
          ],
          "barpolar": [
           {
            "marker": {
             "line": {
              "color": "white",
              "width": 0.5
             },
             "pattern": {
              "fillmode": "overlay",
              "size": 10,
              "solidity": 0.2
             }
            },
            "type": "barpolar"
           }
          ],
          "carpet": [
           {
            "aaxis": {
             "endlinecolor": "#2a3f5f",
             "gridcolor": "#C8D4E3",
             "linecolor": "#C8D4E3",
             "minorgridcolor": "#C8D4E3",
             "startlinecolor": "#2a3f5f"
            },
            "baxis": {
             "endlinecolor": "#2a3f5f",
             "gridcolor": "#C8D4E3",
             "linecolor": "#C8D4E3",
             "minorgridcolor": "#C8D4E3",
             "startlinecolor": "#2a3f5f"
            },
            "type": "carpet"
           }
          ],
          "choropleth": [
           {
            "colorbar": {
             "outlinewidth": 0,
             "ticks": ""
            },
            "type": "choropleth"
           }
          ],
          "contour": [
           {
            "colorbar": {
             "outlinewidth": 0,
             "ticks": ""
            },
            "colorscale": [
             [
              0,
              "#0d0887"
             ],
             [
              0.1111111111111111,
              "#46039f"
             ],
             [
              0.2222222222222222,
              "#7201a8"
             ],
             [
              0.3333333333333333,
              "#9c179e"
             ],
             [
              0.4444444444444444,
              "#bd3786"
             ],
             [
              0.5555555555555556,
              "#d8576b"
             ],
             [
              0.6666666666666666,
              "#ed7953"
             ],
             [
              0.7777777777777778,
              "#fb9f3a"
             ],
             [
              0.8888888888888888,
              "#fdca26"
             ],
             [
              1,
              "#f0f921"
             ]
            ],
            "type": "contour"
           }
          ],
          "contourcarpet": [
           {
            "colorbar": {
             "outlinewidth": 0,
             "ticks": ""
            },
            "type": "contourcarpet"
           }
          ],
          "heatmap": [
           {
            "colorbar": {
             "outlinewidth": 0,
             "ticks": ""
            },
            "colorscale": [
             [
              0,
              "#0d0887"
             ],
             [
              0.1111111111111111,
              "#46039f"
             ],
             [
              0.2222222222222222,
              "#7201a8"
             ],
             [
              0.3333333333333333,
              "#9c179e"
             ],
             [
              0.4444444444444444,
              "#bd3786"
             ],
             [
              0.5555555555555556,
              "#d8576b"
             ],
             [
              0.6666666666666666,
              "#ed7953"
             ],
             [
              0.7777777777777778,
              "#fb9f3a"
             ],
             [
              0.8888888888888888,
              "#fdca26"
             ],
             [
              1,
              "#f0f921"
             ]
            ],
            "type": "heatmap"
           }
          ],
          "heatmapgl": [
           {
            "colorbar": {
             "outlinewidth": 0,
             "ticks": ""
            },
            "colorscale": [
             [
              0,
              "#0d0887"
             ],
             [
              0.1111111111111111,
              "#46039f"
             ],
             [
              0.2222222222222222,
              "#7201a8"
             ],
             [
              0.3333333333333333,
              "#9c179e"
             ],
             [
              0.4444444444444444,
              "#bd3786"
             ],
             [
              0.5555555555555556,
              "#d8576b"
             ],
             [
              0.6666666666666666,
              "#ed7953"
             ],
             [
              0.7777777777777778,
              "#fb9f3a"
             ],
             [
              0.8888888888888888,
              "#fdca26"
             ],
             [
              1,
              "#f0f921"
             ]
            ],
            "type": "heatmapgl"
           }
          ],
          "histogram": [
           {
            "marker": {
             "pattern": {
              "fillmode": "overlay",
              "size": 10,
              "solidity": 0.2
             }
            },
            "type": "histogram"
           }
          ],
          "histogram2d": [
           {
            "colorbar": {
             "outlinewidth": 0,
             "ticks": ""
            },
            "colorscale": [
             [
              0,
              "#0d0887"
             ],
             [
              0.1111111111111111,
              "#46039f"
             ],
             [
              0.2222222222222222,
              "#7201a8"
             ],
             [
              0.3333333333333333,
              "#9c179e"
             ],
             [
              0.4444444444444444,
              "#bd3786"
             ],
             [
              0.5555555555555556,
              "#d8576b"
             ],
             [
              0.6666666666666666,
              "#ed7953"
             ],
             [
              0.7777777777777778,
              "#fb9f3a"
             ],
             [
              0.8888888888888888,
              "#fdca26"
             ],
             [
              1,
              "#f0f921"
             ]
            ],
            "type": "histogram2d"
           }
          ],
          "histogram2dcontour": [
           {
            "colorbar": {
             "outlinewidth": 0,
             "ticks": ""
            },
            "colorscale": [
             [
              0,
              "#0d0887"
             ],
             [
              0.1111111111111111,
              "#46039f"
             ],
             [
              0.2222222222222222,
              "#7201a8"
             ],
             [
              0.3333333333333333,
              "#9c179e"
             ],
             [
              0.4444444444444444,
              "#bd3786"
             ],
             [
              0.5555555555555556,
              "#d8576b"
             ],
             [
              0.6666666666666666,
              "#ed7953"
             ],
             [
              0.7777777777777778,
              "#fb9f3a"
             ],
             [
              0.8888888888888888,
              "#fdca26"
             ],
             [
              1,
              "#f0f921"
             ]
            ],
            "type": "histogram2dcontour"
           }
          ],
          "mesh3d": [
           {
            "colorbar": {
             "outlinewidth": 0,
             "ticks": ""
            },
            "type": "mesh3d"
           }
          ],
          "parcoords": [
           {
            "line": {
             "colorbar": {
              "outlinewidth": 0,
              "ticks": ""
             }
            },
            "type": "parcoords"
           }
          ],
          "pie": [
           {
            "automargin": true,
            "type": "pie"
           }
          ],
          "scatter": [
           {
            "fillpattern": {
             "fillmode": "overlay",
             "size": 10,
             "solidity": 0.2
            },
            "type": "scatter"
           }
          ],
          "scatter3d": [
           {
            "line": {
             "colorbar": {
              "outlinewidth": 0,
              "ticks": ""
             }
            },
            "marker": {
             "colorbar": {
              "outlinewidth": 0,
              "ticks": ""
             }
            },
            "type": "scatter3d"
           }
          ],
          "scattercarpet": [
           {
            "marker": {
             "colorbar": {
              "outlinewidth": 0,
              "ticks": ""
             }
            },
            "type": "scattercarpet"
           }
          ],
          "scattergeo": [
           {
            "marker": {
             "colorbar": {
              "outlinewidth": 0,
              "ticks": ""
             }
            },
            "type": "scattergeo"
           }
          ],
          "scattergl": [
           {
            "marker": {
             "colorbar": {
              "outlinewidth": 0,
              "ticks": ""
             }
            },
            "type": "scattergl"
           }
          ],
          "scattermapbox": [
           {
            "marker": {
             "colorbar": {
              "outlinewidth": 0,
              "ticks": ""
             }
            },
            "type": "scattermapbox"
           }
          ],
          "scatterpolar": [
           {
            "marker": {
             "colorbar": {
              "outlinewidth": 0,
              "ticks": ""
             }
            },
            "type": "scatterpolar"
           }
          ],
          "scatterpolargl": [
           {
            "marker": {
             "colorbar": {
              "outlinewidth": 0,
              "ticks": ""
             }
            },
            "type": "scatterpolargl"
           }
          ],
          "scatterternary": [
           {
            "marker": {
             "colorbar": {
              "outlinewidth": 0,
              "ticks": ""
             }
            },
            "type": "scatterternary"
           }
          ],
          "surface": [
           {
            "colorbar": {
             "outlinewidth": 0,
             "ticks": ""
            },
            "colorscale": [
             [
              0,
              "#0d0887"
             ],
             [
              0.1111111111111111,
              "#46039f"
             ],
             [
              0.2222222222222222,
              "#7201a8"
             ],
             [
              0.3333333333333333,
              "#9c179e"
             ],
             [
              0.4444444444444444,
              "#bd3786"
             ],
             [
              0.5555555555555556,
              "#d8576b"
             ],
             [
              0.6666666666666666,
              "#ed7953"
             ],
             [
              0.7777777777777778,
              "#fb9f3a"
             ],
             [
              0.8888888888888888,
              "#fdca26"
             ],
             [
              1,
              "#f0f921"
             ]
            ],
            "type": "surface"
           }
          ],
          "table": [
           {
            "cells": {
             "fill": {
              "color": "#EBF0F8"
             },
             "line": {
              "color": "white"
             }
            },
            "header": {
             "fill": {
              "color": "#C8D4E3"
             },
             "line": {
              "color": "white"
             }
            },
            "type": "table"
           }
          ]
         },
         "layout": {
          "annotationdefaults": {
           "arrowcolor": "#2a3f5f",
           "arrowhead": 0,
           "arrowwidth": 1
          },
          "autotypenumbers": "strict",
          "coloraxis": {
           "colorbar": {
            "outlinewidth": 0,
            "ticks": ""
           }
          },
          "colorscale": {
           "diverging": [
            [
             0,
             "#8e0152"
            ],
            [
             0.1,
             "#c51b7d"
            ],
            [
             0.2,
             "#de77ae"
            ],
            [
             0.3,
             "#f1b6da"
            ],
            [
             0.4,
             "#fde0ef"
            ],
            [
             0.5,
             "#f7f7f7"
            ],
            [
             0.6,
             "#e6f5d0"
            ],
            [
             0.7,
             "#b8e186"
            ],
            [
             0.8,
             "#7fbc41"
            ],
            [
             0.9,
             "#4d9221"
            ],
            [
             1,
             "#276419"
            ]
           ],
           "sequential": [
            [
             0,
             "#0d0887"
            ],
            [
             0.1111111111111111,
             "#46039f"
            ],
            [
             0.2222222222222222,
             "#7201a8"
            ],
            [
             0.3333333333333333,
             "#9c179e"
            ],
            [
             0.4444444444444444,
             "#bd3786"
            ],
            [
             0.5555555555555556,
             "#d8576b"
            ],
            [
             0.6666666666666666,
             "#ed7953"
            ],
            [
             0.7777777777777778,
             "#fb9f3a"
            ],
            [
             0.8888888888888888,
             "#fdca26"
            ],
            [
             1,
             "#f0f921"
            ]
           ],
           "sequentialminus": [
            [
             0,
             "#0d0887"
            ],
            [
             0.1111111111111111,
             "#46039f"
            ],
            [
             0.2222222222222222,
             "#7201a8"
            ],
            [
             0.3333333333333333,
             "#9c179e"
            ],
            [
             0.4444444444444444,
             "#bd3786"
            ],
            [
             0.5555555555555556,
             "#d8576b"
            ],
            [
             0.6666666666666666,
             "#ed7953"
            ],
            [
             0.7777777777777778,
             "#fb9f3a"
            ],
            [
             0.8888888888888888,
             "#fdca26"
            ],
            [
             1,
             "#f0f921"
            ]
           ]
          },
          "colorway": [
           "#636efa",
           "#EF553B",
           "#00cc96",
           "#ab63fa",
           "#FFA15A",
           "#19d3f3",
           "#FF6692",
           "#B6E880",
           "#FF97FF",
           "#FECB52"
          ],
          "font": {
           "color": "#2a3f5f"
          },
          "geo": {
           "bgcolor": "white",
           "lakecolor": "white",
           "landcolor": "white",
           "showlakes": true,
           "showland": true,
           "subunitcolor": "#C8D4E3"
          },
          "hoverlabel": {
           "align": "left"
          },
          "hovermode": "closest",
          "mapbox": {
           "style": "light"
          },
          "paper_bgcolor": "white",
          "plot_bgcolor": "white",
          "polar": {
           "angularaxis": {
            "gridcolor": "#EBF0F8",
            "linecolor": "#EBF0F8",
            "ticks": ""
           },
           "bgcolor": "white",
           "radialaxis": {
            "gridcolor": "#EBF0F8",
            "linecolor": "#EBF0F8",
            "ticks": ""
           }
          },
          "scene": {
           "xaxis": {
            "backgroundcolor": "white",
            "gridcolor": "#DFE8F3",
            "gridwidth": 2,
            "linecolor": "#EBF0F8",
            "showbackground": true,
            "ticks": "",
            "zerolinecolor": "#EBF0F8"
           },
           "yaxis": {
            "backgroundcolor": "white",
            "gridcolor": "#DFE8F3",
            "gridwidth": 2,
            "linecolor": "#EBF0F8",
            "showbackground": true,
            "ticks": "",
            "zerolinecolor": "#EBF0F8"
           },
           "zaxis": {
            "backgroundcolor": "white",
            "gridcolor": "#DFE8F3",
            "gridwidth": 2,
            "linecolor": "#EBF0F8",
            "showbackground": true,
            "ticks": "",
            "zerolinecolor": "#EBF0F8"
           }
          },
          "shapedefaults": {
           "line": {
            "color": "#2a3f5f"
           }
          },
          "ternary": {
           "aaxis": {
            "gridcolor": "#DFE8F3",
            "linecolor": "#A2B1C6",
            "ticks": ""
           },
           "baxis": {
            "gridcolor": "#DFE8F3",
            "linecolor": "#A2B1C6",
            "ticks": ""
           },
           "bgcolor": "white",
           "caxis": {
            "gridcolor": "#DFE8F3",
            "linecolor": "#A2B1C6",
            "ticks": ""
           }
          },
          "title": {
           "x": 0.05
          },
          "xaxis": {
           "automargin": true,
           "gridcolor": "#EBF0F8",
           "linecolor": "#EBF0F8",
           "ticks": "",
           "title": {
            "standoff": 15
           },
           "zerolinecolor": "#EBF0F8",
           "zerolinewidth": 2
          },
          "yaxis": {
           "automargin": true,
           "gridcolor": "#EBF0F8",
           "linecolor": "#EBF0F8",
           "ticks": "",
           "title": {
            "standoff": 15
           },
           "zerolinecolor": "#EBF0F8",
           "zerolinewidth": 2
          }
         }
        },
        "title": {
         "text": "Frontiers of training compute for LLMs inside and outside China"
        },
        "width": 800,
        "xaxis": {
         "title": {
          "text": "Publication date"
         }
        },
        "yaxis": {
         "tickmode": "array",
         "ticktext": [
          "10<sup>15</sup>",
          "10<sup>17</sup>",
          "10<sup>19</sup>",
          "10<sup>21</sup>",
          "10<sup>23</sup>",
          "10<sup>25</sup>"
         ],
         "tickvals": [
          15,
          17,
          19,
          21,
          23,
          25
         ],
         "title": {
          "text": "Training compute (FLOP)"
         }
        }
       }
      }
     },
     "metadata": {},
     "output_type": "display_data"
    }
   ],
   "source": [
    "# Graph of the different model fits using plotly\n",
    "model_types = {\n",
    "    'Non-China': 'Simple',\n",
    "    'China': 'Discontinuity',\n",
    "}\n",
    "# Parameters for each model selection\n",
    "model_params = {\n",
    "    'Simple': {\n",
    "        'kink_count': 0,\n",
    "        'allow_discontinuities': False,\n",
    "    },\n",
    "    'One kink': {\n",
    "        'kink_count': 1,\n",
    "        'allow_discontinuities': False,\n",
    "    },\n",
    "    'Discontinuity': {\n",
    "        'kink_count': 1,\n",
    "        'allow_discontinuities': True,\n",
    "    }\n",
    "}\n",
    "\n",
    "def plot_model(df, model_types, model_params):\n",
    "    fig = go.Figure()\n",
    "\n",
    "    # Plot the original data points\n",
    "    df_non_china = df[df['category'] == 'Non-China']\n",
    "    df_china = df[df['category'] == 'China']\n",
    "\n",
    "    fig.add_trace(go.Scatter(\n",
    "        x=df_non_china['date'], y=df_non_china['log_flop'],\n",
    "        mode='markers', name='Not developed in China', text=df_non_china['Model'],\n",
    "        marker=dict(color=colors['Non-China'], opacity=0.1, size=10)\n",
    "    ))\n",
    "    fig.add_trace(go.Scatter(\n",
    "        x=df_china['date'], y=df_china['log_flop'],\n",
    "        mode='markers', name='Developed in China', text=df_china['Model'],\n",
    "        marker=dict(color=colors['China'], opacity=0.1, size=10)\n",
    "    ))\n",
    "\n",
    "    # Show the export controls date\n",
    "    # Convert 2022-10-07 to seconds since epoch\n",
    "    export_controls_date = pd.Timestamp('2022-10-07').value / 1e6\n",
    "    fig.add_vline(x=export_controls_date, line_color='black', line_width=1, line_dash='dot', \n",
    "        annotation_text='October 2022<br>Export controls introduced', annotation_position='bottom right')\n",
    "\n",
    "    # non_china_date_grid = pd.date_range(start=non_china_df['date'].min(), end=non_china_df['date'].max(), freq='MS')\n",
    "    # china_date_grid = pd.date_range(start=china_df['date'].min(), end=china_df['date'].max(), freq='MS')\n",
    "    date_grid = pd.date_range(start=df['date'].min(), end=df['date'].max(), freq='MS')\n",
    "\n",
    "    trend_dfs = {}\n",
    "    ci_dfs = {}\n",
    "    fit_results = {}\n",
    "    for category, model_type in model_types.items():\n",
    "        params = model_params[model_type]\n",
    "        fit_result = fit_n_phase_exponential(df[df['category'] == category], **params)\n",
    "        fit_results[category] = fit_result\n",
    "\n",
    "        # Get the month of the first point, then use that to index the date_grid\n",
    "        start_month = df[df['category'] == category]['date'].min().month + 1\n",
    "        start_index = np.where(date_grid.month == start_month)[0][0]\n",
    "        log_flop = fit_result.predict(pd.Series(date_grid))\n",
    "        # To plot the bootstrapped mean prediction instead:\n",
    "        # log_flop = np.mean(regression_data[category]['bootstrap_predictions'][model_type], axis=0)\n",
    "\n",
    "        trend_dfs[category] = pd.DataFrame({\n",
    "            'date': date_grid[start_index:],\n",
    "            'log_flop': log_flop[start_index:],\n",
    "        })\n",
    "\n",
    "        # Get the confidence intervals\n",
    "        ci_data = calculate_confidence_intervals(regression_data[category]['bootstrap_predictions'], percentile=90)\n",
    "        ci_dfs[category] = pd.DataFrame({\n",
    "            'date': date_grid[start_index:],\n",
    "            'lower': ci_data[model_type]['lower'][start_index:],\n",
    "            'upper': ci_data[model_type]['upper'][start_index:],\n",
    "        })\n",
    "\n",
    "        # Plot the best fit line with confidence intervals\n",
    "        fig.add_trace(go.Scatter(\n",
    "            x=date_grid[start_index:], y=log_flop[start_index:],\n",
    "            mode='lines', name=f'{category} best fit line',\n",
    "            line=dict(color=colors[category], width=1),\n",
    "            showlegend=False,\n",
    "        ))\n",
    "        fig.add_trace(go.Scatter(\n",
    "            x=date_grid[start_index:],\n",
    "            y=ci_data[model_type]['lower'][start_index:],\n",
    "            mode='lines',\n",
    "            line=dict(color=colors[category], width=0),\n",
    "            showlegend=False,\n",
    "        ))\n",
    "        fig.add_trace(go.Scatter(\n",
    "            x=date_grid[start_index:],\n",
    "            y=ci_data[model_type]['upper'][start_index:],\n",
    "            mode='lines',\n",
    "            fill='tonexty',\n",
    "            fillcolor='rgba(0,0,255,0.1)' if category == 'Non-China' else 'rgba(255,0,0,0.1)',\n",
    "            line=dict(color=colors[category], width=0),\n",
    "            name=f'{category} 90% CI',\n",
    "            showlegend=False,\n",
    "        ))\n",
    "\n",
    "    # Add slope labels\n",
    "    for category in ['Non-China', 'China']:\n",
    "        category_df = df[df['category'] == category]\n",
    "        points = [category_df['date'].min()] + fit_results[category].break_points_dt + [category_df['date'].max()]\n",
    "        model_type = model_types[category]\n",
    "        best_slope = 10**regression_data[category]['models'][model_type].oom_year_slopes[-1]\n",
    "        slopes = bootstrap_summary_data[category]['bootstrap_slopes'][model_type]\n",
    "        slope_label = f'{best_slope:.1f}x/year<br>90% CI: {slopes[0]:.1f}-{slopes[1]:.1f}x/year'\n",
    "        for i in range(len(points) - 2, len(points) - 1):\n",
    "            mid = points[i] + (points[i+1] - points[i]) / 2\n",
    "            if category == 'China':\n",
    "                mid += pd.Timedelta(days=150)\n",
    "            y = fit_results[category].predict(pd.Series([mid]))[0]\n",
    "            fig.add_annotation(\n",
    "                x=mid, y=y + 1.8 * (1 if category == 'Non-China' else -1),\n",
    "                text=slope_label,\n",
    "                showarrow=False,\n",
    "                font=dict(size=12, color=colors[category])\n",
    "            )\n",
    "\n",
    "    # Update layout\n",
    "    title = f'Frontiers of training compute for LLMs inside and outside China'\n",
    "    fig.update_layout(\n",
    "        template='plotly_white',\n",
    "        width=800,\n",
    "        height=400,\n",
    "        title=title,\n",
    "        xaxis_title='Publication date',\n",
    "        yaxis_title='Training compute (FLOP)',\n",
    "        legend_title='',\n",
    "        margin=dict(l=10, r=10, t=40, b=10),\n",
    "        yaxis=dict(\n",
    "            tickmode='array',\n",
    "            tickvals=list(range(int(df['log_flop'].min()), int(df['log_flop'].max())+2, 2)),\n",
    "            ticktext=[f'10<sup>{i}</sup>' for i in range(int(df['log_flop'].min()), int(df['log_flop'].max())+2, 2)]\n",
    "        )\n",
    "    )\n",
    "\n",
    "    if save:\n",
    "        fname = f'compute_regression_china_model={model_types[\"China\"]}_non_china_model={model_types[\"Non-China\"]}_model_selection={model_selection}_frontier={frontier_selection}_top{top_n}_cutoff={cutoff_date}'\n",
    "        save_plot(fig, results_dir, fname)\n",
    "        \n",
    "        slope_df = pd.DataFrame({\n",
    "            'Category': ['Non-China', 'China'],\n",
    "            'Best fit slope': [10**regression_data[category]['models'][model_types[category]].oom_year_slopes[-1] for category in ['Non-China', 'China']],\n",
    "            '90% CI lower': [bootstrap_summary_data[category]['bootstrap_slopes'][model_types[category]][0] for category in ['Non-China', 'China']],\n",
    "            '90% CI upper': [bootstrap_summary_data[category]['bootstrap_slopes'][model_types[category]][1] for category in ['Non-China', 'China']],\n",
    "        })\n",
    "        slope_df.to_csv(results_dir + f'plot_data/recent_slopes_{fname}.csv', index=False)\n",
    "\n",
    "        df_non_china[['Model', 'Organization', 'date', 'log_flop']].to_csv(results_dir + f'plot_data/non_china_scatter_{fname}.csv', index=False)\n",
    "        df_china[['Model', 'Organization', 'date', 'log_flop']].to_csv(results_dir + f'plot_data/china_scatter_{fname}.csv', index=False)\n",
    "        trend_dfs['Non-China'][['date', 'log_flop']].to_csv(results_dir + f'plot_data/non_china_best_fit_line_{fname}.csv', index=False)\n",
    "        trend_dfs['China'][['date', 'log_flop']].to_csv(results_dir + f'plot_data/china_best_fit_line_{fname}.csv', index=False)\n",
    "        ci_dfs['Non-China'][['date', 'lower', 'upper']].to_csv(results_dir + f'plot_data/non_china_ci_{fname}.csv', index=False)\n",
    "        ci_dfs['China'][['date', 'lower', 'upper']].to_csv(results_dir + f'plot_data/china_ci_{fname}.csv', index=False)\n",
    "\n",
    "\n",
    "    for category in ['Non-China', 'China']:\n",
    "        print(category)\n",
    "        fit_result = fit_results[category]\n",
    "        simple_fit = fit_n_phase_exponential(df[df['category'] == category], 0)\n",
    "        bayes_factor = np.exp(-0.5 * (fit_result.bic - simple_fit.bic))\n",
    "        unadjusted_bayes_factor = np.exp(-0.5 * (fit_result.bic - (simple_fit.bic + 2*np.log(len(df[df['category'] == category])))))\n",
    "\n",
    "        print(f\"BIC score: {fit_result.bic}\")\n",
    "        bic_score_difference = fit_result.bic - simple_fit.bic\n",
    "        if bic_score_difference > 0:\n",
    "            print(f\"The simple exponential is preferred over this fit by a BIC score difference of {fit_result.bic - simple_fit.bic}\")\n",
    "        if bic_score_difference < 0:\n",
    "            print(f\"This fit is preferred over a simple exponential by a BIC score difference of {-(fit_result.bic - simple_fit.bic)}\")\n",
    "\n",
    "    fig.show()\n",
    "\n",
    "    return fit_result\n",
    "\n",
    "fit_result = plot_model(df_filtered, model_types, model_params)"
   ]
  },
  {
   "cell_type": "markdown",
   "metadata": {},
   "source": [
    "# Trends in the cumulative maximum"
   ]
  },
  {
   "cell_type": "code",
   "execution_count": 42,
   "metadata": {},
   "outputs": [
    {
     "data": {
      "application/vnd.plotly.v1+json": {
       "config": {
        "plotlyServerURL": "https://plot.ly"
       },
       "data": [
        {
         "line": {
          "color": "blue",
          "width": 1
         },
         "mode": "lines",
         "name": "Non-China frontier",
         "text": [
          "Big Transformer for Back-Translation",
          "GPT-2 (1.5B)",
          "Grover-Mega",
          "XLNet",
          "RoBERTa Large",
          "Megatron-BERT",
          "T5-11B",
          "Meena",
          "GPT-3 175B (davinci)",
          "Jurassic-1-Jumbo",
          "Megatron-Turing NLG 530B",
          "PaLM (540B)",
          "GPT-3.5",
          "GPT-4",
          "Gemini 1.0 Ultra",
          "Grok-2"
         ],
         "type": "scatter",
         "x": [
          "2018-08-28T00:00:00",
          "2019-02-14T00:00:00",
          "2019-05-29T00:00:00",
          "2019-06-01T00:00:00",
          "2019-07-01T00:00:00",
          "2019-09-17T00:00:00",
          "2019-10-23T00:00:00",
          "2020-01-28T00:00:00",
          "2020-05-28T00:00:00",
          "2021-08-11T00:00:00",
          "2021-10-11T00:00:00",
          "2022-04-04T00:00:00",
          "2022-11-28T00:00:00",
          "2023-03-15T00:00:00",
          "2023-12-06T00:00:00",
          "2024-08-13T00:00:00"
         ],
         "y": [
          20.679500575799285,
          21.283301228703777,
          21.75587485567249,
          21.79169064902012,
          21.929761117107013,
          22.342422680822207,
          22.518513939877888,
          23.049218022670182,
          23.496929648073216,
          23.568201724066995,
          24.068185861746162,
          24.402639612897094,
          24.411282913017384,
          25.32221929473392,
          25.698970004344705,
          25.724275951543138
         ]
        },
        {
         "line": {
          "color": "red",
          "width": 1
         },
         "mode": "lines",
         "name": "China frontier",
         "text": [
          "Tensorized Transformer (257M)",
          "Segatron XL large, M=384",
          "ERNIE-GEN (large)",
          "CPM-Large",
          "Wu Dao - Wen Lan",
          "GLM-10B",
          "PanGu-α",
          "Yuan 1.0",
          "ERNIE 3.0 Titan",
          "Hunyuan",
          "Qwen-72B",
          "GLM-4 (0116)",
          "Doubao-pro"
         ],
         "type": "scatter",
         "x": [
          "2019-06-24T00:00:00",
          "2020-04-30T00:00:00",
          "2020-08-06T00:00:00",
          "2020-12-01T00:00:00",
          "2021-03-01T00:00:00",
          "2021-03-18T00:00:00",
          "2021-04-25T00:00:00",
          "2021-10-12T00:00:00",
          "2021-12-23T00:00:00",
          "2023-09-07T00:00:00",
          "2023-11-30T00:00:00",
          "2024-01-17T00:00:00",
          "2024-05-15T00:00:00"
         ],
         "y": [
          18.67760695272049,
          19.423245873936807,
          20.30102999566398,
          21.255272505103306,
          21.857304700694954,
          22.578639209968074,
          22.708590845150344,
          23.548757828573716,
          24.017909395896687,
          24.079181246047625,
          24.113943352306837,
          25.079181246047625,
          25.398807730203263
         ]
        }
       ],
       "layout": {
        "template": {
         "data": {
          "bar": [
           {
            "error_x": {
             "color": "#2a3f5f"
            },
            "error_y": {
             "color": "#2a3f5f"
            },
            "marker": {
             "line": {
              "color": "#E5ECF6",
              "width": 0.5
             },
             "pattern": {
              "fillmode": "overlay",
              "size": 10,
              "solidity": 0.2
             }
            },
            "type": "bar"
           }
          ],
          "barpolar": [
           {
            "marker": {
             "line": {
              "color": "#E5ECF6",
              "width": 0.5
             },
             "pattern": {
              "fillmode": "overlay",
              "size": 10,
              "solidity": 0.2
             }
            },
            "type": "barpolar"
           }
          ],
          "carpet": [
           {
            "aaxis": {
             "endlinecolor": "#2a3f5f",
             "gridcolor": "white",
             "linecolor": "white",
             "minorgridcolor": "white",
             "startlinecolor": "#2a3f5f"
            },
            "baxis": {
             "endlinecolor": "#2a3f5f",
             "gridcolor": "white",
             "linecolor": "white",
             "minorgridcolor": "white",
             "startlinecolor": "#2a3f5f"
            },
            "type": "carpet"
           }
          ],
          "choropleth": [
           {
            "colorbar": {
             "outlinewidth": 0,
             "ticks": ""
            },
            "type": "choropleth"
           }
          ],
          "contour": [
           {
            "colorbar": {
             "outlinewidth": 0,
             "ticks": ""
            },
            "colorscale": [
             [
              0,
              "#0d0887"
             ],
             [
              0.1111111111111111,
              "#46039f"
             ],
             [
              0.2222222222222222,
              "#7201a8"
             ],
             [
              0.3333333333333333,
              "#9c179e"
             ],
             [
              0.4444444444444444,
              "#bd3786"
             ],
             [
              0.5555555555555556,
              "#d8576b"
             ],
             [
              0.6666666666666666,
              "#ed7953"
             ],
             [
              0.7777777777777778,
              "#fb9f3a"
             ],
             [
              0.8888888888888888,
              "#fdca26"
             ],
             [
              1,
              "#f0f921"
             ]
            ],
            "type": "contour"
           }
          ],
          "contourcarpet": [
           {
            "colorbar": {
             "outlinewidth": 0,
             "ticks": ""
            },
            "type": "contourcarpet"
           }
          ],
          "heatmap": [
           {
            "colorbar": {
             "outlinewidth": 0,
             "ticks": ""
            },
            "colorscale": [
             [
              0,
              "#0d0887"
             ],
             [
              0.1111111111111111,
              "#46039f"
             ],
             [
              0.2222222222222222,
              "#7201a8"
             ],
             [
              0.3333333333333333,
              "#9c179e"
             ],
             [
              0.4444444444444444,
              "#bd3786"
             ],
             [
              0.5555555555555556,
              "#d8576b"
             ],
             [
              0.6666666666666666,
              "#ed7953"
             ],
             [
              0.7777777777777778,
              "#fb9f3a"
             ],
             [
              0.8888888888888888,
              "#fdca26"
             ],
             [
              1,
              "#f0f921"
             ]
            ],
            "type": "heatmap"
           }
          ],
          "heatmapgl": [
           {
            "colorbar": {
             "outlinewidth": 0,
             "ticks": ""
            },
            "colorscale": [
             [
              0,
              "#0d0887"
             ],
             [
              0.1111111111111111,
              "#46039f"
             ],
             [
              0.2222222222222222,
              "#7201a8"
             ],
             [
              0.3333333333333333,
              "#9c179e"
             ],
             [
              0.4444444444444444,
              "#bd3786"
             ],
             [
              0.5555555555555556,
              "#d8576b"
             ],
             [
              0.6666666666666666,
              "#ed7953"
             ],
             [
              0.7777777777777778,
              "#fb9f3a"
             ],
             [
              0.8888888888888888,
              "#fdca26"
             ],
             [
              1,
              "#f0f921"
             ]
            ],
            "type": "heatmapgl"
           }
          ],
          "histogram": [
           {
            "marker": {
             "pattern": {
              "fillmode": "overlay",
              "size": 10,
              "solidity": 0.2
             }
            },
            "type": "histogram"
           }
          ],
          "histogram2d": [
           {
            "colorbar": {
             "outlinewidth": 0,
             "ticks": ""
            },
            "colorscale": [
             [
              0,
              "#0d0887"
             ],
             [
              0.1111111111111111,
              "#46039f"
             ],
             [
              0.2222222222222222,
              "#7201a8"
             ],
             [
              0.3333333333333333,
              "#9c179e"
             ],
             [
              0.4444444444444444,
              "#bd3786"
             ],
             [
              0.5555555555555556,
              "#d8576b"
             ],
             [
              0.6666666666666666,
              "#ed7953"
             ],
             [
              0.7777777777777778,
              "#fb9f3a"
             ],
             [
              0.8888888888888888,
              "#fdca26"
             ],
             [
              1,
              "#f0f921"
             ]
            ],
            "type": "histogram2d"
           }
          ],
          "histogram2dcontour": [
           {
            "colorbar": {
             "outlinewidth": 0,
             "ticks": ""
            },
            "colorscale": [
             [
              0,
              "#0d0887"
             ],
             [
              0.1111111111111111,
              "#46039f"
             ],
             [
              0.2222222222222222,
              "#7201a8"
             ],
             [
              0.3333333333333333,
              "#9c179e"
             ],
             [
              0.4444444444444444,
              "#bd3786"
             ],
             [
              0.5555555555555556,
              "#d8576b"
             ],
             [
              0.6666666666666666,
              "#ed7953"
             ],
             [
              0.7777777777777778,
              "#fb9f3a"
             ],
             [
              0.8888888888888888,
              "#fdca26"
             ],
             [
              1,
              "#f0f921"
             ]
            ],
            "type": "histogram2dcontour"
           }
          ],
          "mesh3d": [
           {
            "colorbar": {
             "outlinewidth": 0,
             "ticks": ""
            },
            "type": "mesh3d"
           }
          ],
          "parcoords": [
           {
            "line": {
             "colorbar": {
              "outlinewidth": 0,
              "ticks": ""
             }
            },
            "type": "parcoords"
           }
          ],
          "pie": [
           {
            "automargin": true,
            "type": "pie"
           }
          ],
          "scatter": [
           {
            "fillpattern": {
             "fillmode": "overlay",
             "size": 10,
             "solidity": 0.2
            },
            "type": "scatter"
           }
          ],
          "scatter3d": [
           {
            "line": {
             "colorbar": {
              "outlinewidth": 0,
              "ticks": ""
             }
            },
            "marker": {
             "colorbar": {
              "outlinewidth": 0,
              "ticks": ""
             }
            },
            "type": "scatter3d"
           }
          ],
          "scattercarpet": [
           {
            "marker": {
             "colorbar": {
              "outlinewidth": 0,
              "ticks": ""
             }
            },
            "type": "scattercarpet"
           }
          ],
          "scattergeo": [
           {
            "marker": {
             "colorbar": {
              "outlinewidth": 0,
              "ticks": ""
             }
            },
            "type": "scattergeo"
           }
          ],
          "scattergl": [
           {
            "marker": {
             "colorbar": {
              "outlinewidth": 0,
              "ticks": ""
             }
            },
            "type": "scattergl"
           }
          ],
          "scattermapbox": [
           {
            "marker": {
             "colorbar": {
              "outlinewidth": 0,
              "ticks": ""
             }
            },
            "type": "scattermapbox"
           }
          ],
          "scatterpolar": [
           {
            "marker": {
             "colorbar": {
              "outlinewidth": 0,
              "ticks": ""
             }
            },
            "type": "scatterpolar"
           }
          ],
          "scatterpolargl": [
           {
            "marker": {
             "colorbar": {
              "outlinewidth": 0,
              "ticks": ""
             }
            },
            "type": "scatterpolargl"
           }
          ],
          "scatterternary": [
           {
            "marker": {
             "colorbar": {
              "outlinewidth": 0,
              "ticks": ""
             }
            },
            "type": "scatterternary"
           }
          ],
          "surface": [
           {
            "colorbar": {
             "outlinewidth": 0,
             "ticks": ""
            },
            "colorscale": [
             [
              0,
              "#0d0887"
             ],
             [
              0.1111111111111111,
              "#46039f"
             ],
             [
              0.2222222222222222,
              "#7201a8"
             ],
             [
              0.3333333333333333,
              "#9c179e"
             ],
             [
              0.4444444444444444,
              "#bd3786"
             ],
             [
              0.5555555555555556,
              "#d8576b"
             ],
             [
              0.6666666666666666,
              "#ed7953"
             ],
             [
              0.7777777777777778,
              "#fb9f3a"
             ],
             [
              0.8888888888888888,
              "#fdca26"
             ],
             [
              1,
              "#f0f921"
             ]
            ],
            "type": "surface"
           }
          ],
          "table": [
           {
            "cells": {
             "fill": {
              "color": "#EBF0F8"
             },
             "line": {
              "color": "white"
             }
            },
            "header": {
             "fill": {
              "color": "#C8D4E3"
             },
             "line": {
              "color": "white"
             }
            },
            "type": "table"
           }
          ]
         },
         "layout": {
          "annotationdefaults": {
           "arrowcolor": "#2a3f5f",
           "arrowhead": 0,
           "arrowwidth": 1
          },
          "autotypenumbers": "strict",
          "coloraxis": {
           "colorbar": {
            "outlinewidth": 0,
            "ticks": ""
           }
          },
          "colorscale": {
           "diverging": [
            [
             0,
             "#8e0152"
            ],
            [
             0.1,
             "#c51b7d"
            ],
            [
             0.2,
             "#de77ae"
            ],
            [
             0.3,
             "#f1b6da"
            ],
            [
             0.4,
             "#fde0ef"
            ],
            [
             0.5,
             "#f7f7f7"
            ],
            [
             0.6,
             "#e6f5d0"
            ],
            [
             0.7,
             "#b8e186"
            ],
            [
             0.8,
             "#7fbc41"
            ],
            [
             0.9,
             "#4d9221"
            ],
            [
             1,
             "#276419"
            ]
           ],
           "sequential": [
            [
             0,
             "#0d0887"
            ],
            [
             0.1111111111111111,
             "#46039f"
            ],
            [
             0.2222222222222222,
             "#7201a8"
            ],
            [
             0.3333333333333333,
             "#9c179e"
            ],
            [
             0.4444444444444444,
             "#bd3786"
            ],
            [
             0.5555555555555556,
             "#d8576b"
            ],
            [
             0.6666666666666666,
             "#ed7953"
            ],
            [
             0.7777777777777778,
             "#fb9f3a"
            ],
            [
             0.8888888888888888,
             "#fdca26"
            ],
            [
             1,
             "#f0f921"
            ]
           ],
           "sequentialminus": [
            [
             0,
             "#0d0887"
            ],
            [
             0.1111111111111111,
             "#46039f"
            ],
            [
             0.2222222222222222,
             "#7201a8"
            ],
            [
             0.3333333333333333,
             "#9c179e"
            ],
            [
             0.4444444444444444,
             "#bd3786"
            ],
            [
             0.5555555555555556,
             "#d8576b"
            ],
            [
             0.6666666666666666,
             "#ed7953"
            ],
            [
             0.7777777777777778,
             "#fb9f3a"
            ],
            [
             0.8888888888888888,
             "#fdca26"
            ],
            [
             1,
             "#f0f921"
            ]
           ]
          },
          "colorway": [
           "#636efa",
           "#EF553B",
           "#00cc96",
           "#ab63fa",
           "#FFA15A",
           "#19d3f3",
           "#FF6692",
           "#B6E880",
           "#FF97FF",
           "#FECB52"
          ],
          "font": {
           "color": "#2a3f5f"
          },
          "geo": {
           "bgcolor": "white",
           "lakecolor": "white",
           "landcolor": "#E5ECF6",
           "showlakes": true,
           "showland": true,
           "subunitcolor": "white"
          },
          "hoverlabel": {
           "align": "left"
          },
          "hovermode": "closest",
          "mapbox": {
           "style": "light"
          },
          "paper_bgcolor": "white",
          "plot_bgcolor": "#E5ECF6",
          "polar": {
           "angularaxis": {
            "gridcolor": "white",
            "linecolor": "white",
            "ticks": ""
           },
           "bgcolor": "#E5ECF6",
           "radialaxis": {
            "gridcolor": "white",
            "linecolor": "white",
            "ticks": ""
           }
          },
          "scene": {
           "xaxis": {
            "backgroundcolor": "#E5ECF6",
            "gridcolor": "white",
            "gridwidth": 2,
            "linecolor": "white",
            "showbackground": true,
            "ticks": "",
            "zerolinecolor": "white"
           },
           "yaxis": {
            "backgroundcolor": "#E5ECF6",
            "gridcolor": "white",
            "gridwidth": 2,
            "linecolor": "white",
            "showbackground": true,
            "ticks": "",
            "zerolinecolor": "white"
           },
           "zaxis": {
            "backgroundcolor": "#E5ECF6",
            "gridcolor": "white",
            "gridwidth": 2,
            "linecolor": "white",
            "showbackground": true,
            "ticks": "",
            "zerolinecolor": "white"
           }
          },
          "shapedefaults": {
           "line": {
            "color": "#2a3f5f"
           }
          },
          "ternary": {
           "aaxis": {
            "gridcolor": "white",
            "linecolor": "white",
            "ticks": ""
           },
           "baxis": {
            "gridcolor": "white",
            "linecolor": "white",
            "ticks": ""
           },
           "bgcolor": "#E5ECF6",
           "caxis": {
            "gridcolor": "white",
            "linecolor": "white",
            "ticks": ""
           }
          },
          "title": {
           "x": 0.05
          },
          "xaxis": {
           "automargin": true,
           "gridcolor": "white",
           "linecolor": "white",
           "ticks": "",
           "title": {
            "standoff": 15
           },
           "zerolinecolor": "white",
           "zerolinewidth": 2
          },
          "yaxis": {
           "automargin": true,
           "gridcolor": "white",
           "linecolor": "white",
           "ticks": "",
           "title": {
            "standoff": 15
           },
           "zerolinecolor": "white",
           "zerolinewidth": 2
          }
         }
        }
       }
      }
     },
     "metadata": {},
     "output_type": "display_data"
    }
   ],
   "source": [
    "def get_frontier(df, x_col, y_col):\n",
    "    # Sort the dataframe by x_col ascending and y_col descending\n",
    "    df_sorted = df.sort_values([x_col, y_col], ascending=[True, False])\n",
    "    frontier = []\n",
    "    max_y = 0.3  # Excludes models below random chance level\n",
    "    for _, row in df_sorted.iterrows():\n",
    "        if row[y_col] > max_y:\n",
    "            frontier.append(row)\n",
    "            max_y = row[y_col]\n",
    "    return pd.DataFrame(frontier)\n",
    "\n",
    "fig = go.Figure()\n",
    "for category in ['Non-China', 'China']:\n",
    "    frontier = get_frontier(df_filtered[df_filtered['category'] == category], 'date', 'log_flop')\n",
    "    fig.add_trace(go.Scatter(\n",
    "        x=frontier['date'],\n",
    "        y=frontier['log_flop'],\n",
    "        mode='lines', \n",
    "        text=frontier['Model'],\n",
    "        name=f'{category} frontier',\n",
    "        line=dict(color=colors[category], width=1),\n",
    "    ))\n",
    "fig.show()"
   ]
  }
 ],
 "metadata": {
  "kernelspec": {
   "display_name": "Python 3 (ipykernel)",
   "language": "python",
   "name": "python3"
  },
  "language_info": {
   "codemirror_mode": {
    "name": "ipython",
    "version": 3
   },
   "file_extension": ".py",
   "mimetype": "text/x-python",
   "name": "python",
   "nbconvert_exporter": "python",
   "pygments_lexer": "ipython3",
   "version": "3.12.7"
  }
 },
 "nbformat": 4,
 "nbformat_minor": 4
}
